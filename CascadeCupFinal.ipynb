{
  "nbformat": 4,
  "nbformat_minor": 0,
  "metadata": {
    "colab": {
      "name": "CascadeCupFinal.ipynb",
      "provenance": [],
      "collapsed_sections": []
    },
    "kernelspec": {
      "name": "python3",
      "display_name": "Python 3"
    },
    "language_info": {
      "name": "python"
    }
  },
  "cells": [
    {
      "cell_type": "code",
      "source": [
        "!pip install tensorflow-addons==0.8.3\n",
        "!pip install tensorflow==2.2.0-rc3\n",
        "\n",
        "\n",
        "from tensorflow_addons import losses\n",
        "import tensorflow as tf\n",
        "from tensorflow import keras"
      ],
      "metadata": {
        "id": "H4Js-psJYnCS",
        "colab": {
          "base_uri": "https://localhost:8080/"
        },
        "outputId": "e0187fc5-f93e-4ad5-da2c-5b8ed394aa2a"
      },
      "execution_count": null,
      "outputs": [
        {
          "output_type": "stream",
          "name": "stdout",
          "text": [
            "Collecting tensorflow-addons==0.8.3\n",
            "  Downloading tensorflow_addons-0.8.3-cp37-cp37m-manylinux2010_x86_64.whl (1.0 MB)\n",
            "\u001b[?25l\r\u001b[K     |▎                               | 10 kB 29.4 MB/s eta 0:00:01\r\u001b[K     |▋                               | 20 kB 34.6 MB/s eta 0:00:01\r\u001b[K     |█                               | 30 kB 39.0 MB/s eta 0:00:01\r\u001b[K     |█▎                              | 40 kB 26.0 MB/s eta 0:00:01\r\u001b[K     |█▋                              | 51 kB 15.4 MB/s eta 0:00:01\r\u001b[K     |██                              | 61 kB 14.7 MB/s eta 0:00:01\r\u001b[K     |██▎                             | 71 kB 11.9 MB/s eta 0:00:01\r\u001b[K     |██▋                             | 81 kB 13.0 MB/s eta 0:00:01\r\u001b[K     |███                             | 92 kB 14.3 MB/s eta 0:00:01\r\u001b[K     |███▎                            | 102 kB 13.2 MB/s eta 0:00:01\r\u001b[K     |███▋                            | 112 kB 13.2 MB/s eta 0:00:01\r\u001b[K     |████                            | 122 kB 13.2 MB/s eta 0:00:01\r\u001b[K     |████▎                           | 133 kB 13.2 MB/s eta 0:00:01\r\u001b[K     |████▋                           | 143 kB 13.2 MB/s eta 0:00:01\r\u001b[K     |████▉                           | 153 kB 13.2 MB/s eta 0:00:01\r\u001b[K     |█████▏                          | 163 kB 13.2 MB/s eta 0:00:01\r\u001b[K     |█████▌                          | 174 kB 13.2 MB/s eta 0:00:01\r\u001b[K     |█████▉                          | 184 kB 13.2 MB/s eta 0:00:01\r\u001b[K     |██████▏                         | 194 kB 13.2 MB/s eta 0:00:01\r\u001b[K     |██████▌                         | 204 kB 13.2 MB/s eta 0:00:01\r\u001b[K     |██████▉                         | 215 kB 13.2 MB/s eta 0:00:01\r\u001b[K     |███████▏                        | 225 kB 13.2 MB/s eta 0:00:01\r\u001b[K     |███████▌                        | 235 kB 13.2 MB/s eta 0:00:01\r\u001b[K     |███████▉                        | 245 kB 13.2 MB/s eta 0:00:01\r\u001b[K     |████████▏                       | 256 kB 13.2 MB/s eta 0:00:01\r\u001b[K     |████████▌                       | 266 kB 13.2 MB/s eta 0:00:01\r\u001b[K     |████████▉                       | 276 kB 13.2 MB/s eta 0:00:01\r\u001b[K     |█████████▏                      | 286 kB 13.2 MB/s eta 0:00:01\r\u001b[K     |█████████▍                      | 296 kB 13.2 MB/s eta 0:00:01\r\u001b[K     |█████████▊                      | 307 kB 13.2 MB/s eta 0:00:01\r\u001b[K     |██████████                      | 317 kB 13.2 MB/s eta 0:00:01\r\u001b[K     |██████████▍                     | 327 kB 13.2 MB/s eta 0:00:01\r\u001b[K     |██████████▊                     | 337 kB 13.2 MB/s eta 0:00:01\r\u001b[K     |███████████                     | 348 kB 13.2 MB/s eta 0:00:01\r\u001b[K     |███████████▍                    | 358 kB 13.2 MB/s eta 0:00:01\r\u001b[K     |███████████▊                    | 368 kB 13.2 MB/s eta 0:00:01\r\u001b[K     |████████████                    | 378 kB 13.2 MB/s eta 0:00:01\r\u001b[K     |████████████▍                   | 389 kB 13.2 MB/s eta 0:00:01\r\u001b[K     |████████████▊                   | 399 kB 13.2 MB/s eta 0:00:01\r\u001b[K     |█████████████                   | 409 kB 13.2 MB/s eta 0:00:01\r\u001b[K     |█████████████▍                  | 419 kB 13.2 MB/s eta 0:00:01\r\u001b[K     |█████████████▊                  | 430 kB 13.2 MB/s eta 0:00:01\r\u001b[K     |██████████████                  | 440 kB 13.2 MB/s eta 0:00:01\r\u001b[K     |██████████████▎                 | 450 kB 13.2 MB/s eta 0:00:01\r\u001b[K     |██████████████▋                 | 460 kB 13.2 MB/s eta 0:00:01\r\u001b[K     |███████████████                 | 471 kB 13.2 MB/s eta 0:00:01\r\u001b[K     |███████████████▎                | 481 kB 13.2 MB/s eta 0:00:01\r\u001b[K     |███████████████▋                | 491 kB 13.2 MB/s eta 0:00:01\r\u001b[K     |████████████████                | 501 kB 13.2 MB/s eta 0:00:01\r\u001b[K     |████████████████▎               | 512 kB 13.2 MB/s eta 0:00:01\r\u001b[K     |████████████████▋               | 522 kB 13.2 MB/s eta 0:00:01\r\u001b[K     |█████████████████               | 532 kB 13.2 MB/s eta 0:00:01\r\u001b[K     |█████████████████▎              | 542 kB 13.2 MB/s eta 0:00:01\r\u001b[K     |█████████████████▋              | 552 kB 13.2 MB/s eta 0:00:01\r\u001b[K     |██████████████████              | 563 kB 13.2 MB/s eta 0:00:01\r\u001b[K     |██████████████████▎             | 573 kB 13.2 MB/s eta 0:00:01\r\u001b[K     |██████████████████▋             | 583 kB 13.2 MB/s eta 0:00:01\r\u001b[K     |██████████████████▉             | 593 kB 13.2 MB/s eta 0:00:01\r\u001b[K     |███████████████████▏            | 604 kB 13.2 MB/s eta 0:00:01\r\u001b[K     |███████████████████▌            | 614 kB 13.2 MB/s eta 0:00:01\r\u001b[K     |███████████████████▉            | 624 kB 13.2 MB/s eta 0:00:01\r\u001b[K     |████████████████████▏           | 634 kB 13.2 MB/s eta 0:00:01\r\u001b[K     |████████████████████▌           | 645 kB 13.2 MB/s eta 0:00:01\r\u001b[K     |████████████████████▉           | 655 kB 13.2 MB/s eta 0:00:01\r\u001b[K     |█████████████████████▏          | 665 kB 13.2 MB/s eta 0:00:01\r\u001b[K     |█████████████████████▌          | 675 kB 13.2 MB/s eta 0:00:01\r\u001b[K     |█████████████████████▉          | 686 kB 13.2 MB/s eta 0:00:01\r\u001b[K     |██████████████████████▏         | 696 kB 13.2 MB/s eta 0:00:01\r\u001b[K     |██████████████████████▌         | 706 kB 13.2 MB/s eta 0:00:01\r\u001b[K     |██████████████████████▉         | 716 kB 13.2 MB/s eta 0:00:01\r\u001b[K     |███████████████████████▏        | 727 kB 13.2 MB/s eta 0:00:01\r\u001b[K     |███████████████████████▍        | 737 kB 13.2 MB/s eta 0:00:01\r\u001b[K     |███████████████████████▊        | 747 kB 13.2 MB/s eta 0:00:01\r\u001b[K     |████████████████████████        | 757 kB 13.2 MB/s eta 0:00:01\r\u001b[K     |████████████████████████▍       | 768 kB 13.2 MB/s eta 0:00:01\r\u001b[K     |████████████████████████▊       | 778 kB 13.2 MB/s eta 0:00:01\r\u001b[K     |█████████████████████████       | 788 kB 13.2 MB/s eta 0:00:01\r\u001b[K     |█████████████████████████▍      | 798 kB 13.2 MB/s eta 0:00:01\r\u001b[K     |█████████████████████████▊      | 808 kB 13.2 MB/s eta 0:00:01\r\u001b[K     |██████████████████████████      | 819 kB 13.2 MB/s eta 0:00:01\r\u001b[K     |██████████████████████████▍     | 829 kB 13.2 MB/s eta 0:00:01\r\u001b[K     |██████████████████████████▊     | 839 kB 13.2 MB/s eta 0:00:01\r\u001b[K     |███████████████████████████     | 849 kB 13.2 MB/s eta 0:00:01\r\u001b[K     |███████████████████████████▍    | 860 kB 13.2 MB/s eta 0:00:01\r\u001b[K     |███████████████████████████▊    | 870 kB 13.2 MB/s eta 0:00:01\r\u001b[K     |████████████████████████████    | 880 kB 13.2 MB/s eta 0:00:01\r\u001b[K     |████████████████████████████▎   | 890 kB 13.2 MB/s eta 0:00:01\r\u001b[K     |████████████████████████████▋   | 901 kB 13.2 MB/s eta 0:00:01\r\u001b[K     |█████████████████████████████   | 911 kB 13.2 MB/s eta 0:00:01\r\u001b[K     |█████████████████████████████▎  | 921 kB 13.2 MB/s eta 0:00:01\r\u001b[K     |█████████████████████████████▋  | 931 kB 13.2 MB/s eta 0:00:01\r\u001b[K     |██████████████████████████████  | 942 kB 13.2 MB/s eta 0:00:01\r\u001b[K     |██████████████████████████████▎ | 952 kB 13.2 MB/s eta 0:00:01\r\u001b[K     |██████████████████████████████▋ | 962 kB 13.2 MB/s eta 0:00:01\r\u001b[K     |███████████████████████████████ | 972 kB 13.2 MB/s eta 0:00:01\r\u001b[K     |███████████████████████████████▎| 983 kB 13.2 MB/s eta 0:00:01\r\u001b[K     |███████████████████████████████▋| 993 kB 13.2 MB/s eta 0:00:01\r\u001b[K     |████████████████████████████████| 1.0 MB 13.2 MB/s eta 0:00:01\r\u001b[K     |████████████████████████████████| 1.0 MB 13.2 MB/s \n",
            "\u001b[?25hRequirement already satisfied: typeguard in /usr/local/lib/python3.7/dist-packages (from tensorflow-addons==0.8.3) (2.7.1)\n",
            "Installing collected packages: tensorflow-addons\n",
            "Successfully installed tensorflow-addons-0.8.3\n",
            "Collecting tensorflow==2.2.0-rc3\n",
            "  Downloading tensorflow-2.2.0rc3-cp37-cp37m-manylinux2010_x86_64.whl (516.2 MB)\n",
            "\u001b[K     |████████████████████████████████| 516.2 MB 12 kB/s \n",
            "\u001b[?25hRequirement already satisfied: numpy<2.0,>=1.16.0 in /usr/local/lib/python3.7/dist-packages (from tensorflow==2.2.0-rc3) (1.19.5)\n",
            "Requirement already satisfied: opt-einsum>=2.3.2 in /usr/local/lib/python3.7/dist-packages (from tensorflow==2.2.0-rc3) (3.3.0)\n",
            "Requirement already satisfied: wrapt>=1.11.1 in /usr/local/lib/python3.7/dist-packages (from tensorflow==2.2.0-rc3) (1.13.3)\n",
            "Collecting h5py<2.11.0,>=2.10.0\n",
            "  Downloading h5py-2.10.0-cp37-cp37m-manylinux1_x86_64.whl (2.9 MB)\n",
            "\u001b[K     |████████████████████████████████| 2.9 MB 51.6 MB/s \n",
            "\u001b[?25hRequirement already satisfied: wheel>=0.26 in /usr/local/lib/python3.7/dist-packages (from tensorflow==2.2.0-rc3) (0.37.1)\n",
            "Requirement already satisfied: scipy==1.4.1 in /usr/local/lib/python3.7/dist-packages (from tensorflow==2.2.0-rc3) (1.4.1)\n",
            "Requirement already satisfied: keras-preprocessing>=1.1.0 in /usr/local/lib/python3.7/dist-packages (from tensorflow==2.2.0-rc3) (1.1.2)\n",
            "Collecting gast==0.3.3\n",
            "  Downloading gast-0.3.3-py2.py3-none-any.whl (9.7 kB)\n",
            "Requirement already satisfied: protobuf>=3.8.0 in /usr/local/lib/python3.7/dist-packages (from tensorflow==2.2.0-rc3) (3.17.3)\n",
            "Requirement already satisfied: grpcio>=1.8.6 in /usr/local/lib/python3.7/dist-packages (from tensorflow==2.2.0-rc3) (1.43.0)\n",
            "Requirement already satisfied: astunparse==1.6.3 in /usr/local/lib/python3.7/dist-packages (from tensorflow==2.2.0-rc3) (1.6.3)\n",
            "Requirement already satisfied: google-pasta>=0.1.8 in /usr/local/lib/python3.7/dist-packages (from tensorflow==2.2.0-rc3) (0.2.0)\n",
            "Collecting tensorflow-estimator<2.3.0,>=2.2.0rc0\n",
            "  Downloading tensorflow_estimator-2.2.0-py2.py3-none-any.whl (454 kB)\n",
            "\u001b[K     |████████████████████████████████| 454 kB 63.9 MB/s \n",
            "\u001b[?25hRequirement already satisfied: termcolor>=1.1.0 in /usr/local/lib/python3.7/dist-packages (from tensorflow==2.2.0-rc3) (1.1.0)\n",
            "Collecting tensorboard<2.3.0,>=2.2.0\n",
            "  Downloading tensorboard-2.2.2-py3-none-any.whl (3.0 MB)\n",
            "\u001b[K     |████████████████████████████████| 3.0 MB 12.6 MB/s \n",
            "\u001b[?25hRequirement already satisfied: absl-py>=0.7.0 in /usr/local/lib/python3.7/dist-packages (from tensorflow==2.2.0-rc3) (1.0.0)\n",
            "Requirement already satisfied: six>=1.12.0 in /usr/local/lib/python3.7/dist-packages (from tensorflow==2.2.0-rc3) (1.15.0)\n",
            "Requirement already satisfied: requests<3,>=2.21.0 in /usr/local/lib/python3.7/dist-packages (from tensorboard<2.3.0,>=2.2.0->tensorflow==2.2.0-rc3) (2.23.0)\n",
            "Requirement already satisfied: setuptools>=41.0.0 in /usr/local/lib/python3.7/dist-packages (from tensorboard<2.3.0,>=2.2.0->tensorflow==2.2.0-rc3) (57.4.0)\n",
            "Requirement already satisfied: google-auth<2,>=1.6.3 in /usr/local/lib/python3.7/dist-packages (from tensorboard<2.3.0,>=2.2.0->tensorflow==2.2.0-rc3) (1.35.0)\n",
            "Requirement already satisfied: google-auth-oauthlib<0.5,>=0.4.1 in /usr/local/lib/python3.7/dist-packages (from tensorboard<2.3.0,>=2.2.0->tensorflow==2.2.0-rc3) (0.4.6)\n",
            "Requirement already satisfied: tensorboard-plugin-wit>=1.6.0 in /usr/local/lib/python3.7/dist-packages (from tensorboard<2.3.0,>=2.2.0->tensorflow==2.2.0-rc3) (1.8.1)\n",
            "Requirement already satisfied: werkzeug>=0.11.15 in /usr/local/lib/python3.7/dist-packages (from tensorboard<2.3.0,>=2.2.0->tensorflow==2.2.0-rc3) (1.0.1)\n",
            "Requirement already satisfied: markdown>=2.6.8 in /usr/local/lib/python3.7/dist-packages (from tensorboard<2.3.0,>=2.2.0->tensorflow==2.2.0-rc3) (3.3.6)\n",
            "Requirement already satisfied: pyasn1-modules>=0.2.1 in /usr/local/lib/python3.7/dist-packages (from google-auth<2,>=1.6.3->tensorboard<2.3.0,>=2.2.0->tensorflow==2.2.0-rc3) (0.2.8)\n",
            "Requirement already satisfied: cachetools<5.0,>=2.0.0 in /usr/local/lib/python3.7/dist-packages (from google-auth<2,>=1.6.3->tensorboard<2.3.0,>=2.2.0->tensorflow==2.2.0-rc3) (4.2.4)\n",
            "Requirement already satisfied: rsa<5,>=3.1.4 in /usr/local/lib/python3.7/dist-packages (from google-auth<2,>=1.6.3->tensorboard<2.3.0,>=2.2.0->tensorflow==2.2.0-rc3) (4.8)\n",
            "Requirement already satisfied: requests-oauthlib>=0.7.0 in /usr/local/lib/python3.7/dist-packages (from google-auth-oauthlib<0.5,>=0.4.1->tensorboard<2.3.0,>=2.2.0->tensorflow==2.2.0-rc3) (1.3.1)\n",
            "Requirement already satisfied: importlib-metadata>=4.4 in /usr/local/lib/python3.7/dist-packages (from markdown>=2.6.8->tensorboard<2.3.0,>=2.2.0->tensorflow==2.2.0-rc3) (4.10.1)\n",
            "Requirement already satisfied: typing-extensions>=3.6.4 in /usr/local/lib/python3.7/dist-packages (from importlib-metadata>=4.4->markdown>=2.6.8->tensorboard<2.3.0,>=2.2.0->tensorflow==2.2.0-rc3) (3.10.0.2)\n",
            "Requirement already satisfied: zipp>=0.5 in /usr/local/lib/python3.7/dist-packages (from importlib-metadata>=4.4->markdown>=2.6.8->tensorboard<2.3.0,>=2.2.0->tensorflow==2.2.0-rc3) (3.7.0)\n",
            "Requirement already satisfied: pyasn1<0.5.0,>=0.4.6 in /usr/local/lib/python3.7/dist-packages (from pyasn1-modules>=0.2.1->google-auth<2,>=1.6.3->tensorboard<2.3.0,>=2.2.0->tensorflow==2.2.0-rc3) (0.4.8)\n",
            "Requirement already satisfied: certifi>=2017.4.17 in /usr/local/lib/python3.7/dist-packages (from requests<3,>=2.21.0->tensorboard<2.3.0,>=2.2.0->tensorflow==2.2.0-rc3) (2021.10.8)\n",
            "Requirement already satisfied: chardet<4,>=3.0.2 in /usr/local/lib/python3.7/dist-packages (from requests<3,>=2.21.0->tensorboard<2.3.0,>=2.2.0->tensorflow==2.2.0-rc3) (3.0.4)\n",
            "Requirement already satisfied: urllib3!=1.25.0,!=1.25.1,<1.26,>=1.21.1 in /usr/local/lib/python3.7/dist-packages (from requests<3,>=2.21.0->tensorboard<2.3.0,>=2.2.0->tensorflow==2.2.0-rc3) (1.24.3)\n",
            "Requirement already satisfied: idna<3,>=2.5 in /usr/local/lib/python3.7/dist-packages (from requests<3,>=2.21.0->tensorboard<2.3.0,>=2.2.0->tensorflow==2.2.0-rc3) (2.10)\n",
            "Requirement already satisfied: oauthlib>=3.0.0 in /usr/local/lib/python3.7/dist-packages (from requests-oauthlib>=0.7.0->google-auth-oauthlib<0.5,>=0.4.1->tensorboard<2.3.0,>=2.2.0->tensorflow==2.2.0-rc3) (3.2.0)\n",
            "Installing collected packages: tensorflow-estimator, tensorboard, h5py, gast, tensorflow\n",
            "  Attempting uninstall: tensorflow-estimator\n",
            "    Found existing installation: tensorflow-estimator 2.7.0\n",
            "    Uninstalling tensorflow-estimator-2.7.0:\n",
            "      Successfully uninstalled tensorflow-estimator-2.7.0\n",
            "  Attempting uninstall: tensorboard\n",
            "    Found existing installation: tensorboard 2.7.0\n",
            "    Uninstalling tensorboard-2.7.0:\n",
            "      Successfully uninstalled tensorboard-2.7.0\n",
            "  Attempting uninstall: h5py\n",
            "    Found existing installation: h5py 3.1.0\n",
            "    Uninstalling h5py-3.1.0:\n",
            "      Successfully uninstalled h5py-3.1.0\n",
            "  Attempting uninstall: gast\n",
            "    Found existing installation: gast 0.4.0\n",
            "    Uninstalling gast-0.4.0:\n",
            "      Successfully uninstalled gast-0.4.0\n",
            "  Attempting uninstall: tensorflow\n",
            "    Found existing installation: tensorflow 2.7.0\n",
            "    Uninstalling tensorflow-2.7.0:\n",
            "      Successfully uninstalled tensorflow-2.7.0\n",
            "Successfully installed gast-0.3.3 h5py-2.10.0 tensorboard-2.2.2 tensorflow-2.2.0rc3 tensorflow-estimator-2.2.0\n"
          ]
        }
      ]
    },
    {
      "cell_type": "code",
      "source": [
        "print(\"Sriram Thope\")"
      ],
      "metadata": {
        "id": "crcugzNoUcyK",
        "outputId": "dab06d80-6136-4566-bcf7-1fcee0ba1091",
        "colab": {
          "base_uri": "https://localhost:8080/"
        }
      },
      "execution_count": null,
      "outputs": [
        {
          "output_type": "stream",
          "name": "stdout",
          "text": [
            "Sriram Thope\n"
          ]
        }
      ]
    },
    {
      "cell_type": "code",
      "execution_count": null,
      "metadata": {
        "id": "AAemIPHcPtcB"
      },
      "outputs": [],
      "source": [
        "import numpy as np\n",
        "import pandas as pd\n",
        "\n",
        "from sklearn.preprocessing import MinMaxScaler, RobustScaler, StandardScaler\n",
        "from sklearn.model_selection import train_test_split\n",
        "from sklearn.linear_model import LinearRegression, LogisticRegression\n",
        "from sklearn.tree import DecisionTreeClassifier\n",
        "from sklearn.metrics import classification_report,confusion_matrix,roc_auc_score\n",
        "from sklearn.neural_network import MLPClassifier\n",
        "\n",
        "import matplotlib.pyplot as plt\n",
        "%matplotlib inline\n",
        "import seaborn as sns\n",
        "import warnings\n",
        "warnings.filterwarnings('ignore')"
      ]
    },
    {
      "cell_type": "code",
      "source": [
        "from google.colab import drive\n",
        "drive.mount('/content/drive')"
      ],
      "metadata": {
        "colab": {
          "base_uri": "https://localhost:8080/"
        },
        "id": "EPeGDAsYiNob",
        "outputId": "d760085d-66f2-417f-b52f-31ea1bc4f053"
      },
      "execution_count": null,
      "outputs": [
        {
          "output_type": "stream",
          "name": "stdout",
          "text": [
            "Mounted at /content/drive\n"
          ]
        }
      ]
    },
    {
      "cell_type": "code",
      "source": [
        "df = pd.read_csv('/content/drive/MyDrive/cascade-cup-22/train.csv')"
      ],
      "metadata": {
        "id": "Z0B0Mr0I2dX7"
      },
      "execution_count": null,
      "outputs": []
    },
    {
      "cell_type": "code",
      "source": [
        "dft = pd.read_csv('/content/drive/MyDrive/cascade-cup-22/test.csv')"
      ],
      "metadata": {
        "id": "0sIxcDnintHB"
      },
      "execution_count": null,
      "outputs": []
    },
    {
      "cell_type": "code",
      "source": [
        "df = pd.read_csv('/content/drive/MyDrive/Cascade_cup/train.csv')\n",
        "dft = pd.read_csv('/content/drive/MyDrive/Cascade_cup/test.csv')"
      ],
      "metadata": {
        "id": "dR-4F3m1WwyU"
      },
      "execution_count": null,
      "outputs": []
    },
    {
      "cell_type": "markdown",
      "source": [
        "Processing"
      ],
      "metadata": {
        "id": "NFbnOAbnzuwb"
      }
    },
    {
      "cell_type": "code",
      "source": [
        "df4 = df.copy()"
      ],
      "metadata": {
        "id": "k8Z8BVbhN0Q2"
      },
      "execution_count": null,
      "outputs": []
    },
    {
      "cell_type": "code",
      "source": [
        "dftest = dft.copy()"
      ],
      "metadata": {
        "id": "kIlUjbj2oQpe"
      },
      "execution_count": null,
      "outputs": []
    },
    {
      "cell_type": "code",
      "source": [
        "df4['order_time'] = pd.to_datetime(df4['order_time'])\n",
        "df4['order_date'] = pd.to_datetime(df4['order_date'])\n",
        "df4['allot_time'] = pd.to_datetime(df4['allot_time'])\n",
        "df4['accept_time'] = pd.to_datetime(df4['accept_time'])\n",
        "df4['pickup_time'] = pd.to_datetime(df4['pickup_time'])\n",
        "df4['delivered_time'] = pd.to_datetime(df4['delivered_time'])\n",
        "df4['cancelled_time'] = pd.to_datetime(df4['cancelled_time'])\n",
        "df4['Day'] = df4['order_date'].dt.day_name()\n",
        "\n",
        "df4['accept_time_with_outliers'] = df4['accept_time'].fillna(pd.to_datetime('2022-02-02 20:50:50'))\n",
        "\n",
        "df4['alloted_orders'] = df4['alloted_orders'].fillna(0)\n",
        "df4['delivered_orders'] = df4['delivered_orders'].fillna(0)\n",
        "df4['undelivered_orders'] = df4['undelivered_orders'].fillna(0)\n",
        "df4['session_time'] = df4['session_time'].fillna(0)\n",
        "df4['lifetime_order_count'] = df4['lifetime_order_count'].fillna(0)\n",
        "df4['reassigned_order'] = df4['reassigned_order'].fillna(0)\n",
        "df4['accept_time'] = df4['accept_time'].fillna(0)\n",
        "df4['pickup_time'] = df4['pickup_time'].fillna(0)\n",
        "df4['delivered_time'] = df4['delivered_time'].fillna(0)\n",
        "df4['cancelled_time'] = df4['cancelled_time'].fillna(0)\n",
        "\n",
        "df4['accepted'] = df4['accept_time']\n",
        "df4['accepted'] = np.where(df4['accepted'] != 0, 1, df4['accepted'])\n",
        "df4['pickedup'] = df4['pickup_time']\n",
        "df4['pickedup'] = np.where(df4['pickedup'] != 0, 1, df4['pickedup'])\n",
        "df4['delivered'] = df4['delivered_time']\n",
        "df4['delivered'] = np.where(df4['delivered'] != 0, 1, df4['delivered'])\n",
        "\n",
        "df4['O-A_time'] = df4['allot_time'] - df4['order_time']\n",
        "df4['A-A_time'] = df4['accept_time_with_outliers'] - df4['allot_time']\n",
        "\n",
        "df4['A-A_s'] = df4['A-A_time'] / pd.to_timedelta(1, unit='S')\n",
        "df4['O-A_s'] = df4['O-A_time'] / pd.to_timedelta(1, unit='S')\n",
        "\n",
        "df4['undelivered_percentage'] = df4['undelivered_orders']/(df4['alloted_orders'] + 1)\n",
        "df4['timeofday'] = df4['allot_time'].dt.hour + df4['allot_time'].dt.minute/60 + df4['allot_time'].dt.second/3600"
      ],
      "metadata": {
        "id": "ecklyJfjOuq0"
      },
      "execution_count": null,
      "outputs": []
    },
    {
      "cell_type": "code",
      "source": [
        "dftest['order_time'] = pd.to_datetime(dftest['order_time'])\n",
        "dftest['order_date'] = pd.to_datetime(dftest['order_date'])\n",
        "dftest['allot_time'] = pd.to_datetime(dftest['allot_time'])\n",
        "dftest['accept_time'] = pd.to_datetime(dftest['accept_time'])\n",
        "dftest['Day'] = dftest['order_date'].dt.day_name()\n",
        "\n",
        "dftest['accept_time_with_outliers'] = dftest['accept_time'].fillna(pd.to_datetime('2022-02-02 20:50:50'))\n",
        "\n",
        "dftest['alloted_orders'] = dftest['alloted_orders'].fillna(0)\n",
        "dftest['delivered_orders'] = dftest['delivered_orders'].fillna(0)\n",
        "dftest['undelivered_orders'] = dftest['undelivered_orders'].fillna(0)\n",
        "dftest['session_time'] = dftest['session_time'].fillna(0)\n",
        "dftest['lifetime_order_count'] = dftest['lifetime_order_count'].fillna(0)\n",
        "dftest['reassigned_order'] = dftest['reassigned_order'].fillna(0)\n",
        "dftest['accept_time'] = dftest['accept_time'].fillna(0)\n",
        "\n",
        "dftest['accepted'] = dftest['accept_time']\n",
        "dftest['accepted'] = np.where(dftest['accepted'] != 0, 1, dftest['accepted'])\n",
        "\n",
        "dftest['O-A_time'] = dftest['allot_time'] - dftest['order_time']\n",
        "dftest['A-A_time'] = dftest['accept_time_with_outliers'] - dftest['allot_time']\n",
        "\n",
        "dftest['A-A_s'] = dftest['A-A_time'] / pd.to_timedelta(1, unit='S')\n",
        "dftest['O-A_s'] = dftest['O-A_time'] / pd.to_timedelta(1, unit='S')\n",
        "\n",
        "dftest['undelivered_percentage'] = dftest['undelivered_orders']/(dftest['alloted_orders'] + 1)\n",
        "dftest['timeofday'] = dftest['allot_time'].dt.hour + dftest['allot_time'].dt.minute/60 + dftest['allot_time'].dt.second/3600"
      ],
      "metadata": {
        "id": "I6VQB9JUoZO1"
      },
      "execution_count": null,
      "outputs": []
    },
    {
      "cell_type": "code",
      "source": [
        "full = df4.copy()\n",
        "dfcancelled = full.loc[(full['cancelled'] == 1)]\n",
        "dfnotcancelled = full.loc[(full['cancelled'] == 0)]"
      ],
      "metadata": {
        "id": "bGy2VqYNu67o"
      },
      "execution_count": null,
      "outputs": []
    },
    {
      "cell_type": "code",
      "source": [
        "fulltest = dftest.copy()"
      ],
      "metadata": {
        "id": "g7Zq7imVaUE_"
      },
      "execution_count": null,
      "outputs": []
    },
    {
      "cell_type": "code",
      "source": [
        "fig, ax = plt.subplots(figsize=(15,15))         # Sample figsize in inches\n",
        "sns.heatmap(full.corr(), annot=True, cmap=\"YlGnBu\", ax=ax)"
      ],
      "metadata": {
        "colab": {
          "base_uri": "https://localhost:8080/",
          "height": 995
        },
        "id": "XvZhPA2uBpo1",
        "outputId": "00e91e03-5381-47de-c058-2eef0e91439c"
      },
      "execution_count": null,
      "outputs": [
        {
          "output_type": "execute_result",
          "data": {
            "text/plain": [
              "<matplotlib.axes._subplots.AxesSubplot at 0x7f3c0dbd0a50>"
            ]
          },
          "metadata": {},
          "execution_count": 13
        },
        {
          "output_type": "display_data",
          "data": {
            "image/png": "[encoded data removed]",
            "text/plain": [
              "<Figure size 1080x1080 with 2 Axes>"
            ]
          },
          "metadata": {
            "needs_background": "light"
          }
        }
      ]
    },
    {
      "cell_type": "code",
      "source": [
        "dfra = full.loc[(full['reassigned_order'] == 1)]\n",
        "dfnra = full.loc[(full['reassigned_order'] == 0)]"
      ],
      "metadata": {
        "id": "43NWRCdFuT_v"
      },
      "execution_count": null,
      "outputs": []
    },
    {
      "cell_type": "code",
      "source": [
        "dfratest = fulltest.loc[(fulltest['reassigned_order'] == 1)]\n",
        "dfnratest = fulltest.loc[(fulltest['reassigned_order'] == 0)]"
      ],
      "metadata": {
        "id": "gnJ9SXBucbWy"
      },
      "execution_count": null,
      "outputs": []
    },
    {
      "cell_type": "code",
      "source": [
        "full['reassigned_order'].value_counts()"
      ],
      "metadata": {
        "colab": {
          "base_uri": "https://localhost:8080/"
        },
        "id": "h_hpTrR3wK0H",
        "outputId": "a56a0943-4ae0-4070-b861-03ea7082123b"
      },
      "execution_count": null,
      "outputs": [
        {
          "output_type": "execute_result",
          "data": {
            "text/plain": [
              "0.0    436247\n",
              "1.0     13753\n",
              "Name: reassigned_order, dtype: int64"
            ]
          },
          "metadata": {},
          "execution_count": 16
        }
      ]
    },
    {
      "cell_type": "code",
      "source": [
        "fulltest['reassigned_order'].value_counts()"
      ],
      "metadata": {
        "colab": {
          "base_uri": "https://localhost:8080/"
        },
        "id": "1ARlhJSXciuc",
        "outputId": "3fbf86e0-e607-4731-b2eb-b02d5809944f"
      },
      "execution_count": null,
      "outputs": [
        {
          "output_type": "execute_result",
          "data": {
            "text/plain": [
              "0.0    140209\n",
              "1.0      4635\n",
              "Name: reassigned_order, dtype: int64"
            ]
          },
          "metadata": {},
          "execution_count": 17
        }
      ]
    },
    {
      "cell_type": "code",
      "source": [
        "dfrac = dfra.loc[(dfra['cancelled'] == 1)]\n",
        "dfranc = dfra.loc[(dfra['cancelled'] == 0)]\n",
        "dfnrac = dfnra.loc[(dfnra['cancelled'] == 1)]\n",
        "dfnranc = dfnra.loc[(dfnra['cancelled'] == 0)]"
      ],
      "metadata": {
        "id": "Wn1k4ZsxuoMe"
      },
      "execution_count": null,
      "outputs": []
    },
    {
      "cell_type": "code",
      "source": [
        "fig, ax = plt.subplots(figsize=(15,15))         # Sample figsize in inches\n",
        "sns.heatmap(dfra.corr(), annot=True, cmap=\"YlGnBu\", ax=ax)"
      ],
      "metadata": {
        "colab": {
          "base_uri": "https://localhost:8080/",
          "height": 995
        },
        "id": "klTNZMam9fNo",
        "outputId": "4d09e8c2-7f98-40b1-802f-6644203931cb"
      },
      "execution_count": null,
      "outputs": [
        {
          "output_type": "execute_result",
          "data": {
            "text/plain": [
              "<matplotlib.axes._subplots.AxesSubplot at 0x7f3be73efa50>"
            ]
          },
          "metadata": {},
          "execution_count": 19
        },
        {
          "output_type": "display_data",
          "data": {
            "image/png": "[encoded data removed]",
            "text/plain": [
              "<Figure size 1080x1080 with 2 Axes>"
            ]
          },
          "metadata": {
            "needs_background": "light"
          }
        }
      ]
    },
    {
      "cell_type": "code",
      "source": [
        "fig, ax = plt.subplots(figsize=(15,15))         # Sample figsize in inches\n",
        "sns.heatmap(dfnra.corr(), annot=True, cmap=\"YlGnBu\", ax=ax)"
      ],
      "metadata": {
        "colab": {
          "base_uri": "https://localhost:8080/",
          "height": 995
        },
        "id": "Vqtx1CQgbNHU",
        "outputId": "ab8637f4-d2ee-4f93-8df4-71f8d6141b75"
      },
      "execution_count": null,
      "outputs": [
        {
          "output_type": "execute_result",
          "data": {
            "text/plain": [
              "<matplotlib.axes._subplots.AxesSubplot at 0x7f3be5b50850>"
            ]
          },
          "metadata": {},
          "execution_count": 20
        },
        {
          "output_type": "display_data",
          "data": {
            "image/png": "[encoded data removed]",
            "text/plain": [
              "<Figure size 1080x1080 with 2 Axes>"
            ]
          },
          "metadata": {
            "needs_background": "light"
          }
        }
      ]
    },
    {
      "cell_type": "code",
      "source": [
        "accepted = df4[df4['accepted'] == 1]\n",
        "dfcancelled = accepted.loc[(accepted['cancelled'] == 1)]\n",
        "dfnotcancelled = accepted.loc[(accepted['cancelled'] == 0)]"
      ],
      "metadata": {
        "id": "TvjCUcvlOd8y"
      },
      "execution_count": null,
      "outputs": []
    },
    {
      "cell_type": "code",
      "source": [
        "df4 = pd.get_dummies(data=df4, columns=['reassignment_method','reassignment_reason'], dummy_na = True)\n",
        "df4 = pd.get_dummies(data=df4, columns=['Day'])"
      ],
      "metadata": {
        "id": "QjVxt2axOQfX"
      },
      "execution_count": null,
      "outputs": []
    },
    {
      "cell_type": "code",
      "source": [
        "dftest = pd.get_dummies(data=dftest, columns=['reassignment_method','reassignment_reason'], dummy_na = True)\n",
        "dftest = pd.get_dummies(data=dftest, columns=['Day'])"
      ],
      "metadata": {
        "id": "QsHC5ckWphjx"
      },
      "execution_count": null,
      "outputs": []
    },
    {
      "cell_type": "code",
      "source": [
        "#pd.factorize(values, sort=False, na_sentinel=- 1, size_hint=None)\n",
        "df4['reassignment_method'], uniques = pd.factorize(df4['reassignment_method'], na_sentinel=None)\n",
        "df4['reassignment_reason'], uniques = pd.factorize(df4['reassignment_reason'], na_sentinel=None)"
      ],
      "metadata": {
        "id": "gUL0J89A1-aL"
      },
      "execution_count": null,
      "outputs": []
    },
    {
      "cell_type": "code",
      "source": [
        "#pd.factorize(values, sort=False, na_sentinel=- 1, size_hint=None)\n",
        "dftest['reassignment_method'], uniques = pd.factorize(dftest['reassignment_method'], na_sentinel=None)\n",
        "dftest['reassignment_reason'], uniques = pd.factorize(dftest['reassignment_reason'], na_sentinel=None)"
      ],
      "metadata": {
        "id": "tjEojXwA6tjB"
      },
      "execution_count": null,
      "outputs": []
    },
    {
      "cell_type": "code",
      "source": [
        "df4['reassignment_reason'].value_counts()"
      ],
      "metadata": {
        "colab": {
          "base_uri": "https://localhost:8080/"
        },
        "id": "oq649JiD2qou",
        "outputId": "caab546f-b4b5-4bc6-e146-44ef25d0c626"
      },
      "execution_count": null,
      "outputs": [
        {
          "output_type": "execute_result",
          "data": {
            "text/plain": [
              "3    436247\n",
              "1      7212\n",
              "0      5300\n",
              "2      1241\n",
              "Name: reassignment_reason, dtype: int64"
            ]
          },
          "metadata": {},
          "execution_count": 244
        }
      ]
    },
    {
      "cell_type": "code",
      "source": [
        "df4 = pd.get_dummies(data=df4, columns=['Day'])"
      ],
      "metadata": {
        "id": "tjdPVCVb3SNO"
      },
      "execution_count": null,
      "outputs": []
    },
    {
      "cell_type": "code",
      "source": [
        "dftest = pd.get_dummies(data=dftest, columns=['Day'])"
      ],
      "metadata": {
        "id": "qw_QIqvW1-iu"
      },
      "execution_count": null,
      "outputs": []
    },
    {
      "cell_type": "code",
      "source": [
        "dfaccepted = df4[df4['accepted'] == 1]\n",
        "dfaccepted.shape"
      ],
      "metadata": {
        "colab": {
          "base_uri": "https://localhost:8080/"
        },
        "id": "lfxwX4nDVERE",
        "outputId": "495d95f2-c0b6-4ce5-8888-f402434f06f9"
      },
      "execution_count": null,
      "outputs": [
        {
          "output_type": "execute_result",
          "data": {
            "text/plain": [
              "(449843, 42)"
            ]
          },
          "metadata": {},
          "execution_count": 24
        }
      ]
    },
    {
      "cell_type": "code",
      "source": [
        "dftestaccepted = dftest[dftest['accepted'] == 1]\n",
        "dftestaccepted.shape"
      ],
      "metadata": {
        "colab": {
          "base_uri": "https://localhost:8080/"
        },
        "outputId": "67e043a8-e37e-442c-c3d0-6f05dfdbf9bf",
        "id": "SG2B0_Qwpwd8"
      },
      "execution_count": null,
      "outputs": [
        {
          "output_type": "execute_result",
          "data": {
            "text/plain": [
              "(144776, 33)"
            ]
          },
          "metadata": {},
          "execution_count": 25
        }
      ]
    },
    {
      "cell_type": "code",
      "source": [
        "dftestaccepted['Day_Friday'] = dftestaccepted['Day_Monday']*0\n",
        "dftestaccepted['Day_Thursday'] = dftestaccepted['Day_Monday']*0\n",
        "dftestaccepted['Day_Wednesday'] = dftestaccepted['Day_Monday']*0"
      ],
      "metadata": {
        "id": "1p0lJZmns4jp"
      },
      "execution_count": null,
      "outputs": []
    },
    {
      "cell_type": "code",
      "source": [
        "df4.columns"
      ],
      "metadata": {
        "colab": {
          "base_uri": "https://localhost:8080/"
        },
        "id": "nMybo8qHeAry",
        "outputId": "0f0caaa8-2b45-40cf-a2f4-0dd80a357ca8"
      },
      "execution_count": null,
      "outputs": [
        {
          "output_type": "execute_result",
          "data": {
            "text/plain": [
              "Index(['order_time', 'order_id', 'order_date', 'allot_time', 'accept_time',\n",
              "       'pickup_time', 'delivered_time', 'rider_id', 'first_mile_distance',\n",
              "       'last_mile_distance', 'alloted_orders', 'delivered_orders', 'cancelled',\n",
              "       'undelivered_orders', 'lifetime_order_count', 'reassigned_order',\n",
              "       'session_time', 'cancelled_time', 'accept_time_with_outliers',\n",
              "       'accepted', 'pickedup', 'delivered', 'O-A_time', 'A-A_time', 'A-A_s',\n",
              "       'O-A_s', 'undelivered_percentage', 'timeofday',\n",
              "       'reassignment_method_auto', 'reassignment_method_manual',\n",
              "       'reassignment_method_nan',\n",
              "       'reassignment_reason_Auto Reassignment basis Inaction. coreengine.tasks.repush_order_to_aa_bucket',\n",
              "       'reassignment_reason_Reassign',\n",
              "       'reassignment_reason_Reassignment Request from SE portal.',\n",
              "       'reassignment_reason_nan', 'Day_Friday', 'Day_Monday', 'Day_Saturday',\n",
              "       'Day_Sunday', 'Day_Thursday', 'Day_Tuesday', 'Day_Wednesday'],\n",
              "      dtype='object')"
            ]
          },
          "metadata": {},
          "execution_count": 27
        }
      ]
    },
    {
      "cell_type": "markdown",
      "source": [
        "Graphs"
      ],
      "metadata": {
        "id": "r7zpQPTDJoBM"
      }
    },
    {
      "cell_type": "code",
      "source": [
        "x = dfcancelled['Day'].value_counts()/(dfnotcancelled['Day'].value_counts()+dfcancelled['Day'].value_counts())\n",
        "x.plot.bar()"
      ],
      "metadata": {
        "colab": {
          "base_uri": "https://localhost:8080/",
          "height": 330
        },
        "id": "tBKxbeDxZBtV",
        "outputId": "9f7f6292-cfd6-43c0-fc25-535d860a79d9"
      },
      "execution_count": null,
      "outputs": [
        {
          "output_type": "execute_result",
          "data": {
            "text/plain": [
              "<matplotlib.axes._subplots.AxesSubplot at 0x7f4565dd2a90>"
            ]
          },
          "metadata": {},
          "execution_count": 10
        },
        {
          "output_type": "display_data",
          "data": {
            "image/png": "[encoded data removed]",
            "text/plain": [
              "<Figure size 432x288 with 1 Axes>"
            ]
          },
          "metadata": {
            "needs_background": "light"
          }
        }
      ]
    },
    {
      "cell_type": "code",
      "source": [
        "x = dfrac['Day'].value_counts()/(dfranc['Day'].value_counts()+dfrac['Day'].value_counts())\n",
        "x.plot.bar()"
      ],
      "metadata": {
        "id": "v4ngqa05vM_m"
      },
      "execution_count": null,
      "outputs": []
    },
    {
      "cell_type": "code",
      "source": [
        "x = dfnrac['Day'].value_counts()/(dfnranc['Day'].value_counts()+dfnrac['Day'].value_counts())\n",
        "x.plot.bar()"
      ],
      "metadata": {
        "id": "dFjKlRsdwlCt"
      },
      "execution_count": null,
      "outputs": []
    },
    {
      "cell_type": "code",
      "source": [
        "dfcancelled['timeofday_group'] = pd.cut(dfcancelled['timeofday'], bins = [18,19], include_lowest = True) # bins=[5,18,20], np.linspace(0,24,97)\n",
        "dfnotcancelled['timeofday_group'] = pd.cut(dfnotcancelled['timeofday'], bins=[18,19], include_lowest = True)\n",
        "x = dfcancelled['timeofday_group'].value_counts()/(dfnotcancelled['timeofday_group'].value_counts()+dfcancelled['timeofday_group'].value_counts())\n",
        "x.plot.bar()"
      ],
      "metadata": {
        "colab": {
          "base_uri": "https://localhost:8080/",
          "height": 344
        },
        "id": "zPpPfKMdaeJU",
        "outputId": "8e5b4597-f9c2-4624-c20a-f1a9090f7a8b"
      },
      "execution_count": null,
      "outputs": [
        {
          "output_type": "execute_result",
          "data": {
            "text/plain": [
              "<matplotlib.axes._subplots.AxesSubplot at 0x7f4573ee3050>"
            ]
          },
          "metadata": {},
          "execution_count": 12
        },
        {
          "output_type": "display_data",
          "data": {
            "image/png": "[encoded data removed]",
            "text/plain": [
              "<Figure size 432x288 with 1 Axes>"
            ]
          },
          "metadata": {
            "needs_background": "light"
          }
        }
      ]
    },
    {
      "cell_type": "code",
      "source": [
        "dfrac['timeofday_group'] = pd.cut(dfrac['timeofday'], bins=[18,20], include_lowest = True) # bins=[18,20], np.linspace(0,24,97)\n",
        "dfranc['timeofday_group'] = pd.cut(dfranc['timeofday'], bins=[18,20], include_lowest = True)\n",
        "x = dfrac['timeofday_group'].value_counts()/(dfranc['timeofday_group'].value_counts()+dfrac['timeofday_group'].value_counts())\n",
        "x.plot.bar()"
      ],
      "metadata": {
        "id": "NvjKXV64wwDM"
      },
      "execution_count": null,
      "outputs": []
    },
    {
      "cell_type": "code",
      "source": [
        "dfnrac['timeofday_group'] = pd.cut(dfnrac['timeofday'], bins=[18,20], include_lowest = True) # bins=[18,20], np.linspace(0,24,97)\n",
        "dfnranc['timeofday_group'] = pd.cut(dfnranc['timeofday'], bins=[18,20], include_lowest = True)\n",
        "x = dfnrac['timeofday_group'].value_counts()/(dfnranc['timeofday_group'].value_counts()+dfnrac['timeofday_group'].value_counts())\n",
        "x.plot.bar()"
      ],
      "metadata": {
        "id": "AfcutJ2Dx1jk"
      },
      "execution_count": null,
      "outputs": []
    },
    {
      "cell_type": "code",
      "source": [
        "dfnotcancelled['timeofday_group'].value_counts()"
      ],
      "metadata": {
        "colab": {
          "base_uri": "https://localhost:8080/"
        },
        "id": "PkZXVgqB2sVO",
        "outputId": "4061fea7-c1d9-451b-9218-ee27baf632d6"
      },
      "execution_count": null,
      "outputs": [
        {
          "output_type": "execute_result",
          "data": {
            "text/plain": [
              "(17.999, 19.0]    741\n",
              "Name: timeofday_group, dtype: int64"
            ]
          },
          "metadata": {},
          "execution_count": 13
        }
      ]
    },
    {
      "cell_type": "code",
      "source": [
        "dfcancelled['timeofday_group'].value_counts()"
      ],
      "metadata": {
        "id": "ACN6cSGm3Pph"
      },
      "execution_count": null,
      "outputs": []
    },
    {
      "cell_type": "code",
      "source": [
        "dfcancelled['first_mile_distance_group'] = pd.cut(dfcancelled['first_mile_distance'], bins=[0,3,4,full['first_mile_distance'].max()], include_lowest = True) # bins = [0,3,4.5,dfcancelled['first_mile_distance'].max()], np.linspace(0,7,141)\n",
        "dfnotcancelled['first_mile_distance_group'] = pd.cut(dfnotcancelled['first_mile_distance'], bins=[0,3,4,full['first_mile_distance'].max()], include_lowest = True)\n",
        "x = dfcancelled['first_mile_distance_group'].value_counts()/(dfnotcancelled['first_mile_distance_group'].value_counts()+dfcancelled['first_mile_distance_group'].value_counts())\n",
        "x.plot.bar()"
      ],
      "metadata": {
        "colab": {
          "base_uri": "https://localhost:8080/",
          "height": 338
        },
        "id": "YTs7Qsilhhi-",
        "outputId": "f6be55c9-0cc0-4e19-9807-3c79b5b003f8"
      },
      "execution_count": null,
      "outputs": [
        {
          "output_type": "execute_result",
          "data": {
            "text/plain": [
              "<matplotlib.axes._subplots.AxesSubplot at 0x7f45657a8190>"
            ]
          },
          "metadata": {},
          "execution_count": 14
        },
        {
          "output_type": "display_data",
          "data": {
            "image/png": "[encoded data removed]",
            "text/plain": [
              "<Figure size 432x288 with 1 Axes>"
            ]
          },
          "metadata": {
            "needs_background": "light"
          }
        }
      ]
    },
    {
      "cell_type": "code",
      "source": [
        "dfrac['first_mile_distance_group'] = pd.cut(dfrac['first_mile_distance'], bins=[0,3,4,full['first_mile_distance'].max()], include_lowest = True) # bins = [0,3,4.5,dfcancelled['first_mile_distance'].max()], np.linspace(0,7,141)\n",
        "dfranc['first_mile_distance_group'] = pd.cut(dfranc['first_mile_distance'], bins=[0,3,4,full['first_mile_distance'].max()], include_lowest = True)\n",
        "x = dfrac['first_mile_distance_group'].value_counts()/(dfranc['first_mile_distance_group'].value_counts()+dfrac['first_mile_distance_group'].value_counts())\n",
        "x.plot.bar()"
      ],
      "metadata": {
        "id": "CbYwv8A8yIJl"
      },
      "execution_count": null,
      "outputs": []
    },
    {
      "cell_type": "code",
      "source": [
        "dfrac['first_mile_distance_group'].value_counts()"
      ],
      "metadata": {
        "id": "aBsr338dPC9q"
      },
      "execution_count": null,
      "outputs": []
    },
    {
      "cell_type": "code",
      "source": [
        "dfranc['first_mile_distance_group'].value_counts()"
      ],
      "metadata": {
        "id": "FC-x4YiNOnap"
      },
      "execution_count": null,
      "outputs": []
    },
    {
      "cell_type": "code",
      "source": [
        "dfnrac['first_mile_distance_group'] = pd.cut(dfnrac['first_mile_distance'], bins=[0,3,4,full['first_mile_distance'].max()], include_lowest = True) # bins = [0,3,4,full['first_mile_distance'].max()], np.linspace(0,7,141)\n",
        "dfnranc['first_mile_distance_group'] = pd.cut(dfnranc['first_mile_distance'], bins=[0,3,4,full['first_mile_distance'].max()], include_lowest = True)\n",
        "x = dfnrac['first_mile_distance_group'].value_counts()/(dfnranc['first_mile_distance_group'].value_counts()+dfnrac['first_mile_distance_group'].value_counts())\n",
        "x.plot.bar()"
      ],
      "metadata": {
        "id": "HdcMRW9M0Qm4"
      },
      "execution_count": null,
      "outputs": []
    },
    {
      "cell_type": "code",
      "source": [
        "dfnrac['first_mile_distance_group'].value_counts()"
      ],
      "metadata": {
        "id": "pC2pseWaPLI1"
      },
      "execution_count": null,
      "outputs": []
    },
    {
      "cell_type": "code",
      "source": [
        "dfnranc['first_mile_distance_group'].value_counts()"
      ],
      "metadata": {
        "id": "5mtKnkX-PMC4"
      },
      "execution_count": null,
      "outputs": []
    },
    {
      "cell_type": "code",
      "source": [
        "dfnotcancelled['last_mile_distance'].sort_values()[-20:]"
      ],
      "metadata": {
        "id": "NihElAGSyFCN"
      },
      "execution_count": null,
      "outputs": []
    },
    {
      "cell_type": "code",
      "source": [
        "dfcancelled['last_mile_distance'].sort_values()[-10:]"
      ],
      "metadata": {
        "id": "Rtx7_LDwyKZz"
      },
      "execution_count": null,
      "outputs": []
    },
    {
      "cell_type": "code",
      "source": [
        "dfcancelled['last_mile_distance_group'] = pd.cut(dfcancelled['last_mile_distance'], bins=[0,4,8,full['last_mile_distance'].max()], include_lowest = True) # bins = [0,4,9,dfaccepted['last_mile_distance'].max()], np.linspace(0,15,76)\n",
        "dfnotcancelled['last_mile_distance_group'] = pd.cut(dfnotcancelled['last_mile_distance'], bins=[0,4,8,full['last_mile_distance'].max()], include_lowest = True)\n",
        "x = dfcancelled['last_mile_distance_group'].value_counts()/(dfnotcancelled['last_mile_distance_group'].value_counts()+dfcancelled['last_mile_distance_group'].value_counts())\n",
        "x.plot.bar()"
      ],
      "metadata": {
        "id": "KfVikF95krEg"
      },
      "execution_count": null,
      "outputs": []
    },
    {
      "cell_type": "code",
      "source": [
        "dfrac['last_mile_distance_group'] = pd.cut(dfrac['last_mile_distance'], bins=[0,1,2,3,7,full['last_mile_distance'].max()], include_lowest = True) # bins = [0,4,9,dfaccepted['last_mile_distance'].max()], np.linspace(0,15,76)\n",
        "dfranc['last_mile_distance_group'] = pd.cut(dfranc['last_mile_distance'], bins=[0,1,2,3,7,full['last_mile_distance'].max()], include_lowest = True)\n",
        "x = dfrac['last_mile_distance_group'].value_counts(sort=False)/(dfranc['last_mile_distance_group'].value_counts(sort=False)+dfrac['last_mile_distance_group'].value_counts(sort=False))\n",
        "x.plot.bar()"
      ],
      "metadata": {
        "id": "232cwJgQ0u18"
      },
      "execution_count": null,
      "outputs": []
    },
    {
      "cell_type": "code",
      "source": [
        "dfrac['last_mile_distance_group'].value_counts(sort=False)"
      ],
      "metadata": {
        "id": "_QYe4kP4QfSx"
      },
      "execution_count": null,
      "outputs": []
    },
    {
      "cell_type": "code",
      "source": [
        "dfranc['last_mile_distance_group'].value_counts(sort=False)"
      ],
      "metadata": {
        "id": "3sYXyfa5Qj4a"
      },
      "execution_count": null,
      "outputs": []
    },
    {
      "cell_type": "code",
      "source": [
        "dfnrac['last_mile_distance_group'] = pd.cut(dfnrac['last_mile_distance'], bins=[0,4,8,full['last_mile_distance'].max()], include_lowest = True) # bins = [0,4,9,dfaccepted['last_mile_distance'].max()], np.linspace(0,15,76)\n",
        "dfnranc['last_mile_distance_group'] = pd.cut(dfnranc['last_mile_distance'], bins=[0,4,8,full['last_mile_distance'].max()], include_lowest = True)\n",
        "x = dfnrac['last_mile_distance_group'].value_counts()/(dfnranc['last_mile_distance_group'].value_counts()+dfnrac['last_mile_distance_group'].value_counts())\n",
        "x.plot.bar()"
      ],
      "metadata": {
        "id": "cToDAxtG1HH7"
      },
      "execution_count": null,
      "outputs": []
    },
    {
      "cell_type": "code",
      "source": [
        "dfcancelled['last_mile_distance_group'].value_counts(sort=False)"
      ],
      "metadata": {
        "id": "swMZuSVUU8HN"
      },
      "execution_count": null,
      "outputs": []
    },
    {
      "cell_type": "code",
      "source": [
        "dfnotcancelled['last_mile_distance_group'].value_counts(sort=False)"
      ],
      "metadata": {
        "id": "pKuQPTAUVBAf"
      },
      "execution_count": null,
      "outputs": []
    },
    {
      "cell_type": "code",
      "source": [
        "dfcancelled['alloted_orders_group'] = pd.cut(dfcancelled['alloted_orders'], bins=[0,0.1,1.5,2,8,full['alloted_orders'].max()], include_lowest = True) # bins = [0,0.1,2,20,75,dfcancelled['alloted_orders'].max()], np.linspace(0,100,101)\n",
        "dfnotcancelled['alloted_orders_group'] = pd.cut(dfnotcancelled['alloted_orders'], bins=[0,0.1,1.5,2,8,full['alloted_orders'].max()], include_lowest = True)\n",
        "x = dfcancelled['alloted_orders_group'].value_counts()/(dfnotcancelled['alloted_orders_group'].value_counts()+dfcancelled['alloted_orders_group'].value_counts())\n",
        "x.plot.bar()"
      ],
      "metadata": {
        "colab": {
          "base_uri": "https://localhost:8080/",
          "height": 334
        },
        "id": "R9nQuP8elLpQ",
        "outputId": "d866fd7b-00a9-495c-81c0-229a8fbfdf1f"
      },
      "execution_count": null,
      "outputs": [
        {
          "output_type": "execute_result",
          "data": {
            "text/plain": [
              "<matplotlib.axes._subplots.AxesSubplot at 0x7f4565655390>"
            ]
          },
          "metadata": {},
          "execution_count": 15
        },
        {
          "output_type": "display_data",
          "data": {
            "image/png": "[encoded data removed]",
            "text/plain": [
              "<Figure size 432x288 with 1 Axes>"
            ]
          },
          "metadata": {
            "needs_background": "light"
          }
        }
      ]
    },
    {
      "cell_type": "code",
      "source": [
        "dfcancelled['alloted_orders_group'].value_counts(sort=False)"
      ],
      "metadata": {
        "colab": {
          "base_uri": "https://localhost:8080/"
        },
        "id": "6PBJ8Y_441gK",
        "outputId": "ffa3fc2a-6a41-46ae-e4dd-1fcde60ed98e"
      },
      "execution_count": null,
      "outputs": [
        {
          "output_type": "execute_result",
          "data": {
            "text/plain": [
              "(-0.001, 0.1]     649\n",
              "(0.1, 1.5]        226\n",
              "(1.5, 2.0]        169\n",
              "(2.0, 8.0]        531\n",
              "(8.0, 567.0]     3643\n",
              "Name: alloted_orders_group, dtype: int64"
            ]
          },
          "metadata": {},
          "execution_count": 19
        }
      ]
    },
    {
      "cell_type": "code",
      "source": [
        "dfnotcancelled['alloted_orders_group'].value_counts(sort=False)"
      ],
      "metadata": {
        "colab": {
          "base_uri": "https://localhost:8080/"
        },
        "id": "Oh7iCdHy47Kw",
        "outputId": "16023787-b742-4849-a17b-a9f5197ca7ee"
      },
      "execution_count": null,
      "outputs": [
        {
          "output_type": "execute_result",
          "data": {
            "text/plain": [
              "(-0.001, 0.1]     16299\n",
              "(0.1, 1.5]         2765\n",
              "(1.5, 2.0]         3420\n",
              "(2.0, 8.0]        21006\n",
              "(8.0, 567.0]     401292\n",
              "Name: alloted_orders_group, dtype: int64"
            ]
          },
          "metadata": {},
          "execution_count": 18
        }
      ]
    },
    {
      "cell_type": "code",
      "source": [
        "dfrac['alloted_orders_group'] = pd.cut(dfrac['alloted_orders'], bins=[0,0.1,2,8,full['alloted_orders'].max()], include_lowest = True) # bins = [0,4,9,dfaccepted['last_mile_distance'].max()], np.linspace(0,15,76)\n",
        "dfranc['alloted_orders_group'] = pd.cut(dfranc['alloted_orders'], bins=[0,0.1,2,8,full['alloted_orders'].max()], include_lowest = True)\n",
        "x = dfrac['alloted_orders_group'].value_counts(sort=False)/(dfranc['alloted_orders_group'].value_counts(sort=False)+dfrac['alloted_orders_group'].value_counts(sort=False))\n",
        "x.plot.bar()"
      ],
      "metadata": {
        "id": "AMpcm8PG1WXD"
      },
      "execution_count": null,
      "outputs": []
    },
    {
      "cell_type": "code",
      "source": [
        "dfrac['alloted_orders_group'].value_counts(sort=False)"
      ],
      "metadata": {
        "id": "aNfeCVIxSygD"
      },
      "execution_count": null,
      "outputs": []
    },
    {
      "cell_type": "code",
      "source": [
        "dfranc['alloted_orders_group'].value_counts(sort=False)"
      ],
      "metadata": {
        "id": "zUvdODryTaga"
      },
      "execution_count": null,
      "outputs": []
    },
    {
      "cell_type": "code",
      "source": [
        "dfnrac['alloted_orders_group'] = pd.cut(dfnrac['alloted_orders'], bins=[0,0.1,1.5,2,8,full['alloted_orders'].max()], include_lowest = True) # bins = [0,4,9,dfaccepted['last_mile_distance'].max()], np.linspace(0,15,76)\n",
        "dfnranc['alloted_orders_group'] = pd.cut(dfnranc['alloted_orders'], bins=[0,0.1,1.5,2,8,full['alloted_orders'].max()], include_lowest = True)\n",
        "x = dfnrac['alloted_orders_group'].value_counts()/(dfnranc['alloted_orders_group'].value_counts()+dfnrac['alloted_orders_group'].value_counts())\n",
        "x.plot.bar()"
      ],
      "metadata": {
        "id": "bjyK7TcX1w-w"
      },
      "execution_count": null,
      "outputs": []
    },
    {
      "cell_type": "code",
      "source": [
        "dfcancelled['undelivered_orders_group'] = pd.cut(dfcancelled['undelivered_orders'], bins=[0,4,full['undelivered_orders'].max()], include_lowest = True) # bins = [0,4,dfaccepted['undelivered_orders'].max()]\n",
        "dfnotcancelled['undelivered_orders_group'] = pd.cut(dfnotcancelled['undelivered_orders'], bins=[0,4,full['undelivered_orders'].max()], include_lowest = True)\n",
        "\n",
        "x = dfcancelled['undelivered_orders_group'].value_counts()/(dfnotcancelled['undelivered_orders_group'].value_counts() + dfcancelled['undelivered_orders_group'].value_counts())\n",
        "x.plot.bar()"
      ],
      "metadata": {
        "id": "9nNpWyPThhnb"
      },
      "execution_count": null,
      "outputs": []
    },
    {
      "cell_type": "code",
      "source": [
        "dfnotcancelled['undelivered_orders_group'].value_counts()"
      ],
      "metadata": {
        "id": "m3-rsm5sxMri"
      },
      "execution_count": null,
      "outputs": []
    },
    {
      "cell_type": "code",
      "source": [
        "dfcancelled['undelivered_orders_group'].value_counts()"
      ],
      "metadata": {
        "id": "E3IcxfYWxRhV"
      },
      "execution_count": null,
      "outputs": []
    },
    {
      "cell_type": "code",
      "source": [
        "dfrac['undelivered_orders_group'] = pd.cut(dfrac['undelivered_orders'], bins=[0,4,full['undelivered_orders'].max()], include_lowest = True) # bins = [0,4,dfaccepted['undelivered_orders'].max()]\n",
        "dfranc['undelivered_orders_group'] = pd.cut(dfranc['undelivered_orders'], bins=[0,4,full['undelivered_orders'].max()], include_lowest = True)\n",
        "\n",
        "x = dfrac['undelivered_orders_group'].value_counts()/(dfranc['undelivered_orders_group'].value_counts() + dfrac['undelivered_orders_group'].value_counts())\n",
        "x.plot.bar()"
      ],
      "metadata": {
        "id": "hIU2G_ARUPUG"
      },
      "execution_count": null,
      "outputs": []
    },
    {
      "cell_type": "code",
      "source": [
        "dfnrac['undelivered_orders_group'] = pd.cut(dfnrac['undelivered_orders'], bins=[0,4,full['undelivered_orders'].max()], include_lowest = True) # bins = [0,4,dfaccepted['undelivered_orders'].max()]\n",
        "dfnranc['undelivered_orders_group'] = pd.cut(dfnranc['undelivered_orders'], bins=[0,4,full['undelivered_orders'].max()], include_lowest = True)\n",
        "\n",
        "x = dfnrac['undelivered_orders_group'].value_counts()/(dfnranc['undelivered_orders_group'].value_counts() + dfnrac['undelivered_orders_group'].value_counts())\n",
        "x.plot.bar()"
      ],
      "metadata": {
        "id": "VoI0wBiCUdQt"
      },
      "execution_count": null,
      "outputs": []
    },
    {
      "cell_type": "code",
      "source": [
        "dfcancelled['lifetime_order_count_group'] = pd.cut(dfcancelled['lifetime_order_count'], bins=[0,0.1,1,2,3,4,10,20,full['lifetime_order_count'].max()], include_lowest = True) # bins = [0,0.1,5000,dfcancelled['lifetime_order_count'].max()], np.linspace(0,8000,101)\n",
        "dfnotcancelled['lifetime_order_count_group'] = pd.cut(dfnotcancelled['lifetime_order_count'], bins=[0,0.1,1,2,3,4,10,20,full['lifetime_order_count'].max()], include_lowest = True)\n",
        "\n",
        "x = dfcancelled['lifetime_order_count_group'].value_counts()/(dfnotcancelled['lifetime_order_count_group'].value_counts()+dfcancelled['lifetime_order_count_group'].value_counts())\n",
        "x.plot.bar()"
      ],
      "metadata": {
        "id": "-PF2LDV_ZBwz"
      },
      "execution_count": null,
      "outputs": []
    },
    {
      "cell_type": "code",
      "source": [
        "dfcancelled['lifetime_order_count_group'].value_counts(sort=False)"
      ],
      "metadata": {
        "id": "rsATQR-2VPNa"
      },
      "execution_count": null,
      "outputs": []
    },
    {
      "cell_type": "code",
      "source": [
        "dfnotcancelled['lifetime_order_count_group'].value_counts(sort=False)"
      ],
      "metadata": {
        "id": "d0yV1MGVVWuQ"
      },
      "execution_count": null,
      "outputs": []
    },
    {
      "cell_type": "code",
      "source": [
        "dfrac['lifetime_order_count_group'] = pd.cut(dfrac['lifetime_order_count'], bins=[0,0.1,2,4,20,full['lifetime_order_count'].max()], include_lowest = True) # bins = [0,4,9,dfaccepted['last_mile_distance'].max()], np.linspace(0,15,76)\n",
        "dfranc['lifetime_order_count_group'] = pd.cut(dfranc['lifetime_order_count'], bins=[0,0.1,2,4,20,full['lifetime_order_count'].max()], include_lowest = True)\n",
        "x = dfrac['lifetime_order_count_group'].value_counts()/(dfranc['lifetime_order_count_group'].value_counts()+dfrac['lifetime_order_count_group'].value_counts())\n",
        "x.plot.bar()"
      ],
      "metadata": {
        "id": "6MukkLmf2O9O"
      },
      "execution_count": null,
      "outputs": []
    },
    {
      "cell_type": "code",
      "source": [
        "dfrac['lifetime_order_count_group'].value_counts(sort=False)"
      ],
      "metadata": {
        "id": "7j5RSW7yVb6P"
      },
      "execution_count": null,
      "outputs": []
    },
    {
      "cell_type": "code",
      "source": [
        "dfranc['lifetime_order_count_group'].value_counts(sort=False)"
      ],
      "metadata": {
        "id": "Nuby-EMOVlpF"
      },
      "execution_count": null,
      "outputs": []
    },
    {
      "cell_type": "code",
      "source": [
        "dfnrac['lifetime_order_count_group'] = pd.cut(dfnrac['lifetime_order_count'], bins=[0,0.1,1,2,3,4,10,20,full['lifetime_order_count'].max()], include_lowest = True) # bins = [0,4,9,dfaccepted['last_mile_distance'].max()], np.linspace(0,15,76)\n",
        "dfnranc['lifetime_order_count_group'] = pd.cut(dfnranc['lifetime_order_count'], bins=[0,0.1,1,2,3,4,10,20,full['lifetime_order_count'].max()], include_lowest = True)\n",
        "x = dfnrac['lifetime_order_count_group'].value_counts()/(dfnranc['lifetime_order_count_group'].value_counts()+dfnrac['lifetime_order_count_group'].value_counts())\n",
        "x.plot.bar()"
      ],
      "metadata": {
        "id": "VSGobT5h2_uT"
      },
      "execution_count": null,
      "outputs": []
    },
    {
      "cell_type": "code",
      "source": [
        "dfcancelled['lifetime_order_count_group'].value_counts()"
      ],
      "metadata": {
        "id": "L-WB-h8Up5-l"
      },
      "execution_count": null,
      "outputs": []
    },
    {
      "cell_type": "code",
      "source": [
        "dfnotcancelled['lifetime_order_count_group'].value_counts()"
      ],
      "metadata": {
        "id": "XUkeni5kqgC4"
      },
      "execution_count": null,
      "outputs": []
    },
    {
      "cell_type": "code",
      "source": [
        "dfcancelled['reassignment_method'] = dfcancelled['reassignment_method'].fillna('0')\n",
        "dfnotcancelled['reassignment_method'] = dfnotcancelled['reassignment_method'].fillna('0')\n",
        "\n",
        "x = dfcancelled['reassignment_method'].value_counts()/(dfnotcancelled['reassignment_method'].value_counts()+dfcancelled['reassignment_method'].value_counts())\n",
        "x.plot.bar()"
      ],
      "metadata": {
        "id": "8k4YcoC5ZB0V"
      },
      "execution_count": null,
      "outputs": []
    },
    {
      "cell_type": "code",
      "source": [
        "dfcancelled['reassignment_reason'] = dfcancelled['reassignment_reason'].fillna('0')\n",
        "dfnotcancelled['reassignment_reason'] = dfnotcancelled['reassignment_reason'].fillna('0')\n",
        "\n",
        "x = dfcancelled['reassignment_reason'].value_counts()/(dfnotcancelled['reassignment_reason'].value_counts()+ dfcancelled['reassignment_reason'].value_counts())\n",
        "x.plot.bar()"
      ],
      "metadata": {
        "id": "ttIXtHgwplqb"
      },
      "execution_count": null,
      "outputs": []
    },
    {
      "cell_type": "code",
      "source": [
        "dfcancelled['reassigned_order'] = dfcancelled['reassigned_order'].fillna(0)\n",
        "dfnotcancelled['reassigned_order'] = dfnotcancelled['reassigned_order'].fillna(0)\n",
        "\n",
        "x = dfcancelled['reassigned_order'].value_counts()/(dfnotcancelled['reassigned_order'].value_counts()+dfcancelled['reassigned_order'].value_counts())\n",
        "x.plot.bar()"
      ],
      "metadata": {
        "id": "9XdJTdWmp_1x"
      },
      "execution_count": null,
      "outputs": []
    },
    {
      "cell_type": "code",
      "source": [
        "dfcancelled['session_time_group'] = pd.cut(dfcancelled['session_time'], bins=[0,0.1,5,80,full['session_time'].max()], include_lowest = True) # bins = [0,0.1,5,80,500,750,dfcancelled['session_time'].max()], np.linspace(0,1000,201)\n",
        "dfnotcancelled['session_time_group'] = pd.cut(dfnotcancelled['session_time'], bins=[0,0.1,5,80,full['session_time'].max()], include_lowest = True)\n",
        "\n",
        "x = dfcancelled['session_time_group'].value_counts(sort=False)/(dfnotcancelled['session_time_group'].value_counts(sort=False)+dfcancelled['session_time_group'].value_counts(sort=False))\n",
        "x.plot.bar()"
      ],
      "metadata": {
        "id": "-Zu0yab3ZB3k"
      },
      "execution_count": null,
      "outputs": []
    },
    {
      "cell_type": "code",
      "source": [
        "dfrac['session_time_group'] = pd.cut(dfrac['session_time'], bins=[0,0.1,20,80,full['session_time'].max()], include_lowest = True) # bins = [0,4,9,dfaccepted['last_mile_distance'].max()], np.linspace(0,15,76)\n",
        "dfranc['session_time_group'] = pd.cut(dfranc['session_time'], bins=[0,0.1,20,80,full['session_time'].max()], include_lowest = True)\n",
        "x = dfrac['session_time_group'].value_counts(sort=False)/(dfranc['session_time_group'].value_counts(sort=False)+dfrac['session_time_group'].value_counts(sort=False))\n",
        "x.plot.bar()"
      ],
      "metadata": {
        "id": "S3CqfBk-5YW8"
      },
      "execution_count": null,
      "outputs": []
    },
    {
      "cell_type": "code",
      "source": [
        "dfrac['session_time_group'].value_counts(sort=False)"
      ],
      "metadata": {
        "id": "EfSy-QOOW0Vf"
      },
      "execution_count": null,
      "outputs": []
    },
    {
      "cell_type": "code",
      "source": [
        "dfranc['session_time_group'].value_counts(sort=False)"
      ],
      "metadata": {
        "id": "JepGhJURW8OQ"
      },
      "execution_count": null,
      "outputs": []
    },
    {
      "cell_type": "code",
      "source": [
        "dfnrac['session_time_group'] = pd.cut(dfnrac['session_time'], bins=[0,0.1,5,80,full['session_time'].max()], include_lowest = True) # bins = [0,4,9,dfaccepted['last_mile_distance'].max()], np.linspace(0,15,76)\n",
        "dfnranc['session_time_group'] = pd.cut(dfnranc['session_time'], bins=[0,0.1,5,80,full['session_time'].max()], include_lowest = True)\n",
        "x = dfnrac['session_time_group'].value_counts(sort=False)/(dfnranc['session_time_group'].value_counts(sort=False)+dfnrac['session_time_group'].value_counts(sort=False))\n",
        "x.plot.bar()"
      ],
      "metadata": {
        "id": "jsw94JWV6YUR"
      },
      "execution_count": null,
      "outputs": []
    },
    {
      "cell_type": "code",
      "source": [
        "dfcancelled['O-A_s_group'] = pd.cut(dfcancelled['O-A_s'], bins=[full['O-A_s'].min(),2,200,1000,1200,1600,2000,2400,3000,3500,4000,6000,full['O-A_s'].max()], include_lowest = True) # bins=[0,200,400,800,1200,1600,2000,2400,2800,3200,3600,4000,4500,5000,6000,full['O-A_s'].max()], np.linspace(0,8000,21)\n",
        "dfnotcancelled['O-A_s_group'] = pd.cut(dfnotcancelled['O-A_s'], bins=[full['O-A_s'].min(),2,200,1000,1200,1600,2000,2400,3000,3500,4000,6000,full['O-A_s'].max()], include_lowest = True)\n",
        "\n",
        "x = dfcancelled['O-A_s_group'].value_counts()/(dfnotcancelled['O-A_s_group'].value_counts()+dfcancelled['O-A_s_group'].value_counts())\n",
        "x.plot.bar()"
      ],
      "metadata": {
        "id": "rj9ZqTeI5jFS"
      },
      "execution_count": null,
      "outputs": []
    },
    {
      "cell_type": "code",
      "source": [
        "dfrac['O-A_s_group'] = pd.cut(dfrac['O-A_s'], bins=[full['O-A_s'].min(),2,200,1000,1200,1600,2000,2400,3000,3500,4000,6000,full['O-A_s'].max()], include_lowest = True) # bins = [0,4,9,dfaccepted['last_mile_distance'].max()], np.linspace(0,15,76)\n",
        "dfranc['O-A_s_group'] = pd.cut(dfranc['O-A_s'], bins=[full['O-A_s'].min(),2,200,1000,1200,1600,2000,2400,3000,3500,4000,6000,full['O-A_s'].max()], include_lowest = True)\n",
        "x = dfrac['O-A_s_group'].value_counts(sort=False)/(dfranc['O-A_s_group'].value_counts(sort=False)+dfrac['O-A_s_group'].value_counts(sort=False))\n",
        "x.plot.bar()"
      ],
      "metadata": {
        "id": "WTWLUIax6oq2"
      },
      "execution_count": null,
      "outputs": []
    },
    {
      "cell_type": "code",
      "source": [
        "dfrac['O-A_s_group'].value_counts(sort=False)"
      ],
      "metadata": {
        "id": "eJc_A_NtX4k0"
      },
      "execution_count": null,
      "outputs": []
    },
    {
      "cell_type": "code",
      "source": [
        "dfnrac['O-A_s_group'] = pd.cut(dfnrac['O-A_s'], bins=[full['O-A_s'].min(),2,200,1000,1200,1600,2000,3000,3500,6000,full['O-A_s'].max()], include_lowest = True) # bins = [0,4,9,dfaccepted['last_mile_distance'].max()], np.linspace(0,15,76)\n",
        "dfnranc['O-A_s_group'] = pd.cut(dfnranc['O-A_s'], bins=[full['O-A_s'].min(),2,200,1000,1200,1600,2000,3000,3500,6000,full['O-A_s'].max()], include_lowest = True)\n",
        "x = dfnrac['O-A_s_group'].value_counts(sort=False)/(dfnranc['O-A_s_group'].value_counts(sort=False)+dfnrac['O-A_s_group'].value_counts(sort=False))\n",
        "x.plot.bar()"
      ],
      "metadata": {
        "id": "NXebxZu669ui"
      },
      "execution_count": null,
      "outputs": []
    },
    {
      "cell_type": "code",
      "source": [
        "dfnrac['O-A_s_group'].value_counts(sort=False)"
      ],
      "metadata": {
        "id": "YKBBkeqsYKe_"
      },
      "execution_count": null,
      "outputs": []
    },
    {
      "cell_type": "code",
      "source": [
        "dfnranc['O-A_s_group'].value_counts(sort=False)"
      ],
      "metadata": {
        "id": "AClPQT-aYKjc"
      },
      "execution_count": null,
      "outputs": []
    },
    {
      "cell_type": "code",
      "source": [
        "dfcancelled['A-A_s_group'] = pd.cut(dfcancelled['A-A_s'], bins=[full['A-A_s'].min(),0,3,4,90,300,700,800,950,full['A-A_s'].max()], include_lowest = True) # bins = [0,90,600,900,dfcancelled['A-A_s']] , np.linspace(0,900,201)\n",
        "dfnotcancelled['A-A_s_group'] = pd.cut(dfnotcancelled['A-A_s'], bins=[full['A-A_s'].min(),0,3,4,90,300,700,800,950,full['A-A_s'].max()], include_lowest = True)\n",
        "\n",
        "x = dfcancelled['A-A_s_group'].value_counts()/(dfnotcancelled['A-A_s_group'].value_counts()+dfcancelled['A-A_s_group'].value_counts())\n",
        "x.plot.bar()"
      ],
      "metadata": {
        "id": "6JmJqc5M5xaz"
      },
      "execution_count": null,
      "outputs": []
    },
    {
      "cell_type": "code",
      "source": [
        "dfrac['A-A_s_group'] = pd.cut(dfrac['A-A_s'], bins=[0,4,90,300,950], include_lowest = True) # bins = [0,4,9,dfaccepted['last_mile_distance'].max()], np.linspace(0,15,76)\n",
        "dfranc['A-A_s_group'] = pd.cut(dfranc['A-A_s'], bins=[0,4,90,300,950], include_lowest = True)\n",
        "x = dfrac['A-A_s_group'].value_counts(sort=False)/(dfranc['A-A_s_group'].value_counts(sort=False)+dfrac['A-A_s_group'].value_counts(sort=False))\n",
        "x.plot.bar()"
      ],
      "metadata": {
        "id": "HtYe4xsZ7SWa"
      },
      "execution_count": null,
      "outputs": []
    },
    {
      "cell_type": "code",
      "source": [
        "dfrac['A-A_s_group'].value_counts(sort=False)"
      ],
      "metadata": {
        "id": "S-C10-b_8Q-e"
      },
      "execution_count": null,
      "outputs": []
    },
    {
      "cell_type": "code",
      "source": [
        "dfranc['A-A_s_group'].value_counts(sort=False)"
      ],
      "metadata": {
        "id": "mZPVi3YU8ZZS"
      },
      "execution_count": null,
      "outputs": []
    },
    {
      "cell_type": "code",
      "source": [
        "dfnrac['A-A_s_group'] = pd.cut(dfnrac['A-A_s'], bins=[0,3,4,90,300,700,800,950], include_lowest = True) # bins = [0,4,9,dfaccepted['last_mile_distance'].max()], np.linspace(0,15,76)\n",
        "dfnranc['A-A_s_group'] = pd.cut(dfnranc['A-A_s'], bins=[0,3,4,90,300,700,800,950], include_lowest = True)\n",
        "x = dfnrac['A-A_s_group'].value_counts()/(dfnranc['A-A_s_group'].value_counts()+dfnrac['A-A_s_group'].value_counts())\n",
        "x.plot.bar()"
      ],
      "metadata": {
        "id": "P5A1xhmc7xKF"
      },
      "execution_count": null,
      "outputs": []
    },
    {
      "cell_type": "code",
      "source": [
        "dfcancelled['undelivered_percentage_group'] = pd.cut(dfcancelled['undelivered_percentage'], bins=[0,0.1,0.2,0.3,0.4,0.5,0.6,1], include_lowest = True) # bins = [0,0.1,0.2,0.3,0.4,0.5,0.6,1]\n",
        "dfnotcancelled['undelivered_percentage_group'] = pd.cut(dfnotcancelled['undelivered_percentage'], bins=[0,0.1,0.2,0.3,0.4,0.5,0.6,1], include_lowest = True)\n",
        "\n",
        "x = dfcancelled['undelivered_percentage_group'].value_counts(sort=False)/(dfnotcancelled['undelivered_percentage_group'].value_counts(sort=False)+dfcancelled['undelivered_percentage_group'].value_counts(sort=False))\n",
        "x.plot.bar()"
      ],
      "metadata": {
        "id": "HTB53sjouG_F"
      },
      "execution_count": null,
      "outputs": []
    },
    {
      "cell_type": "code",
      "source": [
        "dfrac['undelivered_percentage_group'] = pd.cut(dfrac['undelivered_percentage'], bins=[0,0.1,0.25,0.35,1], include_lowest = True) # bins = [0,0.1,0.2,0.3,0.4,0.5,0.6,1]\n",
        "dfranc['undelivered_percentage_group'] = pd.cut(dfranc['undelivered_percentage'], bins=[0,0.1,0.25,0.35,1], include_lowest = True)\n",
        "x = dfrac['undelivered_percentage_group'].value_counts(sort=False)/(dfranc['undelivered_percentage_group'].value_counts(sort=False)+dfrac['undelivered_percentage_group'].value_counts(sort=False))\n",
        "x.plot.bar()"
      ],
      "metadata": {
        "id": "jnPIfLOTeF22"
      },
      "execution_count": null,
      "outputs": []
    },
    {
      "cell_type": "code",
      "source": [
        "dfnrac['undelivered_percentage_group'] = pd.cut(dfnrac['undelivered_percentage'], bins=[0,0.1,0.2,0.3,0.4,0.5,0.6,1], include_lowest = True) # bins = [0,0.1,0.2,0.3,0.4,0.5,0.6,1]\n",
        "dfnranc['undelivered_percentage_group'] = pd.cut(dfnranc['undelivered_percentage'], bins=[0,0.1,0.2,0.3,0.4,0.5,0.6,1], include_lowest = True)\n",
        "x = dfnrac['undelivered_percentage_group'].value_counts(sort=False)/(dfnranc['undelivered_percentage_group'].value_counts(sort=False)+dfnrac['undelivered_percentage_group'].value_counts(sort=False))\n",
        "x.plot.bar()"
      ],
      "metadata": {
        "id": "e8LmJf0BegpC"
      },
      "execution_count": null,
      "outputs": []
    },
    {
      "cell_type": "code",
      "source": [
        "dfcancelled['undelivered_percentage_group'].value_counts(sort=False)"
      ],
      "metadata": {
        "id": "Nc4NORQIZY9N"
      },
      "execution_count": null,
      "outputs": []
    },
    {
      "cell_type": "code",
      "source": [
        ""
      ],
      "metadata": {
        "id": "meGyr3NWdaVN"
      },
      "execution_count": null,
      "outputs": []
    },
    {
      "cell_type": "markdown",
      "source": [
        "**Scaled Data**"
      ],
      "metadata": {
        "id": "0BgZ_-lhuMnW"
      }
    },
    {
      "cell_type": "code",
      "source": [
        "scaler = MinMaxScaler()\n",
        "\n",
        "cols_to_scale_minmax = ['first_mile_distance', 'last_mile_distance', 'alloted_orders', 'undelivered_orders', 'lifetime_order_count', 'session_time', 'A-A_s', 'O-A_s',\n",
        "                        'undelivered_percentage', 'timeofday']\n",
        "\n",
        "dfaccepted[cols_to_scale_minmax] = scaler.fit_transform(dfaccepted[cols_to_scale_minmax])\n",
        "dftestaccepted[cols_to_scale_minmax] = scaler.fit_transform(dftestaccepted[cols_to_scale_minmax])"
      ],
      "metadata": {
        "id": "ac-CYfdFVR7c"
      },
      "execution_count": null,
      "outputs": []
    },
    {
      "cell_type": "code",
      "source": [
        "#dfaccepted['first_mile_distance_robust'] = 1-np.exp(-dfaccepted['first_mile_distance']*20)\n",
        "#dfaccepted['last_mile_distance_robust'] = 1-np.exp(-dfaccepted['last_mile_distance']*2)\n",
        "#dfaccepted['O-A_s_robust'] = 1-np.exp(-dfaccepted['O-A_s']*8)"
      ],
      "metadata": {
        "id": "ymIst0pSdCn6"
      },
      "execution_count": null,
      "outputs": []
    },
    {
      "cell_type": "code",
      "source": [
        "#dftestaccepted['first_mile_distance_robust'] = 1-np.exp(-dfaccepted['first_mile_distance']*20)\n",
        "#dftestaccepted['last_mile_distance_robust'] = 1-np.exp(-dfaccepted['last_mile_distance']*2)\n",
        "#dftestaccepted['O-A_s_robust'] = 1-np.exp(-dfaccepted['O-A_s']*8)"
      ],
      "metadata": {
        "id": "luR-_-T0qIx0"
      },
      "execution_count": null,
      "outputs": []
    },
    {
      "cell_type": "code",
      "source": [
        "dfaccepted.head()"
      ],
      "metadata": {
        "id": "5aXdm_mPdlK7"
      },
      "execution_count": null,
      "outputs": []
    },
    {
      "cell_type": "code",
      "source": [
        "dftestaccepted.head()"
      ],
      "metadata": {
        "id": "9xKs92PsqWBQ"
      },
      "execution_count": null,
      "outputs": []
    },
    {
      "cell_type": "code",
      "source": [
        "dfaccepted1 = dfaccepted.drop(columns = ['order_time', 'order_id', 'order_date', 'allot_time', 'accept_time', 'pickup_time', 'delivered_time', 'rider_id', 'delivered_orders',\n",
        "                                         'first_mile_distance', 'last_mile_distance', 'lifetime_order_count', 'O-A_s', 'undelivered_percentage',\n",
        "                                         'cancelled_time', 'accept_time_with_outliers', 'accepted', 'pickedup', 'delivered', 'O-A_time', 'A-A_time'])"
      ],
      "metadata": {
        "id": "2thx5G2LeH2c"
      },
      "execution_count": null,
      "outputs": []
    },
    {
      "cell_type": "code",
      "source": [
        "dfacceptedDT = dfaccepted[['first_mile_distance', 'last_mile_distance', 'alloted_orders', 'undelivered_orders', 'reassigned_order',\t\n",
        "                         'session_time',\t'A-A_s',\t'O-A_s',\t'undelivered_percentage',\t'timeofday',\t'reassignment_method_auto',\t'reassignment_method_manual',\n",
        "                         'reassignment_method_nan',\t'reassignment_reason_Auto Reassignment basis Inaction. coreengine.tasks.repush_order_to_aa_bucket',\n",
        "                         'reassignment_reason_Reassign',  'reassignment_reason_Reassignment Request from SE portal.',\t'reassignment_reason_nan',\n",
        "                         'Day_Monday',\t'Day_Saturday',\t'Day_Sunday',\t'Day_Tuesday',\t'Day_Friday',\t'Day_Thursday',\t'Day_Wednesday', 'cancelled']]"
      ],
      "metadata": {
        "id": "ycCoOsEhdWKV"
      },
      "execution_count": null,
      "outputs": []
    },
    {
      "cell_type": "code",
      "source": [
        "dftestacceptedDT = dftestaccepted[['first_mile_distance', 'last_mile_distance', 'alloted_orders', 'undelivered_orders', 'reassigned_order',\t\n",
        "                         'session_time',\t'A-A_s',\t'O-A_s',\t'undelivered_percentage',\t'timeofday',\t'reassignment_method_auto',\t'reassignment_method_manual',\n",
        "                         'reassignment_method_nan',\t'reassignment_reason_Auto Reassignment basis Inaction. coreengine.tasks.repush_order_to_aa_bucket',\n",
        "                         'reassignment_reason_Reassign',  'reassignment_reason_Reassignment Request from SE portal.',\t'reassignment_reason_nan',\n",
        "                         'Day_Monday',\t'Day_Saturday',\t'Day_Sunday',\t'Day_Tuesday',\t'Day_Friday',\t'Day_Thursday',\t'Day_Wednesday']]"
      ],
      "metadata": {
        "id": "LxsBVa9-h-0x"
      },
      "execution_count": null,
      "outputs": []
    },
    {
      "cell_type": "code",
      "source": [
        "dfaccepted1"
      ],
      "metadata": {
        "id": "aniCz1hNfDL-"
      },
      "execution_count": null,
      "outputs": []
    },
    {
      "cell_type": "code",
      "source": [
        "dftestaccepted1 = dftestaccepted[['alloted_orders', 'undelivered_orders', 'reassigned_order',\t\n",
        "                         'session_time',\t'A-A_s',\t'timeofday',\t'reassignment_method_auto',\t'reassignment_method_manual',\n",
        "                         'reassignment_method_nan',\t'reassignment_reason_Auto Reassignment basis Inaction. coreengine.tasks.repush_order_to_aa_bucket',\n",
        "                         'reassignment_reason_Reassign',  'reassignment_reason_Reassignment Request from SE portal.',\t'reassignment_reason_nan',\n",
        "                         'Day_Friday', 'Day_Monday',\t'Day_Saturday',\t'Day_Sunday',\t'Day_Thursday', 'Day_Tuesday',\t'Day_Wednesday', \n",
        "                         'last_mile_distance_robust', 'O-A_s_robust', 'first_mile_distance_robust']]"
      ],
      "metadata": {
        "id": "GFcoM5doq6oi"
      },
      "execution_count": null,
      "outputs": []
    },
    {
      "cell_type": "code",
      "source": [
        "dftestaccepted1"
      ],
      "metadata": {
        "id": "_JMU0_1sr5Xq"
      },
      "execution_count": null,
      "outputs": []
    },
    {
      "cell_type": "code",
      "source": [
        "dfaccepted = dfaccepted[['first_mile_distance', 'last_mile_distance', 'alloted_orders', 'undelivered_orders', 'lifetime_order_count', 'reassigned_order',\t\n",
        "                         'session_time',\t'A-A_s',\t'O-A_s',\t'undelivered_percentage',\t'timeofday',\t'reassignment_method_auto',\t'reassignment_method_manual',\n",
        "                         'reassignment_method_nan',\t'reassignment_reason_Auto Reassignment basis Inaction. coreengine.tasks.repush_order_to_aa_bucket',\n",
        "                         'reassignment_reason_Reassign',  'reassignment_reason_Reassignment Request from SE portal.',\t'reassignment_reason_nan',\n",
        "                         'Day_Monday',\t'Day_Saturday',\t'Day_Sunday',\t'Day_Tuesday',\t'Day_Friday',\t'Day_Thursday',\t'Day_Wednesday', 'cancelled']]\n",
        "dftestaccepted = dftestaccepted[['first_mile_distance', 'last_mile_distance', 'alloted_orders', 'undelivered_orders', 'lifetime_order_count', 'reassigned_order',\t\n",
        "                         'session_time',\t'A-A_s',\t'O-A_s',\t'undelivered_percentage',\t'timeofday',\t'reassignment_method_auto',\t'reassignment_method_manual',\n",
        "                         'reassignment_method_nan',\t'reassignment_reason_Auto Reassignment basis Inaction. coreengine.tasks.repush_order_to_aa_bucket',\n",
        "                         'reassignment_reason_Reassign',  'reassignment_reason_Reassignment Request from SE portal.',\t'reassignment_reason_nan',\n",
        "                         'Day_Monday',\t'Day_Saturday',\t'Day_Sunday',\t'Day_Tuesday',\t'Day_Friday',\t'Day_Thursday',\t'Day_Wednesday']]"
      ],
      "metadata": {
        "id": "bQ8Bjd5vuIJT"
      },
      "execution_count": null,
      "outputs": []
    },
    {
      "cell_type": "code",
      "source": [
        "dfaccepted.head()"
      ],
      "metadata": {
        "id": "2Xup-iBKrsff"
      },
      "execution_count": null,
      "outputs": []
    },
    {
      "cell_type": "code",
      "source": [
        "dftestaccepted.head()"
      ],
      "metadata": {
        "id": "C_Yr2Z1QrkBg"
      },
      "execution_count": null,
      "outputs": []
    },
    {
      "cell_type": "markdown",
      "source": [
        "**Data with bins**"
      ],
      "metadata": {
        "id": "-Va4mOh5tnxY"
      }
    },
    {
      "cell_type": "code",
      "source": [
        "dfaccepted['timeofday_group'] = pd.cut(dfaccepted['timeofday'], bins=[5,18,19], include_lowest = True)\n",
        "dfaccepted['first_mile_distance_group'] = pd.cut(dfaccepted['first_mile_distance'], bins=[0,3,4,dfaccepted['first_mile_distance'].max()], include_lowest = True)\n",
        "dfaccepted['last_mile_distance_group'] = pd.cut(dfaccepted['last_mile_distance'], bins=[0,4,8,dfaccepted['last_mile_distance'].max()], include_lowest = True)\n",
        "dfaccepted['alloted_orders_group'] = pd.cut(dfaccepted['alloted_orders'], bins=[0,0.1,1.5,2,8,dfaccepted['alloted_orders'].max()], include_lowest = True)\n",
        "dfaccepted['undelivered_orders_group'] = pd.cut(dfaccepted['undelivered_orders'], bins=[0,4,dfaccepted['undelivered_orders'].max()], include_lowest = True)\n",
        "dfaccepted['lifetime_order_count_group'] = pd.cut(dfaccepted['lifetime_order_count'], bins=[0,0.1,1,2,3,4,10,20,dfaccepted['lifetime_order_count'].max()], include_lowest = True)\n",
        "dfaccepted['session_time_group'] = pd.cut(dfaccepted['session_time'], bins=[0,0.1,5,80,dfaccepted['session_time'].max()], include_lowest = True)\n",
        "#dfaccepted['O-A_s_group'] = bins=[5,18,19]\n",
        "dfaccepted['A-A_s_group'] = pd.cut(dfaccepted['A-A_s'], bins=[dfaccepted['A-A_s'].min(),0,3,4,90,600,dfaccepted['A-A_s'].max()], include_lowest = True)\n"
      ],
      "metadata": {
        "id": "znlT1K68vDQD"
      },
      "execution_count": null,
      "outputs": []
    },
    {
      "cell_type": "code",
      "source": [
        "nbins = len(dfaccepted['timeofday_group'].unique())"
      ],
      "metadata": {
        "id": "RZhOhBensKKt"
      },
      "execution_count": null,
      "outputs": []
    },
    {
      "cell_type": "code",
      "source": [
        "dfaccepted.columns\n",
        "for i in dfaccepted.columns:\n",
        "  print(i, dfaccepted[i].isnull().values.sum())"
      ],
      "metadata": {
        "id": "Fk5qEevptsNH"
      },
      "execution_count": null,
      "outputs": []
    },
    {
      "cell_type": "code",
      "source": [
        "#dfaccepted = pd.get_dummies(data=dfaccepted, columns=['timeofday_group'], dummy_na = True)\n",
        "dfaccepted = pd.get_dummies(data=dfaccepted, columns=['first_mile_distance_group', 'last_mile_distance_group', 'alloted_orders_group', 'undelivered_orders_group',\n",
        "                                                      'lifetime_order_count_group', 'session_time_group', 'A-A_s_group', 'timeofday_group'])"
      ],
      "metadata": {
        "id": "BKnEGelDtsPw"
      },
      "execution_count": null,
      "outputs": []
    },
    {
      "cell_type": "code",
      "source": [
        "dfaccepted.columns"
      ],
      "metadata": {
        "id": "N3g97DKVtsSb"
      },
      "execution_count": null,
      "outputs": []
    },
    {
      "cell_type": "code",
      "source": [
        "dfbins = dfaccepted[['cancelled', 'reassigned_order', 'reassignment_method_auto',\t'reassignment_method_manual',\t'reassignment_method_nan',\t\n",
        "                     'reassignment_reason_Auto Reassignment basis Inaction. coreengine.tasks.repush_order_to_aa_bucket',\t'reassignment_reason_Reassign',\n",
        "                     'reassignment_reason_Reassignment Request from SE portal.', 'reassignment_reason_nan', 'Day_Saturday',\n",
        "                     'first_mile_distance_group_(-0.001, 3.0]',\t'first_mile_distance_group_(3.0, 4.0]',\t'first_mile_distance_group_(4.0, 42.038]',\n",
        "                     'last_mile_distance_group_(-0.001, 4.0]', 'last_mile_distance_group_(4.0, 8.0]', 'last_mile_distance_group_(8.0, 22.41]',\n",
        "       'alloted_orders_group_(-0.001, 0.1]', 'alloted_orders_group_(0.1, 1.5]',\n",
        "       'alloted_orders_group_(1.5, 2.0]', 'alloted_orders_group_(2.0, 8.0]',\n",
        "       'alloted_orders_group_(8.0, 567.0]',\n",
        "       'undelivered_orders_group_(-0.001, 4.0]',\n",
        "       'undelivered_orders_group_(4.0, 9.0]',\n",
        "       'lifetime_order_count_group_(-0.001, 0.1]',\n",
        "       'lifetime_order_count_group_(0.1, 1.0]',\n",
        "       'lifetime_order_count_group_(1.0, 2.0]',\n",
        "       'lifetime_order_count_group_(2.0, 3.0]',\n",
        "       'lifetime_order_count_group_(3.0, 4.0]',\n",
        "       'lifetime_order_count_group_(4.0, 10.0]',\n",
        "       'lifetime_order_count_group_(10.0, 20.0]',\n",
        "       'lifetime_order_count_group_(20.0, 30469.0]',\n",
        "       'session_time_group_(-0.001, 0.1]', 'session_time_group_(0.1, 5.0]',\n",
        "       'session_time_group_(5.0, 80.0]', 'session_time_group_(80.0, 1298.967]',\n",
        "       'A-A_s_group_(-28534.001, 0.0]', 'A-A_s_group_(0.0, 3.0]',\n",
        "       'A-A_s_group_(3.0, 4.0]', 'A-A_s_group_(4.0, 90.0]',\n",
        "       'A-A_s_group_(90.0, 600.0]', 'A-A_s_group_(600.0, 930.0]',\n",
        "       'timeofday_group_(4.999, 18.0]', 'timeofday_group_(18.0, 19.0]']]"
      ],
      "metadata": {
        "id": "PmvrfTH-NS61"
      },
      "execution_count": null,
      "outputs": []
    },
    {
      "cell_type": "code",
      "source": [
        "len(dfbins.columns)"
      ],
      "metadata": {
        "colab": {
          "base_uri": "https://localhost:8080/"
        },
        "id": "Tg14Ne2jO3VJ",
        "outputId": "ef7a1568-c236-444e-f3f4-d8047380eee4"
      },
      "execution_count": null,
      "outputs": [
        {
          "output_type": "execute_result",
          "data": {
            "text/plain": [
              "43"
            ]
          },
          "metadata": {},
          "execution_count": 19
        }
      ]
    },
    {
      "cell_type": "markdown",
      "source": [
        "**Linearizing with bins**"
      ],
      "metadata": {
        "id": "gnvdu5qKtwaC"
      }
    },
    {
      "cell_type": "code",
      "source": [
        "def linearize(dataframe, col_name, dfcancelled = dfcancelled, dfnotcancelled = dfnotcancelled):\n",
        "  dictionary = (dfcancelled[col_name].value_counts()/(dfnotcancelled[col_name].value_counts()+dfcancelled[col_name].value_counts()))\n",
        "  dataframe[col_name].replace(dictionary, inplace = True)"
      ],
      "metadata": {
        "id": "47j86YH4tvdV"
      },
      "execution_count": null,
      "outputs": []
    },
    {
      "cell_type": "code",
      "source": [
        "full['reassignment_method'] = full['reassignment_method'].fillna('0')\n",
        "full['reassignment_reason'] = full['reassignment_reason'].fillna('0')"
      ],
      "metadata": {
        "id": "Hv6t9L8F7oSm"
      },
      "execution_count": null,
      "outputs": []
    },
    {
      "cell_type": "code",
      "source": [
        "fulltest['reassignment_method'] = fulltest['reassignment_method'].fillna('0')\n",
        "fulltest['reassignment_reason'] = fulltest['reassignment_reason'].fillna('0')"
      ],
      "metadata": {
        "id": "bWQMzVmZhXTB"
      },
      "execution_count": null,
      "outputs": []
    },
    {
      "cell_type": "code",
      "source": [
        "full['timeofday_group'] = pd.cut(full['timeofday'], bins = [18,19], include_lowest = True)\n",
        "full = pd.get_dummies(data=full, columns=['timeofday_group'], dummy_na = True)"
      ],
      "metadata": {
        "id": "Jpw0UX8BHnVz"
      },
      "execution_count": null,
      "outputs": []
    },
    {
      "cell_type": "code",
      "source": [
        "fulltest['timeofday_group'] = pd.cut(fulltest['timeofday'], bins = [18,19], include_lowest = True)\n",
        "fulltest = pd.get_dummies(data=fulltest, columns=['timeofday_group'], dummy_na = True)"
      ],
      "metadata": {
        "id": "FdQ5xwLQhiRo"
      },
      "execution_count": null,
      "outputs": []
    },
    {
      "cell_type": "code",
      "source": [
        "full['timeofday_group_(17.999, 19.0]'] = ((dfcancelled['timeofday_group'].value_counts()/(dfnotcancelled['timeofday_group'].value_counts()+dfcancelled['timeofday_group'].value_counts()))[0])*full['timeofday_group_(17.999, 19.0]']"
      ],
      "metadata": {
        "id": "prfqDrv5K6Mp"
      },
      "execution_count": null,
      "outputs": []
    },
    {
      "cell_type": "code",
      "source": [
        "fulltest['timeofday_group_(17.999, 19.0]'] = ((dfcancelled['timeofday_group'].value_counts()/(dfnotcancelled['timeofday_group'].value_counts()+dfcancelled['timeofday_group'].value_counts()))[0])*fulltest['timeofday_group_(17.999, 19.0]']"
      ],
      "metadata": {
        "id": "LsrzOLZVhwQT"
      },
      "execution_count": null,
      "outputs": []
    },
    {
      "cell_type": "code",
      "source": [
        "full['timeofday_group_nan'] = (len(dfcancelled)/(len(dfnotcancelled)+len(dfcancelled)))*full['timeofday_group_nan']\n",
        "full['timeofday_group'] = full['timeofday_group_(17.999, 19.0]'] + full['timeofday_group_nan']"
      ],
      "metadata": {
        "id": "3dT3iSA_LamT"
      },
      "execution_count": null,
      "outputs": []
    },
    {
      "cell_type": "code",
      "source": [
        "fulltest['timeofday_group_nan'] = (len(dfcancelled)/(len(dfnotcancelled)+len(dfcancelled)))*fulltest['timeofday_group_nan']\n",
        "fulltest['timeofday_group'] = fulltest['timeofday_group_(17.999, 19.0]'] + fulltest['timeofday_group_nan']"
      ],
      "metadata": {
        "id": "Nw9peVsLiHAl"
      },
      "execution_count": null,
      "outputs": []
    },
    {
      "cell_type": "code",
      "source": [
        "full['timeofday_group'].value_counts()"
      ],
      "metadata": {
        "colab": {
          "base_uri": "https://localhost:8080/"
        },
        "id": "rtU_9yxBFlTS",
        "outputId": "85cdd89d-45e2-4237-b52e-a3acd29a9db4"
      },
      "execution_count": null,
      "outputs": [
        {
          "output_type": "execute_result",
          "data": {
            "text/plain": [
              "0.011596    449202\n",
              "0.071429       798\n",
              "Name: timeofday_group, dtype: int64"
            ]
          },
          "metadata": {},
          "execution_count": 138
        }
      ]
    },
    {
      "cell_type": "code",
      "source": [
        "fulltest['timeofday_group'].value_counts()"
      ],
      "metadata": {
        "colab": {
          "base_uri": "https://localhost:8080/"
        },
        "id": "QGWtLxcqiTYQ",
        "outputId": "dc8c78a3-1a64-4e8e-ff9b-912be8453ed2"
      },
      "execution_count": null,
      "outputs": [
        {
          "output_type": "execute_result",
          "data": {
            "text/plain": [
              "0.011596    144453\n",
              "0.071429       391\n",
              "Name: timeofday_group, dtype: int64"
            ]
          },
          "metadata": {},
          "execution_count": 170
        }
      ]
    },
    {
      "cell_type": "code",
      "source": [
        "full['first_mile_distance_group'] = pd.cut(full['first_mile_distance'], bins=[0,3,4,full['first_mile_distance'].max()], include_lowest = True)\n",
        "full['last_mile_distance_group'] = pd.cut(full['last_mile_distance'], bins=[0,4,8,full['last_mile_distance'].max()], include_lowest = True)\n",
        "full['alloted_orders_group'] = pd.cut(full['alloted_orders'], bins=[0,0.1,1.5,2,8,full['alloted_orders'].max()], include_lowest = True)\n",
        "full['undelivered_orders_group'] = pd.cut(full['undelivered_orders'], bins=[0,4,full['undelivered_orders'].max()], include_lowest = True)\n",
        "full['lifetime_order_count_group'] = pd.cut(full['lifetime_order_count'], bins=[0,0.1,1,2,3,4,10,20,full['lifetime_order_count'].max()], include_lowest = True)\n",
        "full['session_time_group'] = pd.cut(full['session_time'], bins=[0,0.1,5,80,full['session_time'].max()], include_lowest = True)\n",
        "full['O-A_s_group'] = pd.cut(full['O-A_s'], bins=[full['O-A_s'].min(),2,200,1000,1200,1600,2000,2400,3000,3500,4000,6000,full['O-A_s'].max()], include_lowest = True)\n",
        "full['A-A_s_group'] = pd.cut(full['A-A_s'], bins=[full['A-A_s'].min(),0,3,4,90,300,700,800,950,full['A-A_s'].max()], include_lowest = True)"
      ],
      "metadata": {
        "id": "bPP7Evc8GMgx"
      },
      "execution_count": null,
      "outputs": []
    },
    {
      "cell_type": "code",
      "source": [
        "fulltest['first_mile_distance_group'] = pd.cut(fulltest['first_mile_distance'], bins=[0,3,4,full['first_mile_distance'].max()], include_lowest = True)\n",
        "fulltest['last_mile_distance_group'] = pd.cut(fulltest['last_mile_distance'], bins=[0,4,8,full['last_mile_distance'].max()], include_lowest = True)\n",
        "fulltest['alloted_orders_group'] = pd.cut(fulltest['alloted_orders'], bins=[0,0.1,1.5,2,8,full['alloted_orders'].max()], include_lowest = True)\n",
        "fulltest['undelivered_orders_group'] = pd.cut(fulltest['undelivered_orders'], bins=[0,4,full['undelivered_orders'].max()], include_lowest = True)\n",
        "fulltest['lifetime_order_count_group'] = pd.cut(fulltest['lifetime_order_count'], bins=[0,0.1,1,2,3,4,10,20,full['lifetime_order_count'].max()], include_lowest = True)\n",
        "fulltest['session_time_group'] = pd.cut(fulltest['session_time'], bins=[0,0.1,5,80,full['session_time'].max()], include_lowest = True)\n",
        "fulltest['O-A_s_group'] = pd.cut(fulltest['O-A_s'], bins=[full['O-A_s'].min(),2,200,1000,1200,1600,2000,2400,3000,3500,4000,6000,full['O-A_s'].max()], include_lowest = True)\n",
        "fulltest['A-A_s_group'] = pd.cut(fulltest['A-A_s'], bins=[full['A-A_s'].min(),0,3,4,90,300,700,800,950,full['A-A_s'].max()], include_lowest = True)"
      ],
      "metadata": {
        "id": "oWCB4kYGibda"
      },
      "execution_count": null,
      "outputs": []
    },
    {
      "cell_type": "code",
      "source": [
        "linearize(full, 'reassignment_method')\n",
        "linearize(full, 'reassignment_reason')\n",
        "linearize(full, 'timeofday_group')\n",
        "linearize(full, 'first_mile_distance_group')\n",
        "linearize(full, 'last_mile_distance_group')\n",
        "linearize(full, 'alloted_orders_group')\n",
        "linearize(full, 'undelivered_orders_group')\n",
        "linearize(full, 'lifetime_order_count_group')\n",
        "linearize(full, 'session_time_group')\n",
        "linearize(full, 'A-A_s_group')\n",
        "linearize(full, 'O-A_s_group')\n",
        "linearize(full, 'Day')\n",
        "linearize(full, 'reassigned_order')"
      ],
      "metadata": {
        "id": "CCrIKSJatvj2"
      },
      "execution_count": null,
      "outputs": []
    },
    {
      "cell_type": "code",
      "source": [
        "linearize(fulltest, 'reassignment_method')\n",
        "linearize(fulltest, 'reassignment_reason')\n",
        "linearize(fulltest, 'timeofday_group')\n",
        "linearize(fulltest, 'first_mile_distance_group')\n",
        "linearize(fulltest, 'last_mile_distance_group')\n",
        "linearize(fulltest, 'alloted_orders_group')\n",
        "linearize(fulltest, 'undelivered_orders_group')\n",
        "linearize(fulltest, 'lifetime_order_count_group')\n",
        "linearize(fulltest, 'session_time_group')\n",
        "linearize(fulltest, 'A-A_s_group')\n",
        "linearize(fulltest, 'O-A_s_group')\n",
        "linearize(fulltest, 'Day')\n",
        "linearize(fulltest, 'reassigned_order')"
      ],
      "metadata": {
        "id": "lJrOuGRui5Av"
      },
      "execution_count": null,
      "outputs": []
    },
    {
      "cell_type": "code",
      "source": [
        "dataplot = sns.heatmap(dflinearize.corr(), cmap=\"YlGnBu\", annot=True)\n",
        "plt.figure(figsize=(20, 20))\n",
        "plt.show()"
      ],
      "metadata": {
        "colab": {
          "base_uri": "https://localhost:8080/",
          "height": 414
        },
        "id": "wB9-eBfOk51v",
        "outputId": "3dbafc7b-63dc-410d-ca61-768d448565b0"
      },
      "execution_count": null,
      "outputs": [
        {
          "output_type": "display_data",
          "data": {
            "image/png": "[encoded data removed]",
            "text/plain": [
              "<Figure size 432x288 with 2 Axes>"
            ]
          },
          "metadata": {
            "needs_background": "light"
          }
        },
        {
          "output_type": "display_data",
          "data": {
            "text/plain": [
              "<Figure size 1440x1440 with 0 Axes>"
            ]
          },
          "metadata": {}
        }
      ]
    },
    {
      "cell_type": "markdown",
      "source": [
        "**Model**"
      ],
      "metadata": {
        "id": "7CiWXxL2Xej1"
      }
    },
    {
      "cell_type": "code",
      "source": [
        "df4.columns"
      ],
      "metadata": {
        "colab": {
          "base_uri": "https://localhost:8080/"
        },
        "id": "TlGULfT57IU8",
        "outputId": "5e48bde2-b56f-409a-c694-0ce2e989be5c"
      },
      "execution_count": null,
      "outputs": [
        {
          "output_type": "execute_result",
          "data": {
            "text/plain": [
              "Index(['order_time', 'order_id', 'order_date', 'allot_time', 'accept_time',\n",
              "       'pickup_time', 'delivered_time', 'rider_id', 'first_mile_distance',\n",
              "       'last_mile_distance', 'alloted_orders', 'delivered_orders', 'cancelled',\n",
              "       'undelivered_orders', 'lifetime_order_count', 'reassigned_order',\n",
              "       'session_time', 'cancelled_time', 'accept_time_with_outliers',\n",
              "       'accepted', 'pickedup', 'delivered', 'O-A_time', 'A-A_time', 'A-A_s',\n",
              "       'O-A_s', 'undelivered_percentage', 'timeofday',\n",
              "       'reassignment_method_auto', 'reassignment_method_manual',\n",
              "       'reassignment_method_nan',\n",
              "       'reassignment_reason_Auto Reassignment basis Inaction. coreengine.tasks.repush_order_to_aa_bucket',\n",
              "       'reassignment_reason_Reassign',\n",
              "       'reassignment_reason_Reassignment Request from SE portal.',\n",
              "       'reassignment_reason_nan', 'Day_Friday', 'Day_Monday', 'Day_Saturday',\n",
              "       'Day_Sunday', 'Day_Thursday', 'Day_Tuesday', 'Day_Wednesday'],\n",
              "      dtype='object')"
            ]
          },
          "metadata": {},
          "execution_count": 60
        }
      ]
    },
    {
      "cell_type": "code",
      "source": [
        "dfsimple = df4[['first_mile_distance',\n",
        "       'last_mile_distance', 'alloted_orders', 'delivered_orders',\n",
        "       'undelivered_orders', 'lifetime_order_count', 'reassigned_order',\n",
        "       'session_time', 'A-A_s', 'O-A_s',\n",
        "       'reassignment_method_auto', 'reassignment_method_manual',\n",
        "       'reassignment_method_nan',\n",
        "       'reassignment_reason_Auto Reassignment basis Inaction. coreengine.tasks.repush_order_to_aa_bucket',\n",
        "       'reassignment_reason_Reassign',\n",
        "       'reassignment_reason_Reassignment Request from SE portal.',\n",
        "       'reassignment_reason_nan',\n",
        "       'Day_Saturday','timeofday','cancelled'\n",
        "       ]]"
      ],
      "metadata": {
        "id": "xhaKmBAsdl0t"
      },
      "execution_count": null,
      "outputs": []
    },
    {
      "cell_type": "code",
      "source": [
        "dfsimpletest = dftest[['first_mile_distance',\n",
        "       'last_mile_distance', 'alloted_orders', 'delivered_orders',\n",
        "       'undelivered_orders', 'lifetime_order_count', 'reassigned_order',\n",
        "       'session_time', 'A-A_s', 'O-A_s',\n",
        "       'reassignment_method_auto', 'reassignment_method_manual',\n",
        "       'reassignment_method_nan',\n",
        "       'reassignment_reason_Auto Reassignment basis Inaction. coreengine.tasks.repush_order_to_aa_bucket',\n",
        "       'reassignment_reason_Reassign',\n",
        "       'reassignment_reason_Reassignment Request from SE portal.',\n",
        "       'reassignment_reason_nan',\n",
        "       'Day_Saturday','timeofday'\n",
        "       ]]"
      ],
      "metadata": {
        "id": "5cYu11FTuacI"
      },
      "execution_count": null,
      "outputs": []
    },
    {
      "cell_type": "code",
      "source": [
        "dfsimpletest1 = dfsimpletest.copy()"
      ],
      "metadata": {
        "id": "5e3l-VEy8RTv"
      },
      "execution_count": null,
      "outputs": []
    },
    {
      "cell_type": "code",
      "source": [
        "dfsimple['A-A_s'] = np.where((dfsimple['A-A_s'] >= 1000), 1000, dfsimple['A-A_s'])\n",
        "dfsimple['A-A_s'] = np.where((dfsimple['A-A_s'] <= 0), 1000, dfsimple['A-A_s'])"
      ],
      "metadata": {
        "id": "TiBKvglK3oEl"
      },
      "execution_count": null,
      "outputs": []
    },
    {
      "cell_type": "code",
      "source": [
        "dfsimpletest1['A-A_s'] = np.where((dfsimpletest1['A-A_s'] >= 1000), 1000, dfsimpletest1['A-A_s'])\n",
        "dfsimpletest1['A-A_s'] = np.where((dfsimpletest1['A-A_s'] <= 0), 1000, dfsimpletest1['A-A_s'])"
      ],
      "metadata": {
        "id": "vwdxV0T1VpTr"
      },
      "execution_count": null,
      "outputs": []
    },
    {
      "cell_type": "code",
      "source": [
        "dfsimple['first_mile_distance'] = np.where(dfsimple['first_mile_distance'] < 100, dfsimple['first_mile_distance']//1, dfsimple['first_mile_distance'])\n",
        "#dfsimple['first_mile_distance'] = np.where((dfsimple['first_mile_distance'] >= 10)&(dfsimple['first_mile_distance'] < 100), (dfsimple['first_mile_distance']//10)*10, dfsimple['first_mile_distance'])"
      ],
      "metadata": {
        "id": "bRdNj3KUZBIr"
      },
      "execution_count": null,
      "outputs": []
    },
    {
      "cell_type": "code",
      "source": [
        "dfsimpletest1['first_mile_distance'] = np.where(dfsimpletest1['first_mile_distance'] < 100, dfsimpletest1['first_mile_distance']//1, dfsimpletest1['first_mile_distance'])\n",
        "#dfsimpletest1['first_mile_distance'] = np.where((dfsimpletest1['first_mile_distance'] >= 10)&(dfsimpletest1['first_mile_distance'] < 100), (dfsimpletest1['first_mile_distance']//10)*10, dfsimpletest1['first_mile_distance'])"
      ],
      "metadata": {
        "id": "-sHvyjJK7Wmc"
      },
      "execution_count": null,
      "outputs": []
    },
    {
      "cell_type": "code",
      "source": [
        "dfsimple['last_mile_distance'] = np.where(dfsimple['last_mile_distance'] < 100, dfsimple['last_mile_distance']//1, dfsimple['last_mile_distance'])\n",
        "#dfsimple['last_mile_distance'] = np.where((dfsimple['last_mile_distance'] >= 10)&(dfsimple['last_mile_distance'] < 100), (dfsimple['last_mile_distance']//10)*10, dfsimple['last_mile_distance'])"
      ],
      "metadata": {
        "id": "YjqjAVNK31kE"
      },
      "execution_count": null,
      "outputs": []
    },
    {
      "cell_type": "code",
      "source": [
        "dfsimpletest1['last_mile_distance'] = np.where(dfsimpletest1['last_mile_distance'] < 100, dfsimpletest1['last_mile_distance']//1, dfsimpletest1['last_mile_distance'])\n",
        "#dfsimpletest1['last_mile_distance'] = np.where((dfsimpletest1['last_mile_distance'] >= 10)&(dfsimpletest1['last_mile_distance'] < 100), (dfsimpletest1['last_mile_distance']//10)*10, dfsimpletest1['last_mile_distance'])"
      ],
      "metadata": {
        "id": "2lTS1ljX-z1s"
      },
      "execution_count": null,
      "outputs": []
    },
    {
      "cell_type": "code",
      "source": [
        "dfsimple['alloted_orders'] = np.where(dfsimple['alloted_orders'] < 10, dfsimple['alloted_orders']//1, dfsimple['alloted_orders'])\n",
        "dfsimple['alloted_orders'] = np.where((dfsimple['alloted_orders'] >= 10)&(dfsimple['alloted_orders'] < 100), (dfsimple['alloted_orders']//10)*10, dfsimple['alloted_orders'])\n",
        "dfsimple['alloted_orders'] = np.where((dfsimple['alloted_orders'] >= 100)&(dfsimple['alloted_orders'] < 1000), (dfsimple['alloted_orders']//100)*100, dfsimple['alloted_orders'])"
      ],
      "metadata": {
        "id": "L_fSrRvO35I4"
      },
      "execution_count": null,
      "outputs": []
    },
    {
      "cell_type": "code",
      "source": [
        "dfsimpletest1['alloted_orders'] = np.where(dfsimpletest1['alloted_orders'] < 10, dfsimpletest1['alloted_orders']//1, dfsimpletest1['alloted_orders'])\n",
        "dfsimpletest1['alloted_orders'] = np.where((dfsimpletest1['alloted_orders'] >= 10)&(dfsimpletest1['alloted_orders'] < 100), (dfsimpletest1['alloted_orders']//10)*10, dfsimpletest1['alloted_orders'])\n",
        "dfsimpletest1['alloted_orders'] = np.where((dfsimpletest1['alloted_orders'] >= 100)&(dfsimpletest1['alloted_orders'] < 1000), (dfsimpletest1['alloted_orders']//100)*100, dfsimpletest1['alloted_orders'])"
      ],
      "metadata": {
        "id": "mQeos9OGbine"
      },
      "execution_count": null,
      "outputs": []
    },
    {
      "cell_type": "code",
      "source": [
        "dfsimple['delivered_orders'] = np.where(dfsimple['delivered_orders'] < 10, dfsimple['delivered_orders']//1, dfsimple['delivered_orders'])\n",
        "dfsimple['delivered_orders'] = np.where((dfsimple['delivered_orders'] >= 10)&(dfsimple['delivered_orders'] < 100), (dfsimple['delivered_orders']//10)*10, dfsimple['delivered_orders'])\n",
        "dfsimple['delivered_orders'] = np.where((dfsimple['delivered_orders'] >= 100)&(dfsimple['delivered_orders'] < 1000), (dfsimple['delivered_orders']//100)*100, dfsimple['delivered_orders'])"
      ],
      "metadata": {
        "id": "gNaHTMZk4FW7"
      },
      "execution_count": null,
      "outputs": []
    },
    {
      "cell_type": "code",
      "source": [
        "dfsimpletest1['delivered_orders'] = np.where(dfsimpletest1['delivered_orders'] < 10, dfsimpletest1['delivered_orders']//1, dfsimpletest1['delivered_orders'])\n",
        "dfsimpletest1['delivered_orders'] = np.where((dfsimpletest1['delivered_orders'] >= 10)&(dfsimpletest1['delivered_orders'] < 100), (dfsimpletest1['delivered_orders']//10)*10, dfsimpletest1['delivered_orders'])\n",
        "dfsimpletest1['delivered_orders'] = np.where((dfsimpletest1['delivered_orders'] >= 100)&(dfsimpletest1['delivered_orders'] < 1000), (dfsimpletest1['delivered_orders']//100)*100, dfsimpletest1['delivered_orders'])"
      ],
      "metadata": {
        "id": "a8aQ6PG4bi7t"
      },
      "execution_count": null,
      "outputs": []
    },
    {
      "cell_type": "code",
      "source": [
        "dfsimple['A-A_s'] = np.where(dfsimple['A-A_s'] < 10, dfsimple['A-A_s']//1, dfsimple['A-A_s'])\n",
        "dfsimple['A-A_s'] = np.where((dfsimple['A-A_s'] >= 10)&(dfsimple['A-A_s'] < 100), (dfsimple['A-A_s']//10)*10, dfsimple['A-A_s'])\n",
        "dfsimple['A-A_s'] = np.where((dfsimple['A-A_s'] >= 100)&(dfsimple['A-A_s'] < 1000), (dfsimple['A-A_s']//100)*100, dfsimple['A-A_s'])"
      ],
      "metadata": {
        "id": "KuvOOc4g4QTZ"
      },
      "execution_count": null,
      "outputs": []
    },
    {
      "cell_type": "code",
      "source": [
        "dfsimpletest1['A-A_s'] = np.where(dfsimpletest1['A-A_s'] < 10, dfsimpletest1['A-A_s']//1, dfsimpletest1['A-A_s'])\n",
        "dfsimpletest1['A-A_s'] = np.where((dfsimpletest1['A-A_s'] >= 10)&(dfsimpletest1['A-A_s'] < 100), (dfsimpletest1['A-A_s']//10)*10, dfsimpletest1['A-A_s'])\n",
        "dfsimpletest1['A-A_s'] = np.where((dfsimpletest1['A-A_s'] >= 100)&(dfsimpletest1['A-A_s'] < 1000), (dfsimpletest1['A-A_s']//100)*100, dfsimpletest1['A-A_s'])"
      ],
      "metadata": {
        "id": "BlCwlGb1cnoz"
      },
      "execution_count": null,
      "outputs": []
    },
    {
      "cell_type": "code",
      "source": [
        "dfsimple['O-A_s'] = np.where(dfsimple['O-A_s'] < 10, dfsimple['O-A_s']//1, dfsimple['O-A_s'])\n",
        "dfsimple['O-A_s'] = np.where((dfsimple['O-A_s'] >= 10)&(dfsimple['O-A_s'] < 100), (dfsimple['O-A_s']//10)*10, dfsimple['O-A_s'])\n",
        "dfsimple['O-A_s'] = np.where((dfsimple['O-A_s'] >= 100)&(dfsimple['O-A_s'] < 1000), (dfsimple['O-A_s']//100)*100, dfsimple['O-A_s'])\n",
        "dfsimple['O-A_s'] = np.where((dfsimple['O-A_s'] >= 1000)&(dfsimple['O-A_s'] < 10000), (dfsimple['O-A_s']//1000)*1000, dfsimple['O-A_s'])\n",
        "dfsimple['O-A_s'] = np.where((dfsimple['O-A_s'] >= 10000)&(dfsimple['O-A_s'] < 100000), (dfsimple['O-A_s']//10000)*10000, dfsimple['O-A_s'])"
      ],
      "metadata": {
        "id": "Q-unrwp74UQm"
      },
      "execution_count": null,
      "outputs": []
    },
    {
      "cell_type": "code",
      "source": [
        "dfsimpletest1['O-A_s'] = np.where(dfsimpletest1['O-A_s'] < 10, dfsimpletest1['O-A_s']//1, dfsimpletest1['O-A_s'])\n",
        "dfsimpletest1['O-A_s'] = np.where((dfsimpletest1['O-A_s'] >= 10)&(dfsimpletest1['O-A_s'] < 100), (dfsimpletest1['O-A_s']//10)*10, dfsimpletest1['O-A_s'])\n",
        "dfsimpletest1['O-A_s'] = np.where((dfsimpletest1['O-A_s'] >= 100)&(dfsimpletest1['O-A_s'] < 1000), (dfsimpletest1['O-A_s']//100)*100, dfsimpletest1['O-A_s'])\n",
        "dfsimpletest1['O-A_s'] = np.where((dfsimpletest1['O-A_s'] >= 1000)&(dfsimpletest1['O-A_s'] < 10000), (dfsimpletest1['O-A_s']//1000)*1000, dfsimpletest1['O-A_s'])\n",
        "dfsimpletest1['O-A_s'] = np.where((dfsimpletest1['O-A_s'] >= 10000)&(dfsimpletest1['O-A_s'] < 100000), (dfsimpletest1['O-A_s']//10000)*10000, dfsimpletest1['O-A_s'])"
      ],
      "metadata": {
        "id": "EAeVBXSmes-V"
      },
      "execution_count": null,
      "outputs": []
    },
    {
      "cell_type": "code",
      "source": [
        "dfsimple['lifetime_order_count'] = np.where(dfsimple['lifetime_order_count'] < 10, dfsimple['lifetime_order_count']//1, dfsimple['lifetime_order_count'])\n",
        "dfsimple['lifetime_order_count'] = np.where((dfsimple['lifetime_order_count'] >= 10)&(dfsimple['lifetime_order_count'] < 100), (dfsimple['lifetime_order_count']//10)*10, dfsimple['lifetime_order_count'])\n",
        "dfsimple['lifetime_order_count'] = np.where((dfsimple['lifetime_order_count'] >= 100)&(dfsimple['lifetime_order_count'] < 1000), (dfsimple['lifetime_order_count']//100)*100, dfsimple['lifetime_order_count'])\n",
        "dfsimple['lifetime_order_count'] = np.where((dfsimple['lifetime_order_count'] >= 1000)&(dfsimple['lifetime_order_count'] < 10000), (dfsimple['lifetime_order_count']//1000)*1000, dfsimple['lifetime_order_count'])\n",
        "dfsimple['lifetime_order_count'] = np.where((dfsimple['lifetime_order_count'] >= 10000)&(dfsimple['lifetime_order_count'] < 100000), (dfsimple['lifetime_order_count']//10000)*10000, dfsimple['lifetime_order_count'])"
      ],
      "metadata": {
        "id": "yRyG7jPn4nOf"
      },
      "execution_count": null,
      "outputs": []
    },
    {
      "cell_type": "code",
      "source": [
        "dfsimpletest1['lifetime_order_count'] = np.where(dfsimpletest1['lifetime_order_count'] < 10, dfsimpletest1['lifetime_order_count']//1, dfsimpletest1['lifetime_order_count'])\n",
        "dfsimpletest1['lifetime_order_count'] = np.where((dfsimpletest1['lifetime_order_count'] >= 10)&(dfsimpletest1['lifetime_order_count'] < 100), (dfsimpletest1['lifetime_order_count']//10)*10, dfsimpletest1['lifetime_order_count'])\n",
        "dfsimpletest1['lifetime_order_count'] = np.where((dfsimpletest1['lifetime_order_count'] >= 100)&(dfsimpletest1['lifetime_order_count'] < 1000), (dfsimpletest1['lifetime_order_count']//100)*100, dfsimpletest1['lifetime_order_count'])\n",
        "dfsimpletest1['lifetime_order_count'] = np.where((dfsimpletest1['lifetime_order_count'] >= 1000)&(dfsimpletest1['lifetime_order_count'] < 10000), (dfsimpletest1['lifetime_order_count']//1000)*1000, dfsimpletest1['lifetime_order_count'])\n",
        "dfsimpletest1['lifetime_order_count'] = np.where((dfsimpletest1['lifetime_order_count'] >= 10000)&(dfsimpletest1['lifetime_order_count'] < 100000), (dfsimpletest1['lifetime_order_count']//10000)*10000, dfsimpletest1['lifetime_order_count'])"
      ],
      "metadata": {
        "id": "vsEZoMtRg9vB"
      },
      "execution_count": null,
      "outputs": []
    },
    {
      "cell_type": "code",
      "source": [
        "dfsimple['session_time'] = np.where(dfsimple['session_time'] < 10, dfsimple['session_time']//1, dfsimple['session_time'])\n",
        "dfsimple['session_time'] = np.where((dfsimple['session_time'] >= 10)&(dfsimple['session_time'] < 100), (dfsimple['session_time']//10)*10, dfsimple['session_time'])\n",
        "dfsimple['session_time'] = np.where((dfsimple['session_time'] >= 100)&(dfsimple['session_time'] < 1000), (dfsimple['session_time']//100)*100, dfsimple['session_time'])\n",
        "dfsimple['session_time'] = np.where((dfsimple['session_time'] >= 1000)&(dfsimple['session_time'] < 10000), (dfsimple['session_time']//1000)*1000, dfsimple['session_time'])\n",
        "dfsimple['session_time'] = np.where((dfsimple['session_time'] >= 10000)&(dfsimple['session_time'] < 100000), (dfsimple['session_time']//10000)*10000, dfsimple['session_time'])"
      ],
      "metadata": {
        "id": "TMPZa3Kb4rGo"
      },
      "execution_count": null,
      "outputs": []
    },
    {
      "cell_type": "code",
      "source": [
        "dfsimpletest1['session_time'] = np.where(dfsimpletest1['session_time'] < 10, dfsimpletest1['session_time']//1, dfsimpletest1['session_time'])\n",
        "dfsimpletest1['session_time'] = np.where((dfsimpletest1['session_time'] >= 10)&(dfsimpletest1['session_time'] < 100), (dfsimpletest1['session_time']//10)*10, dfsimpletest1['session_time'])\n",
        "dfsimpletest1['session_time'] = np.where((dfsimpletest1['session_time'] >= 100)&(dfsimpletest1['session_time'] < 1000), (dfsimpletest1['session_time']//100)*100, dfsimpletest1['session_time'])\n",
        "dfsimpletest1['session_time'] = np.where((dfsimpletest1['session_time'] >= 1000)&(dfsimpletest1['session_time'] < 10000), (dfsimpletest1['session_time']//1000)*1000, dfsimpletest1['session_time'])\n",
        "dfsimpletest1['session_time'] = np.where((dfsimpletest1['session_time'] >= 10000)&(dfsimpletest1['session_time'] < 100000), (dfsimpletest1['session_time']//10000)*10000, dfsimpletest1['session_time'])"
      ],
      "metadata": {
        "id": "deaU2g6OgGX4"
      },
      "execution_count": null,
      "outputs": []
    },
    {
      "cell_type": "code",
      "source": [
        "dfsimple['timeofday'] = dfsimple['timeofday']//2"
      ],
      "metadata": {
        "id": "10H5Bvrf4vPg"
      },
      "execution_count": null,
      "outputs": []
    },
    {
      "cell_type": "code",
      "source": [
        "dfsimpletest1['timeofday'] = dfsimpletest1['timeofday']//2"
      ],
      "metadata": {
        "id": "txWb2wpRgN-1"
      },
      "execution_count": null,
      "outputs": []
    },
    {
      "cell_type": "code",
      "source": [
        "dfsimple['undelivered_orders'] = np.where(dfsimple['undelivered_orders'] < 10, dfsimple['undelivered_orders']//1, dfsimple['undelivered_orders'])\n",
        "dfsimple['undelivered_orders'] = np.where((dfsimple['undelivered_orders'] >= 10)&(dfsimple['undelivered_orders'] < 100), (dfsimple['undelivered_orders']//10)*10, dfsimple['undelivered_orders'])\n",
        "dfsimple['undelivered_orders'] = np.where((dfsimple['undelivered_orders'] >= 100)&(dfsimple['undelivered_orders'] < 1000), (dfsimple['undelivered_orders']//100)*100, dfsimple['undelivered_orders'])"
      ],
      "metadata": {
        "id": "uWf_PkhS4yYR"
      },
      "execution_count": null,
      "outputs": []
    },
    {
      "cell_type": "code",
      "source": [
        "dfsimpletest1['undelivered_orders'] = np.where(dfsimpletest1['undelivered_orders'] < 10, dfsimpletest1['undelivered_orders']//1, dfsimpletest1['undelivered_orders'])\n",
        "dfsimpletest1['undelivered_orders'] = np.where((dfsimpletest1['undelivered_orders'] >= 10)&(dfsimpletest1['undelivered_orders'] < 100), (dfsimpletest1['undelivered_orders']//10)*10, dfsimpletest1['undelivered_orders'])\n",
        "dfsimpletest1['undelivered_orders'] = np.where((dfsimpletest1['undelivered_orders'] >= 100)&(dfsimpletest1['undelivered_orders'] < 1000), (dfsimpletest1['undelivered_orders']//100)*100, dfsimpletest1['undelivered_orders'])"
      ],
      "metadata": {
        "id": "9EkjvJopbiBo"
      },
      "execution_count": null,
      "outputs": []
    },
    {
      "cell_type": "code",
      "source": [
        "dfsimple = dfsimple[['first_mile_distance',\n",
        "       'last_mile_distance',\n",
        "       'alloted_orders',\n",
        "       'undelivered_orders',\n",
        "       'lifetime_order_count',\n",
        "       'reassigned_order',\n",
        "       'session_time',\n",
        "       'A-A_s',\n",
        "       'O-A_s',\n",
        "       'reassignment_method_auto', 'reassignment_method_manual',\n",
        "       'reassignment_method_nan',\n",
        "       'reassignment_reason_Auto Reassignment basis Inaction. coreengine.tasks.repush_order_to_aa_bucket',\n",
        "       'reassignment_reason_Reassign',\n",
        "       'reassignment_reason_Reassignment Request from SE portal.',\n",
        "       'reassignment_reason_nan',\n",
        "       'Day_Saturday',\n",
        "       'timeofday',\n",
        "       'cancelled'\n",
        "       ]]"
      ],
      "metadata": {
        "id": "TT437fSstmh4"
      },
      "execution_count": null,
      "outputs": []
    },
    {
      "cell_type": "code",
      "source": [
        "dfsimpletest1 = dfsimpletest1[['first_mile_distance',\n",
        "       'last_mile_distance',\n",
        "       'alloted_orders',\n",
        "       'undelivered_orders',\n",
        "       'lifetime_order_count',\n",
        "       'reassigned_order',\n",
        "       'session_time',\n",
        "       'A-A_s',\n",
        "       'O-A_s',\n",
        "       'reassignment_method_auto', 'reassignment_method_manual',\n",
        "       'reassignment_method_nan',\n",
        "       'reassignment_reason_Auto Reassignment basis Inaction. coreengine.tasks.repush_order_to_aa_bucket',\n",
        "       'reassignment_reason_Reassign',\n",
        "       'reassignment_reason_Reassignment Request from SE portal.',\n",
        "       'reassignment_reason_nan',\n",
        "       'Day_Saturday',\n",
        "       'timeofday'\n",
        "       ]]"
      ],
      "metadata": {
        "id": "34spr12musna"
      },
      "execution_count": null,
      "outputs": []
    },
    {
      "cell_type": "code",
      "source": [
        "dfr = dfsimple[dfsimple['reassigned_order']==1].drop(columns = ['reassigned_order'],axis = 1)\n",
        "dfnr = dfsimple[dfsimple['reassigned_order']==0].drop(columns = ['reassigned_order','reassignment_method_auto', 'reassignment_method_manual',\n",
        "       'reassignment_method_nan',\n",
        "       'reassignment_reason_Auto Reassignment basis Inaction. coreengine.tasks.repush_order_to_aa_bucket',\n",
        "       'reassignment_reason_Reassign',\n",
        "       'reassignment_reason_Reassignment Request from SE portal.',\n",
        "       'reassignment_reason_nan',], axis = 1)"
      ],
      "metadata": {
        "id": "YfyJOCF68IMq"
      },
      "execution_count": null,
      "outputs": []
    },
    {
      "cell_type": "code",
      "source": [
        "dfr['cancelled'].value_counts()"
      ],
      "metadata": {
        "colab": {
          "base_uri": "https://localhost:8080/"
        },
        "id": "vt4GWmLp9T4x",
        "outputId": "9f8853f0-cb09-4455-cbee-468885e4f5cc"
      },
      "execution_count": null,
      "outputs": [
        {
          "output_type": "execute_result",
          "data": {
            "text/plain": [
              "0    13031\n",
              "1      722\n",
              "Name: cancelled, dtype: int64"
            ]
          },
          "metadata": {},
          "execution_count": 22
        }
      ]
    },
    {
      "cell_type": "code",
      "source": [
        "from tensorflow.keras import backend as K\n",
        "\n",
        "def focal_loss(gamma=2, alpha=0.89):\n",
        "  def focal_loss_fixed(y_true, y_pred):\n",
        "    pt_1 = tf.where(tf.equal(y_true, 1), y_pred, tf.ones_like(y_pred))\n",
        "    pt_0 = tf.where(tf.equal(y_true, 0), y_pred, tf.zeros_like(y_pred))\n",
        "    return -K.mean(alpha * K.pow(1.- pt_1, gamma) * K.log(pt_1) + (1 - alpha) * K.pow(pt_0, gamma) * K.log(1. - pt_0))\n",
        "  return focal_loss_fixed"
      ],
      "metadata": {
        "id": "A9o9nQtlBf6a"
      },
      "execution_count": null,
      "outputs": []
    },
    {
      "cell_type": "code",
      "source": [
        "def ANN(X_train, y_train, X_test, y_test, loss, weights):\n",
        "    model = keras.Sequential([\n",
        "        keras.layers.Dense(19, input_dim=19, activation='relu'),\n",
        "        keras.layers.Dense(15, activation='relu'),\n",
        "        keras.layers.Dense(1, activation='sigmoid')\n",
        "    ])\n",
        "\n",
        "    model.compile(optimizer='adam', loss=loss, metrics=['accuracy'])\n",
        "    \n",
        "    if weights == -1:\n",
        "        model.fit(X_train, y_train, epochs=20)\n",
        "    else:\n",
        "        model.fit(X_train, y_train, epochs=20, class_weight = weights)\n",
        "    \n",
        "    print(model.evaluate(X_test, y_test))\n",
        "    \n",
        "    y_preds = model.predict(X_test)\n",
        "    y_preds = np.round(y_preds)\n",
        "    \n",
        "    print(\"Classification Report: \\n\", classification_report(y_test, y_preds))\n",
        "    print(\"AUC-ROC score: \\n\", roc_auc_score(y_test, y_preds))\n",
        "    print(\"Confusion Matrix: \\n\", confusion_matrix(y_test, y_preds))\n",
        "\n",
        "    return y_preds, model"
      ],
      "metadata": {
        "id": "u6dMc8b5XgB0"
      },
      "execution_count": null,
      "outputs": []
    },
    {
      "cell_type": "markdown",
      "source": [
        "**Without SMOTE**"
      ],
      "metadata": {
        "id": "-GwQGOCkXWZy"
      }
    },
    {
      "cell_type": "code",
      "source": [
        "X = dfsimple.drop(columns = ['cancelled'])\n",
        "y = testLabels = dfsimple.cancelled.astype(np.float32)\n",
        "\n",
        "X_train, X_test, y_train, y_test = train_test_split(X, y, test_size=0.2, random_state=15, stratify=y)"
      ],
      "metadata": {
        "id": "g_QU4VZ4Wsuf"
      },
      "execution_count": null,
      "outputs": []
    },
    {
      "cell_type": "code",
      "source": [
        "focloss = focal_loss(gamma=2, alpha=0.89)"
      ],
      "metadata": {
        "id": "y01bfP9MCZTb"
      },
      "execution_count": null,
      "outputs": []
    },
    {
      "cell_type": "code",
      "source": [
        "y_preds, model = ANN(X_train, y_train, X_test, y_test, focloss, -1)"
      ],
      "metadata": {
        "id": "0fK0hBkBYVJ2"
      },
      "execution_count": null,
      "outputs": []
    },
    {
      "cell_type": "markdown",
      "source": [
        "**SMOTE**"
      ],
      "metadata": {
        "id": "Z_EEXiwoddkA"
      }
    },
    {
      "cell_type": "code",
      "source": [
        "from imblearn.over_sampling import SMOTE\n",
        "\n",
        "smote = SMOTE(sampling_strategy='minority')\n",
        "X_sm, y_sm = smote.fit_resample(X_train, y_train)\n",
        "\n",
        "X_train_sm, X_test_sm, y_train_sm, y_test_sm = train_test_split(X_sm, y_sm, test_size=0.2, random_state=15, stratify=y_sm)"
      ],
      "metadata": {
        "id": "jSRpJ43JdPrf"
      },
      "execution_count": null,
      "outputs": []
    },
    {
      "cell_type": "code",
      "source": [
        "X_sm['A-A_s'] = np.where((X_sm['A-A_s'] >= 1000), 1000, X_sm['A-A_s'])\n",
        "X_sm['A-A_s'] = np.where((X_sm['A-A_s'] <= 0), 1000, X_sm['A-A_s'])\n",
        "X_sm['first_mile_distance'] = np.where(X_sm['first_mile_distance'] < 100, X_sm['first_mile_distance']//1, X_sm['first_mile_distance'])\n",
        "X_sm['last_mile_distance'] = np.where(X_sm['last_mile_distance'] < 100, X_sm['last_mile_distance']//1, X_sm['last_mile_distance'])\n",
        "X_sm['alloted_orders'] = np.where(X_sm['alloted_orders'] < 10, X_sm['alloted_orders']//1, X_sm['alloted_orders'])\n",
        "X_sm['alloted_orders'] = np.where((X_sm['alloted_orders'] >= 10)&(X_sm['alloted_orders'] < 100), (X_sm['alloted_orders']//10)*10, X_sm['alloted_orders'])\n",
        "X_sm['alloted_orders'] = np.where((X_sm['alloted_orders'] >= 100)&(X_sm['alloted_orders'] < 1000), (X_sm['alloted_orders']//100)*100, X_sm['alloted_orders'])\n",
        "X_sm['A-A_s'] = np.where(X_sm['A-A_s'] < 10, X_sm['A-A_s']//1, X_sm['A-A_s'])\n",
        "X_sm['A-A_s'] = np.where((X_sm['A-A_s'] >= 10)&(X_sm['A-A_s'] < 100), (X_sm['A-A_s']//10)*10, X_sm['A-A_s'])\n",
        "X_sm['A-A_s'] = np.where((X_sm['A-A_s'] >= 100)&(X_sm['A-A_s'] < 1000), (X_sm['A-A_s']//100)*100, X_sm['A-A_s'])\n",
        "X_sm['O-A_s'] = np.where(X_sm['O-A_s'] < 10, X_sm['O-A_s']//1, X_sm['O-A_s'])\n",
        "X_sm['O-A_s'] = np.where((X_sm['O-A_s'] >= 10)&(X_sm['O-A_s'] < 100), (X_sm['O-A_s']//10)*10, X_sm['O-A_s'])\n",
        "X_sm['O-A_s'] = np.where((X_sm['O-A_s'] >= 100)&(X_sm['O-A_s'] < 1000), (X_sm['O-A_s']//100)*100, X_sm['O-A_s'])\n",
        "X_sm['O-A_s'] = np.where((X_sm['O-A_s'] >= 1000)&(X_sm['O-A_s'] < 10000), (X_sm['O-A_s']//1000)*1000, X_sm['O-A_s'])\n",
        "X_sm['O-A_s'] = np.where((X_sm['O-A_s'] >= 10000)&(X_sm['O-A_s'] < 100000), (X_sm['O-A_s']//10000)*10000, X_sm['O-A_s'])\n",
        "X_sm['lifetime_order_count'] = np.where(X_sm['lifetime_order_count'] < 10, X_sm['lifetime_order_count']//1, X_sm['lifetime_order_count'])\n",
        "X_sm['lifetime_order_count'] = np.where((X_sm['lifetime_order_count'] >= 10)&(X_sm['lifetime_order_count'] < 100), (X_sm['lifetime_order_count']//10)*10, X_sm['lifetime_order_count'])\n",
        "X_sm['lifetime_order_count'] = np.where((X_sm['lifetime_order_count'] >= 100)&(X_sm['lifetime_order_count'] < 1000), (X_sm['lifetime_order_count']//100)*100, X_sm['lifetime_order_count'])\n",
        "X_sm['lifetime_order_count'] = np.where((X_sm['lifetime_order_count'] >= 1000)&(X_sm['lifetime_order_count'] < 10000), (X_sm['lifetime_order_count']//1000)*1000, X_sm['lifetime_order_count'])\n",
        "X_sm['lifetime_order_count'] = np.where((X_sm['lifetime_order_count'] >= 10000)&(X_sm['lifetime_order_count'] < 100000), (X_sm['lifetime_order_count']//10000)*10000, X_sm['lifetime_order_count'])\n",
        "X_sm['session_time'] = np.where(X_sm['session_time'] < 10, X_sm['session_time']//1, X_sm['session_time'])\n",
        "X_sm['session_time'] = np.where((X_sm['session_time'] >= 10)&(X_sm['session_time'] < 100), (X_sm['session_time']//10)*10, X_sm['session_time'])\n",
        "X_sm['session_time'] = np.where((X_sm['session_time'] >= 100)&(X_sm['session_time'] < 1000), (X_sm['session_time']//100)*100, X_sm['session_time'])\n",
        "X_sm['session_time'] = np.where((X_sm['session_time'] >= 1000)&(X_sm['session_time'] < 10000), (X_sm['session_time']//1000)*1000, X_sm['session_time'])\n",
        "X_sm['session_time'] = np.where((X_sm['session_time'] >= 10000)&(X_sm['session_time'] < 100000), (X_sm['session_time']//10000)*10000, X_sm['session_time'])\n",
        "X_sm['timeofday'] = X_sm['timeofday']//2\n",
        "X_sm['undelivered_orders'] = np.where(X_sm['undelivered_orders'] < 10, X_sm['undelivered_orders']//1, X_sm['undelivered_orders'])\n",
        "X_sm['undelivered_orders'] = np.where((X_sm['undelivered_orders'] >= 10)&(X_sm['undelivered_orders'] < 100), (X_sm['undelivered_orders']//10)*10, X_sm['undelivered_orders'])\n",
        "X_sm['undelivered_orders'] = np.where((X_sm['undelivered_orders'] >= 100)&(X_sm['undelivered_orders'] < 1000), (X_sm['undelivered_orders']//100)*100, X_sm['undelivered_orders'])"
      ],
      "metadata": {
        "id": "uClPTZKkjOeC"
      },
      "execution_count": null,
      "outputs": []
    },
    {
      "cell_type": "code",
      "source": [
        "X_test['A-A_s'] = np.where((X_test['A-A_s'] >= 1000), 1000, X_test['A-A_s'])\n",
        "X_test['A-A_s'] = np.where((X_test['A-A_s'] <= 0), 1000, X_test['A-A_s'])\n",
        "X_test['first_mile_distance'] = np.where(X_test['first_mile_distance'] < 100, X_test['first_mile_distance']//1, X_test['first_mile_distance'])\n",
        "X_test['last_mile_distance'] = np.where(X_test['last_mile_distance'] < 100, X_test['last_mile_distance']//1, X_test['last_mile_distance'])\n",
        "X_test['alloted_orders'] = np.where(X_test['alloted_orders'] < 10, X_test['alloted_orders']//1, X_test['alloted_orders'])\n",
        "X_test['alloted_orders'] = np.where((X_test['alloted_orders'] >= 10)&(X_test['alloted_orders'] < 100), (X_test['alloted_orders']//10)*10, X_test['alloted_orders'])\n",
        "X_test['alloted_orders'] = np.where((X_test['alloted_orders'] >= 100)&(X_test['alloted_orders'] < 1000), (X_test['alloted_orders']//100)*100, X_test['alloted_orders'])\n",
        "X_test['A-A_s'] = np.where(X_test['A-A_s'] < 10, X_test['A-A_s']//1, X_test['A-A_s'])\n",
        "X_test['A-A_s'] = np.where((X_test['A-A_s'] >= 10)&(X_test['A-A_s'] < 100), (X_test['A-A_s']//10)*10, X_test['A-A_s'])\n",
        "X_test['A-A_s'] = np.where((X_test['A-A_s'] >= 100)&(X_test['A-A_s'] < 1000), (X_test['A-A_s']//100)*100, X_test['A-A_s'])\n",
        "X_test['O-A_s'] = np.where(X_test['O-A_s'] < 10, X_test['O-A_s']//1, X_test['O-A_s'])\n",
        "X_test['O-A_s'] = np.where((X_test['O-A_s'] >= 10)&(X_test['O-A_s'] < 100), (X_test['O-A_s']//10)*10, X_test['O-A_s'])\n",
        "X_test['O-A_s'] = np.where((X_test['O-A_s'] >= 100)&(X_test['O-A_s'] < 1000), (X_test['O-A_s']//100)*100, X_test['O-A_s'])\n",
        "X_test['O-A_s'] = np.where((X_test['O-A_s'] >= 1000)&(X_test['O-A_s'] < 10000), (X_test['O-A_s']//1000)*1000, X_test['O-A_s'])\n",
        "X_test['O-A_s'] = np.where((X_test['O-A_s'] >= 10000)&(X_test['O-A_s'] < 100000), (X_test['O-A_s']//10000)*10000, X_test['O-A_s'])\n",
        "X_test['lifetime_order_count'] = np.where(X_test['lifetime_order_count'] < 10, X_test['lifetime_order_count']//1, X_test['lifetime_order_count'])\n",
        "X_test['lifetime_order_count'] = np.where((X_test['lifetime_order_count'] >= 10)&(X_test['lifetime_order_count'] < 100), (X_test['lifetime_order_count']//10)*10, X_test['lifetime_order_count'])\n",
        "X_test['lifetime_order_count'] = np.where((X_test['lifetime_order_count'] >= 100)&(X_test['lifetime_order_count'] < 1000), (X_test['lifetime_order_count']//100)*100, X_test['lifetime_order_count'])\n",
        "X_test['lifetime_order_count'] = np.where((X_test['lifetime_order_count'] >= 1000)&(X_test['lifetime_order_count'] < 10000), (X_test['lifetime_order_count']//1000)*1000, X_test['lifetime_order_count'])\n",
        "X_test['lifetime_order_count'] = np.where((X_test['lifetime_order_count'] >= 10000)&(X_test['lifetime_order_count'] < 100000), (X_test['lifetime_order_count']//10000)*10000, X_test['lifetime_order_count'])\n",
        "X_test['session_time'] = np.where(X_test['session_time'] < 10, X_test['session_time']//1, X_test['session_time'])\n",
        "X_test['session_time'] = np.where((X_test['session_time'] >= 10)&(X_test['session_time'] < 100), (X_test['session_time']//10)*10, X_test['session_time'])\n",
        "X_test['session_time'] = np.where((X_test['session_time'] >= 100)&(X_test['session_time'] < 1000), (X_test['session_time']//100)*100, X_test['session_time'])\n",
        "X_test['session_time'] = np.where((X_test['session_time'] >= 1000)&(X_test['session_time'] < 10000), (X_test['session_time']//1000)*1000, X_test['session_time'])\n",
        "X_test['session_time'] = np.where((X_test['session_time'] >= 10000)&(X_test['session_time'] < 100000), (X_test['session_time']//10000)*10000, X_test['session_time'])\n",
        "X_test['timeofday'] = X_test['timeofday']//2\n",
        "X_test['undelivered_orders'] = np.where(X_test['undelivered_orders'] < 10, X_test['undelivered_orders']//1, X_test['undelivered_orders'])\n",
        "X_test['undelivered_orders'] = np.where((X_test['undelivered_orders'] >= 10)&(X_test['undelivered_orders'] < 100), (X_test['undelivered_orders']//10)*10, X_test['undelivered_orders'])\n",
        "X_test['undelivered_orders'] = np.where((X_test['undelivered_orders'] >= 100)&(X_test['undelivered_orders'] < 1000), (X_test['undelivered_orders']//100)*100, X_test['undelivered_orders'])"
      ],
      "metadata": {
        "id": "YPp2Q1MfmIXH"
      },
      "execution_count": null,
      "outputs": []
    },
    {
      "cell_type": "code",
      "source": [
        "X_test"
      ],
      "metadata": {
        "colab": {
          "base_uri": "https://localhost:8080/",
          "height": 522
        },
        "id": "VA_G54gUjCdJ",
        "outputId": "f824ec4c-f833-4a7f-a051-2a131c99e59c"
      },
      "execution_count": null,
      "outputs": [
        {
          "output_type": "execute_result",
          "data": {
            "text/html": [
              "\n",
              "  <div id=\"df-493989b3-26e1-498d-8f71-a8f53d74288f\">\n",
              "    <div class=\"colab-df-container\">\n",
              "      <div>\n",
              "<style scoped>\n",
              "    .dataframe tbody tr th:only-of-type {\n",
              "        vertical-align: middle;\n",
              "    }\n",
              "\n",
              "    .dataframe tbody tr th {\n",
              "        vertical-align: top;\n",
              "    }\n",
              "\n",
              "    .dataframe thead th {\n",
              "        text-align: right;\n",
              "    }\n",
              "</style>\n",
              "<table border=\"1\" class=\"dataframe\">\n",
              "  <thead>\n",
              "    <tr style=\"text-align: right;\">\n",
              "      <th></th>\n",
              "      <th>first_mile_distance</th>\n",
              "      <th>last_mile_distance</th>\n",
              "      <th>alloted_orders</th>\n",
              "      <th>undelivered_orders</th>\n",
              "      <th>lifetime_order_count</th>\n",
              "      <th>reassigned_order</th>\n",
              "      <th>session_time</th>\n",
              "      <th>A-A_s</th>\n",
              "      <th>O-A_s</th>\n",
              "      <th>reassignment_method_auto</th>\n",
              "      <th>reassignment_method_manual</th>\n",
              "      <th>reassignment_method_nan</th>\n",
              "      <th>reassignment_reason_Auto Reassignment basis Inaction. coreengine.tasks.repush_order_to_aa_bucket</th>\n",
              "      <th>reassignment_reason_Reassign</th>\n",
              "      <th>reassignment_reason_Reassignment Request from SE portal.</th>\n",
              "      <th>reassignment_reason_nan</th>\n",
              "      <th>Day_Saturday</th>\n",
              "      <th>timeofday</th>\n",
              "    </tr>\n",
              "  </thead>\n",
              "  <tbody>\n",
              "    <tr>\n",
              "      <th>163410</th>\n",
              "      <td>1.0</td>\n",
              "      <td>0.0</td>\n",
              "      <td>300.0</td>\n",
              "      <td>4.0</td>\n",
              "      <td>700.0</td>\n",
              "      <td>0.0</td>\n",
              "      <td>70.0</td>\n",
              "      <td>10.0</td>\n",
              "      <td>10.0</td>\n",
              "      <td>0</td>\n",
              "      <td>0</td>\n",
              "      <td>1</td>\n",
              "      <td>0</td>\n",
              "      <td>0</td>\n",
              "      <td>0</td>\n",
              "      <td>1</td>\n",
              "      <td>1</td>\n",
              "      <td>3.0</td>\n",
              "    </tr>\n",
              "    <tr>\n",
              "      <th>344013</th>\n",
              "      <td>0.0</td>\n",
              "      <td>1.0</td>\n",
              "      <td>100.0</td>\n",
              "      <td>0.0</td>\n",
              "      <td>700.0</td>\n",
              "      <td>0.0</td>\n",
              "      <td>600.0</td>\n",
              "      <td>20.0</td>\n",
              "      <td>1.0</td>\n",
              "      <td>0</td>\n",
              "      <td>0</td>\n",
              "      <td>1</td>\n",
              "      <td>0</td>\n",
              "      <td>0</td>\n",
              "      <td>0</td>\n",
              "      <td>1</td>\n",
              "      <td>0</td>\n",
              "      <td>7.0</td>\n",
              "    </tr>\n",
              "    <tr>\n",
              "      <th>267470</th>\n",
              "      <td>0.0</td>\n",
              "      <td>2.0</td>\n",
              "      <td>0.0</td>\n",
              "      <td>0.0</td>\n",
              "      <td>60.0</td>\n",
              "      <td>0.0</td>\n",
              "      <td>100.0</td>\n",
              "      <td>60.0</td>\n",
              "      <td>20.0</td>\n",
              "      <td>0</td>\n",
              "      <td>0</td>\n",
              "      <td>1</td>\n",
              "      <td>0</td>\n",
              "      <td>0</td>\n",
              "      <td>0</td>\n",
              "      <td>1</td>\n",
              "      <td>0</td>\n",
              "      <td>8.0</td>\n",
              "    </tr>\n",
              "    <tr>\n",
              "      <th>348671</th>\n",
              "      <td>1.0</td>\n",
              "      <td>1.0</td>\n",
              "      <td>10.0</td>\n",
              "      <td>0.0</td>\n",
              "      <td>200.0</td>\n",
              "      <td>0.0</td>\n",
              "      <td>100.0</td>\n",
              "      <td>10.0</td>\n",
              "      <td>2.0</td>\n",
              "      <td>0</td>\n",
              "      <td>0</td>\n",
              "      <td>1</td>\n",
              "      <td>0</td>\n",
              "      <td>0</td>\n",
              "      <td>0</td>\n",
              "      <td>1</td>\n",
              "      <td>0</td>\n",
              "      <td>8.0</td>\n",
              "    </tr>\n",
              "    <tr>\n",
              "      <th>365063</th>\n",
              "      <td>0.0</td>\n",
              "      <td>2.0</td>\n",
              "      <td>200.0</td>\n",
              "      <td>5.0</td>\n",
              "      <td>2000.0</td>\n",
              "      <td>0.0</td>\n",
              "      <td>200.0</td>\n",
              "      <td>5.0</td>\n",
              "      <td>50.0</td>\n",
              "      <td>0</td>\n",
              "      <td>0</td>\n",
              "      <td>1</td>\n",
              "      <td>0</td>\n",
              "      <td>0</td>\n",
              "      <td>0</td>\n",
              "      <td>1</td>\n",
              "      <td>0</td>\n",
              "      <td>4.0</td>\n",
              "    </tr>\n",
              "    <tr>\n",
              "      <th>...</th>\n",
              "      <td>...</td>\n",
              "      <td>...</td>\n",
              "      <td>...</td>\n",
              "      <td>...</td>\n",
              "      <td>...</td>\n",
              "      <td>...</td>\n",
              "      <td>...</td>\n",
              "      <td>...</td>\n",
              "      <td>...</td>\n",
              "      <td>...</td>\n",
              "      <td>...</td>\n",
              "      <td>...</td>\n",
              "      <td>...</td>\n",
              "      <td>...</td>\n",
              "      <td>...</td>\n",
              "      <td>...</td>\n",
              "      <td>...</td>\n",
              "      <td>...</td>\n",
              "    </tr>\n",
              "    <tr>\n",
              "      <th>59717</th>\n",
              "      <td>0.0</td>\n",
              "      <td>3.0</td>\n",
              "      <td>30.0</td>\n",
              "      <td>0.0</td>\n",
              "      <td>100.0</td>\n",
              "      <td>0.0</td>\n",
              "      <td>80.0</td>\n",
              "      <td>60.0</td>\n",
              "      <td>2.0</td>\n",
              "      <td>0</td>\n",
              "      <td>0</td>\n",
              "      <td>1</td>\n",
              "      <td>0</td>\n",
              "      <td>0</td>\n",
              "      <td>0</td>\n",
              "      <td>1</td>\n",
              "      <td>0</td>\n",
              "      <td>7.0</td>\n",
              "    </tr>\n",
              "    <tr>\n",
              "      <th>425794</th>\n",
              "      <td>0.0</td>\n",
              "      <td>5.0</td>\n",
              "      <td>70.0</td>\n",
              "      <td>2.0</td>\n",
              "      <td>300.0</td>\n",
              "      <td>0.0</td>\n",
              "      <td>500.0</td>\n",
              "      <td>6.0</td>\n",
              "      <td>10.0</td>\n",
              "      <td>0</td>\n",
              "      <td>0</td>\n",
              "      <td>1</td>\n",
              "      <td>0</td>\n",
              "      <td>0</td>\n",
              "      <td>0</td>\n",
              "      <td>1</td>\n",
              "      <td>0</td>\n",
              "      <td>7.0</td>\n",
              "    </tr>\n",
              "    <tr>\n",
              "      <th>36286</th>\n",
              "      <td>1.0</td>\n",
              "      <td>1.0</td>\n",
              "      <td>300.0</td>\n",
              "      <td>0.0</td>\n",
              "      <td>1000.0</td>\n",
              "      <td>0.0</td>\n",
              "      <td>500.0</td>\n",
              "      <td>7.0</td>\n",
              "      <td>10.0</td>\n",
              "      <td>0</td>\n",
              "      <td>0</td>\n",
              "      <td>1</td>\n",
              "      <td>0</td>\n",
              "      <td>0</td>\n",
              "      <td>0</td>\n",
              "      <td>1</td>\n",
              "      <td>0</td>\n",
              "      <td>8.0</td>\n",
              "    </tr>\n",
              "    <tr>\n",
              "      <th>412359</th>\n",
              "      <td>1.0</td>\n",
              "      <td>6.0</td>\n",
              "      <td>100.0</td>\n",
              "      <td>0.0</td>\n",
              "      <td>3000.0</td>\n",
              "      <td>0.0</td>\n",
              "      <td>300.0</td>\n",
              "      <td>8.0</td>\n",
              "      <td>40.0</td>\n",
              "      <td>0</td>\n",
              "      <td>0</td>\n",
              "      <td>1</td>\n",
              "      <td>0</td>\n",
              "      <td>0</td>\n",
              "      <td>0</td>\n",
              "      <td>1</td>\n",
              "      <td>0</td>\n",
              "      <td>6.0</td>\n",
              "    </tr>\n",
              "    <tr>\n",
              "      <th>71197</th>\n",
              "      <td>1.0</td>\n",
              "      <td>7.0</td>\n",
              "      <td>10.0</td>\n",
              "      <td>0.0</td>\n",
              "      <td>90.0</td>\n",
              "      <td>0.0</td>\n",
              "      <td>400.0</td>\n",
              "      <td>100.0</td>\n",
              "      <td>1.0</td>\n",
              "      <td>0</td>\n",
              "      <td>0</td>\n",
              "      <td>1</td>\n",
              "      <td>0</td>\n",
              "      <td>0</td>\n",
              "      <td>0</td>\n",
              "      <td>1</td>\n",
              "      <td>0</td>\n",
              "      <td>8.0</td>\n",
              "    </tr>\n",
              "  </tbody>\n",
              "</table>\n",
              "<p>90000 rows × 18 columns</p>\n",
              "</div>\n",
              "      <button class=\"colab-df-convert\" onclick=\"convertToInteractive('df-493989b3-26e1-498d-8f71-a8f53d74288f')\"\n",
              "              title=\"Convert this dataframe to an interactive table.\"\n",
              "              style=\"display:none;\">\n",
              "        \n",
              "  <svg xmlns=\"http://www.w3.org/2000/svg\" height=\"24px\"viewBox=\"0 0 24 24\"\n",
              "       width=\"24px\">\n",
              "    <path d=\"M0 0h24v24H0V0z\" fill=\"none\"/>\n",
              "    <path d=\"M18.56 5.44l.94 2.06.94-2.06 2.06-.94-2.06-.94-.94-2.06-.94 2.06-2.06.94zm-11 1L8.5 8.5l.94-2.06 2.06-.94-2.06-.94L8.5 2.5l-.94 2.06-2.06.94zm10 10l.94 2.06.94-2.06 2.06-.94-2.06-.94-.94-2.06-.94 2.06-2.06.94z\"/><path d=\"M17.41 7.96l-1.37-1.37c-.4-.4-.92-.59-1.43-.59-.52 0-1.04.2-1.43.59L10.3 9.45l-7.72 7.72c-.78.78-.78 2.05 0 2.83L4 21.41c.39.39.9.59 1.41.59.51 0 1.02-.2 1.41-.59l7.78-7.78 2.81-2.81c.8-.78.8-2.07 0-2.86zM5.41 20L4 18.59l7.72-7.72 1.47 1.35L5.41 20z\"/>\n",
              "  </svg>\n",
              "      </button>\n",
              "      \n",
              "  <style>\n",
              "    .colab-df-container {\n",
              "      display:flex;\n",
              "      flex-wrap:wrap;\n",
              "      gap: 12px;\n",
              "    }\n",
              "\n",
              "    .colab-df-convert {\n",
              "      background-color: #E8F0FE;\n",
              "      border: none;\n",
              "      border-radius: 50%;\n",
              "      cursor: pointer;\n",
              "      display: none;\n",
              "      fill: #1967D2;\n",
              "      height: 32px;\n",
              "      padding: 0 0 0 0;\n",
              "      width: 32px;\n",
              "    }\n",
              "\n",
              "    .colab-df-convert:hover {\n",
              "      background-color: #E2EBFA;\n",
              "      box-shadow: 0px 1px 2px rgba(60, 64, 67, 0.3), 0px 1px 3px 1px rgba(60, 64, 67, 0.15);\n",
              "      fill: #174EA6;\n",
              "    }\n",
              "\n",
              "    [theme=dark] .colab-df-convert {\n",
              "      background-color: #3B4455;\n",
              "      fill: #D2E3FC;\n",
              "    }\n",
              "\n",
              "    [theme=dark] .colab-df-convert:hover {\n",
              "      background-color: #434B5C;\n",
              "      box-shadow: 0px 1px 3px 1px rgba(0, 0, 0, 0.15);\n",
              "      filter: drop-shadow(0px 1px 2px rgba(0, 0, 0, 0.3));\n",
              "      fill: #FFFFFF;\n",
              "    }\n",
              "  </style>\n",
              "\n",
              "      <script>\n",
              "        const buttonEl =\n",
              "          document.querySelector('#df-493989b3-26e1-498d-8f71-a8f53d74288f button.colab-df-convert');\n",
              "        buttonEl.style.display =\n",
              "          google.colab.kernel.accessAllowed ? 'block' : 'none';\n",
              "\n",
              "        async function convertToInteractive(key) {\n",
              "          const element = document.querySelector('#df-493989b3-26e1-498d-8f71-a8f53d74288f');\n",
              "          const dataTable =\n",
              "            await google.colab.kernel.invokeFunction('convertToInteractive',\n",
              "                                                     [key], {});\n",
              "          if (!dataTable) return;\n",
              "\n",
              "          const docLinkHtml = 'Like what you see? Visit the ' +\n",
              "            '<a target=\"_blank\" href=https://colab.research.google.com/notebooks/data_table.ipynb>data table notebook</a>'\n",
              "            + ' to learn more about interactive tables.';\n",
              "          element.innerHTML = '';\n",
              "          dataTable['output_type'] = 'display_data';\n",
              "          await google.colab.output.renderOutput(dataTable, element);\n",
              "          const docLink = document.createElement('div');\n",
              "          docLink.innerHTML = docLinkHtml;\n",
              "          element.appendChild(docLink);\n",
              "        }\n",
              "      </script>\n",
              "    </div>\n",
              "  </div>\n",
              "  "
            ],
            "text/plain": [
              "        first_mile_distance  last_mile_distance  ...  Day_Saturday  timeofday\n",
              "163410                  1.0                 0.0  ...             1        3.0\n",
              "344013                  0.0                 1.0  ...             0        7.0\n",
              "267470                  0.0                 2.0  ...             0        8.0\n",
              "348671                  1.0                 1.0  ...             0        8.0\n",
              "365063                  0.0                 2.0  ...             0        4.0\n",
              "...                     ...                 ...  ...           ...        ...\n",
              "59717                   0.0                 3.0  ...             0        7.0\n",
              "425794                  0.0                 5.0  ...             0        7.0\n",
              "36286                   1.0                 1.0  ...             0        8.0\n",
              "412359                  1.0                 6.0  ...             0        6.0\n",
              "71197                   1.0                 7.0  ...             0        8.0\n",
              "\n",
              "[90000 rows x 18 columns]"
            ]
          },
          "metadata": {},
          "execution_count": 115
        }
      ]
    },
    {
      "cell_type": "code",
      "source": [
        ""
      ],
      "metadata": {
        "id": "v2zlSTZ0jDPK"
      },
      "execution_count": null,
      "outputs": []
    },
    {
      "cell_type": "code",
      "source": [
        ""
      ],
      "metadata": {
        "id": "9XHT6AnVjDX4"
      },
      "execution_count": null,
      "outputs": []
    },
    {
      "cell_type": "code",
      "source": [
        "y_preds_sm, model_sm = ANN(X_train_sm, y_train_sm, X_test_sm, y_test_sm, 'binary_crossentropy', -1) #'binary_crossentropy' , focloss"
      ],
      "metadata": {
        "id": "vxDgK00udP0_"
      },
      "execution_count": null,
      "outputs": []
    },
    {
      "cell_type": "markdown",
      "source": [
        "Models"
      ],
      "metadata": {
        "id": "7hUQVT8V7tTz"
      }
    },
    {
      "cell_type": "code",
      "source": [
        "linreg = LinearRegression()\n",
        "linreg.fit(X_sm,y_sm)"
      ],
      "metadata": {
        "colab": {
          "base_uri": "https://localhost:8080/"
        },
        "id": "nKZ2rh8jKoSf",
        "outputId": "a387a5f1-652c-4354-8d0d-55cca0b1af56"
      },
      "execution_count": null,
      "outputs": [
        {
          "output_type": "execute_result",
          "data": {
            "text/plain": [
              "LinearRegression()"
            ]
          },
          "metadata": {},
          "execution_count": 146
        }
      ]
    },
    {
      "cell_type": "code",
      "source": [
        "predictionsLiR = linreg.predict(X)\n",
        "predictionsLiR = np.round(predictionsLiR)"
      ],
      "metadata": {
        "id": "4zRWyQfnKolM"
      },
      "execution_count": null,
      "outputs": []
    },
    {
      "cell_type": "code",
      "source": [
        "for i in range(len(predictionsLiR)):\n",
        "  if predictionsLiR[i] >= 2:\n",
        "    predictionsLiR[i] = 1\n",
        "  if predictionsLiR[i] <= 0:\n",
        "    predictionsLiR[i] = 0"
      ],
      "metadata": {
        "id": "JscK9kOZMwKF"
      },
      "execution_count": null,
      "outputs": []
    },
    {
      "cell_type": "code",
      "source": [
        "print(confusion_matrix(y,predictionsLiR))\n",
        "print('AUCROC:', roc_auc_score(y, predictionsLiR))"
      ],
      "metadata": {
        "colab": {
          "base_uri": "https://localhost:8080/"
        },
        "id": "LEWZqfnoKoeN",
        "outputId": "f97696af-d8e7-49d3-b2c8-8edda962f79c"
      },
      "execution_count": null,
      "outputs": [
        {
          "output_type": "stream",
          "name": "stdout",
          "text": [
            "[[304382 140400]\n",
            " [  2253   2965]]\n",
            "AUCROC: 0.6262825588354299\n"
          ]
        }
      ]
    },
    {
      "cell_type": "code",
      "source": [
        "logreg = LogisticRegression()\n",
        "logreg.fit(X_sm,y_sm)"
      ],
      "metadata": {
        "id": "xs2SE3YjCdp6",
        "colab": {
          "base_uri": "https://localhost:8080/"
        },
        "outputId": "7bc159e5-587c-4455-fea2-f9378c98f534"
      },
      "execution_count": null,
      "outputs": [
        {
          "output_type": "execute_result",
          "data": {
            "text/plain": [
              "LogisticRegression()"
            ]
          },
          "metadata": {},
          "execution_count": 153
        }
      ]
    },
    {
      "cell_type": "code",
      "source": [
        "predictionsLR = logreg.predict(X)\n",
        "print(confusion_matrix(y,predictionsLR))\n",
        "print('AUCROC:', roc_auc_score(y, predictionsLR))"
      ],
      "metadata": {
        "colab": {
          "base_uri": "https://localhost:8080/"
        },
        "outputId": "0c77ece5-03e0-4300-dc6d-5d44677de351",
        "id": "lSC-Nj7s7tT0"
      },
      "execution_count": null,
      "outputs": [
        {
          "output_type": "stream",
          "name": "stdout",
          "text": [
            "[[298589 146193]\n",
            " [  1800   3418]]\n",
            "AUCROC: 0.6631778156345373\n"
          ]
        }
      ]
    },
    {
      "cell_type": "code",
      "source": [
        "logreg = LogisticRegression()\n",
        "logreg.fit(X_train_sm,y_train_sm)"
      ],
      "metadata": {
        "colab": {
          "base_uri": "https://localhost:8080/"
        },
        "outputId": "e7236fa6-e02a-4db9-a4c8-20b94b66eb94",
        "id": "L5b7gIBKZexW"
      },
      "execution_count": null,
      "outputs": [
        {
          "output_type": "execute_result",
          "data": {
            "text/plain": [
              "LogisticRegression()"
            ]
          },
          "metadata": {},
          "execution_count": 46
        }
      ]
    },
    {
      "cell_type": "code",
      "source": [
        "predictionsLR = logreg.predict(X)\n",
        "print(confusion_matrix(y,predictionsLR))\n",
        "print('AUCROC:', roc_auc_score(y, predictionsLR))"
      ],
      "metadata": {
        "colab": {
          "base_uri": "https://localhost:8080/"
        },
        "outputId": "f2e41426-52df-4d8e-d1cf-065612f410cf",
        "id": "Yl-9TjuUZf5J"
      },
      "execution_count": null,
      "outputs": [
        {
          "output_type": "stream",
          "name": "stdout",
          "text": [
            "[[298379 146403]\n",
            " [  1782   3436]]\n",
            "AUCROC: 0.6646665437037137\n"
          ]
        }
      ]
    },
    {
      "cell_type": "code",
      "source": [
        "dtree = DecisionTreeClassifier()\n",
        "dtree.fit(X_train,y_train)"
      ],
      "metadata": {
        "id": "kqNMZQgV7tT1",
        "colab": {
          "base_uri": "https://localhost:8080/"
        },
        "outputId": "ccc8b465-3158-4cea-d898-35b3eaf5f1de"
      },
      "execution_count": null,
      "outputs": [
        {
          "output_type": "execute_result",
          "data": {
            "text/plain": [
              "DecisionTreeClassifier()"
            ]
          },
          "metadata": {},
          "execution_count": 160
        }
      ]
    },
    {
      "cell_type": "code",
      "source": [
        "predictions = dtree.predict(X_test)\n",
        "print(confusion_matrix(y_test,predictions))\n",
        "print(roc_auc_score(y_test, predictions))"
      ],
      "metadata": {
        "colab": {
          "base_uri": "https://localhost:8080/"
        },
        "outputId": "dc7f35e5-1db1-4b0c-dcef-bc3853e7c79c",
        "id": "IRfrrca_7tT1"
      },
      "execution_count": null,
      "outputs": [
        {
          "output_type": "stream",
          "name": "stdout",
          "text": [
            "[[87607  1349]\n",
            " [  886   158]]\n",
            "0.5680880977965084\n"
          ]
        }
      ]
    },
    {
      "cell_type": "code",
      "source": [
        "X_sm"
      ],
      "metadata": {
        "id": "cPRoyZ__kJDH"
      },
      "execution_count": null,
      "outputs": []
    },
    {
      "cell_type": "code",
      "source": [
        "dtree = DecisionTreeClassifier(max_depth = 8)\n",
        "dtree.fit(X_sm.drop(columns=['alloted_orders', 'timeofday']),y_sm)"
      ],
      "metadata": {
        "colab": {
          "base_uri": "https://localhost:8080/"
        },
        "id": "XghxjuDXZ3qU",
        "outputId": "321f4bda-fee5-47da-d39d-b132fbf52154"
      },
      "execution_count": null,
      "outputs": [
        {
          "output_type": "execute_result",
          "data": {
            "text/plain": [
              "DecisionTreeClassifier(max_depth=8)"
            ]
          },
          "metadata": {},
          "execution_count": 125
        }
      ]
    },
    {
      "cell_type": "code",
      "source": [
        "predictions = dtree.predict(X_sm.drop(columns=['alloted_orders', 'timeofday']))\n",
        "print(confusion_matrix(y_sm,predictions))\n",
        "print(roc_auc_score(y_sm, predictions))"
      ],
      "metadata": {
        "colab": {
          "base_uri": "https://localhost:8080/"
        },
        "id": "E8__WNkAwm_S",
        "outputId": "013d090b-f138-4e58-da88-6db2d1518402"
      },
      "execution_count": null,
      "outputs": [
        {
          "output_type": "stream",
          "name": "stdout",
          "text": [
            "[[260160  95666]\n",
            " [121254 234572]]\n",
            "0.6951880975532987\n"
          ]
        }
      ]
    },
    {
      "cell_type": "code",
      "source": [
        "predictions = dtree.predict(X_test.drop(columns=['alloted_orders', 'timeofday']))\n",
        "print(confusion_matrix(y_test,predictions))\n",
        "print(roc_auc_score(y_test, predictions))"
      ],
      "metadata": {
        "colab": {
          "base_uri": "https://localhost:8080/"
        },
        "outputId": "3ed82922-8a1b-43a6-fe21-7858aa570185",
        "id": "_T2lWk_5Z5Mi"
      },
      "execution_count": null,
      "outputs": [
        {
          "output_type": "stream",
          "name": "stdout",
          "text": [
            "[[65078 23878]\n",
            " [  580   464]]\n",
            "0.5880098025990377\n"
          ]
        }
      ]
    },
    {
      "cell_type": "code",
      "source": [
        "predictionstest = dtree.predict(dfsimpletest1)"
      ],
      "metadata": {
        "id": "bKyMzUCuupkL"
      },
      "execution_count": null,
      "outputs": []
    },
    {
      "cell_type": "code",
      "source": [
        "pd.Series(predictionstest).value_counts()"
      ],
      "metadata": {
        "colab": {
          "base_uri": "https://localhost:8080/"
        },
        "id": "mFqkudkfu2na",
        "outputId": "3c4e66fc-c965-4fc1-d853-00bde7419e54"
      },
      "execution_count": null,
      "outputs": [
        {
          "output_type": "execute_result",
          "data": {
            "text/plain": [
              "0.0    140522\n",
              "1.0      4322\n",
              "dtype: int64"
            ]
          },
          "metadata": {},
          "execution_count": 412
        }
      ]
    },
    {
      "cell_type": "code",
      "source": [
        "from xgboost.sklearn import XGBClassifier\n",
        "\n",
        "# Create the XGB classifier, xgb_model.\n",
        "xgb_model = XGBClassifier()\n",
        "\n",
        "# List the default parameters.\n",
        "print(xgb_model.get_xgb_params())"
      ],
      "metadata": {
        "colab": {
          "base_uri": "https://localhost:8080/"
        },
        "id": "mxtgtdsahMrl",
        "outputId": "8bc97cc5-5fd4-45d9-aeb0-fa2928781cc9"
      },
      "execution_count": null,
      "outputs": [
        {
          "output_type": "stream",
          "name": "stdout",
          "text": [
            "{'base_score': 0.5, 'booster': 'gbtree', 'colsample_bylevel': 1, 'colsample_bynode': 1, 'colsample_bytree': 1, 'gamma': 0, 'learning_rate': 0.1, 'max_delta_step': 0, 'max_depth': 3, 'min_child_weight': 1, 'missing': None, 'n_estimators': 100, 'nthread': 1, 'objective': 'binary:logistic', 'reg_alpha': 0, 'reg_lambda': 1, 'scale_pos_weight': 1, 'seed': 0, 'subsample': 1, 'verbosity': 1}\n"
          ]
        }
      ]
    },
    {
      "cell_type": "code",
      "source": [
        "xgb_model.fit(X_sm.drop(columns=['alloted_orders', 'timeofday']), y_sm, eval_metric=['error'], eval_set=[((X_train_sm.drop(columns=['alloted_orders', 'timeofday']), y_train_sm)),(X_test_sm.drop(columns=['alloted_orders', 'timeofday']), y_test_sm)])"
      ],
      "metadata": {
        "id": "bfQ-pz17hPgR",
        "colab": {
          "base_uri": "https://localhost:8080/"
        },
        "outputId": "4b506214-bf8e-4dad-c8f4-d52281a83b9d"
      },
      "execution_count": null,
      "outputs": [
        {
          "output_type": "stream",
          "name": "stdout",
          "text": [
            "[0]\tvalidation_0-error:0.373134\tvalidation_1-error:0.371479\n",
            "[1]\tvalidation_0-error:0.373044\tvalidation_1-error:0.37143\n",
            "[2]\tvalidation_0-error:0.351582\tvalidation_1-error:0.350015\n",
            "[3]\tvalidation_0-error:0.351898\tvalidation_1-error:0.350177\n",
            "[4]\tvalidation_0-error:0.349683\tvalidation_1-error:0.348498\n",
            "[5]\tvalidation_0-error:0.348654\tvalidation_1-error:0.347373\n",
            "[6]\tvalidation_0-error:0.34339\tvalidation_1-error:0.341549\n",
            "[7]\tvalidation_0-error:0.343632\tvalidation_1-error:0.341725\n",
            "[8]\tvalidation_0-error:0.342229\tvalidation_1-error:0.340593\n",
            "[9]\tvalidation_0-error:0.335528\tvalidation_1-error:0.335338\n",
            "[10]\tvalidation_0-error:0.341235\tvalidation_1-error:0.339743\n",
            "[11]\tvalidation_0-error:0.32961\tvalidation_1-error:0.329352\n",
            "[12]\tvalidation_0-error:0.334035\tvalidation_1-error:0.333357\n",
            "[13]\tvalidation_0-error:0.333829\tvalidation_1-error:0.333265\n",
            "[14]\tvalidation_0-error:0.33368\tvalidation_1-error:0.333343\n",
            "[15]\tvalidation_0-error:0.33364\tvalidation_1-error:0.333223\n",
            "[16]\tvalidation_0-error:0.329902\tvalidation_1-error:0.329394\n",
            "[17]\tvalidation_0-error:0.330736\tvalidation_1-error:0.330364\n",
            "[18]\tvalidation_0-error:0.330214\tvalidation_1-error:0.329956\n",
            "[19]\tvalidation_0-error:0.330323\tvalidation_1-error:0.330076\n",
            "[20]\tvalidation_0-error:0.329886\tvalidation_1-error:0.329394\n",
            "[21]\tvalidation_0-error:0.329136\tvalidation_1-error:0.328642\n",
            "[22]\tvalidation_0-error:0.328848\tvalidation_1-error:0.328453\n",
            "[23]\tvalidation_0-error:0.327838\tvalidation_1-error:0.327525\n",
            "[24]\tvalidation_0-error:0.328368\tvalidation_1-error:0.32768\n",
            "[25]\tvalidation_0-error:0.326963\tvalidation_1-error:0.326345\n",
            "[26]\tvalidation_0-error:0.327062\tvalidation_1-error:0.326795\n",
            "[27]\tvalidation_0-error:0.326968\tvalidation_1-error:0.326457\n",
            "[28]\tvalidation_0-error:0.325245\tvalidation_1-error:0.324645\n",
            "[29]\tvalidation_0-error:0.325356\tvalidation_1-error:0.32475\n",
            "[30]\tvalidation_0-error:0.32253\tvalidation_1-error:0.322214\n",
            "[31]\tvalidation_0-error:0.320373\tvalidation_1-error:0.320443\n",
            "[32]\tvalidation_0-error:0.320361\tvalidation_1-error:0.320422\n",
            "[33]\tvalidation_0-error:0.321625\tvalidation_1-error:0.321588\n",
            "[34]\tvalidation_0-error:0.319637\tvalidation_1-error:0.319523\n",
            "[35]\tvalidation_0-error:0.317575\tvalidation_1-error:0.317246\n",
            "[36]\tvalidation_0-error:0.317332\tvalidation_1-error:0.317092\n",
            "[37]\tvalidation_0-error:0.316563\tvalidation_1-error:0.316691\n",
            "[38]\tvalidation_0-error:0.316505\tvalidation_1-error:0.316776\n",
            "[39]\tvalidation_0-error:0.316691\tvalidation_1-error:0.316867\n",
            "[40]\tvalidation_0-error:0.31719\tvalidation_1-error:0.317373\n",
            "[41]\tvalidation_0-error:0.316503\tvalidation_1-error:0.31679\n",
            "[42]\tvalidation_0-error:0.316321\tvalidation_1-error:0.316712\n",
            "[43]\tvalidation_0-error:0.316257\tvalidation_1-error:0.316783\n",
            "[44]\tvalidation_0-error:0.31682\tvalidation_1-error:0.317429\n",
            "[45]\tvalidation_0-error:0.316974\tvalidation_1-error:0.317443\n",
            "[46]\tvalidation_0-error:0.315509\tvalidation_1-error:0.315567\n",
            "[47]\tvalidation_0-error:0.314002\tvalidation_1-error:0.314\n",
            "[48]\tvalidation_0-error:0.314408\tvalidation_1-error:0.314394\n",
            "[49]\tvalidation_0-error:0.315067\tvalidation_1-error:0.31504\n",
            "[50]\tvalidation_0-error:0.314396\tvalidation_1-error:0.314478\n",
            "[51]\tvalidation_0-error:0.314093\tvalidation_1-error:0.31412\n",
            "[52]\tvalidation_0-error:0.314434\tvalidation_1-error:0.314464\n",
            "[53]\tvalidation_0-error:0.313886\tvalidation_1-error:0.314078\n",
            "[54]\tvalidation_0-error:0.313591\tvalidation_1-error:0.313614\n",
            "[55]\tvalidation_0-error:0.313136\tvalidation_1-error:0.312673\n",
            "[56]\tvalidation_0-error:0.313033\tvalidation_1-error:0.31249\n",
            "[57]\tvalidation_0-error:0.312441\tvalidation_1-error:0.311893\n",
            "[58]\tvalidation_0-error:0.310194\tvalidation_1-error:0.308935\n",
            "[59]\tvalidation_0-error:0.309571\tvalidation_1-error:0.30819\n",
            "[60]\tvalidation_0-error:0.309563\tvalidation_1-error:0.308057\n",
            "[61]\tvalidation_0-error:0.309534\tvalidation_1-error:0.308028\n",
            "[62]\tvalidation_0-error:0.309451\tvalidation_1-error:0.308064\n",
            "[63]\tvalidation_0-error:0.310025\tvalidation_1-error:0.308745\n",
            "[64]\tvalidation_0-error:0.309734\tvalidation_1-error:0.308562\n",
            "[65]\tvalidation_0-error:0.309853\tvalidation_1-error:0.30864\n",
            "[66]\tvalidation_0-error:0.309304\tvalidation_1-error:0.308183\n",
            "[67]\tvalidation_0-error:0.309376\tvalidation_1-error:0.308239\n",
            "[68]\tvalidation_0-error:0.308264\tvalidation_1-error:0.307122\n",
            "[69]\tvalidation_0-error:0.308309\tvalidation_1-error:0.307347\n",
            "[70]\tvalidation_0-error:0.308014\tvalidation_1-error:0.307031\n",
            "[71]\tvalidation_0-error:0.308013\tvalidation_1-error:0.30701\n",
            "[72]\tvalidation_0-error:0.307456\tvalidation_1-error:0.306384\n",
            "[73]\tvalidation_0-error:0.306771\tvalidation_1-error:0.305738\n",
            "[74]\tvalidation_0-error:0.306971\tvalidation_1-error:0.306047\n",
            "[75]\tvalidation_0-error:0.306911\tvalidation_1-error:0.30597\n",
            "[76]\tvalidation_0-error:0.307289\tvalidation_1-error:0.306335\n",
            "[77]\tvalidation_0-error:0.306888\tvalidation_1-error:0.305963\n",
            "[78]\tvalidation_0-error:0.306658\tvalidation_1-error:0.305815\n",
            "[79]\tvalidation_0-error:0.30653\tvalidation_1-error:0.305429\n",
            "[80]\tvalidation_0-error:0.306723\tvalidation_1-error:0.30559\n",
            "[81]\tvalidation_0-error:0.306662\tvalidation_1-error:0.305359\n",
            "[82]\tvalidation_0-error:0.306558\tvalidation_1-error:0.305155\n",
            "[83]\tvalidation_0-error:0.306486\tvalidation_1-error:0.305085\n",
            "[84]\tvalidation_0-error:0.306628\tvalidation_1-error:0.305331\n",
            "[85]\tvalidation_0-error:0.305596\tvalidation_1-error:0.304572\n",
            "[86]\tvalidation_0-error:0.305452\tvalidation_1-error:0.304523\n",
            "[87]\tvalidation_0-error:0.30506\tvalidation_1-error:0.304206\n",
            "[88]\tvalidation_0-error:0.304489\tvalidation_1-error:0.303476\n",
            "[89]\tvalidation_0-error:0.304363\tvalidation_1-error:0.303272\n",
            "[90]\tvalidation_0-error:0.304496\tvalidation_1-error:0.303441\n",
            "[91]\tvalidation_0-error:0.304204\tvalidation_1-error:0.303096\n",
            "[92]\tvalidation_0-error:0.30373\tvalidation_1-error:0.302443\n",
            "[93]\tvalidation_0-error:0.304125\tvalidation_1-error:0.302928\n",
            "[94]\tvalidation_0-error:0.303836\tvalidation_1-error:0.302647\n",
            "[95]\tvalidation_0-error:0.303504\tvalidation_1-error:0.302246\n",
            "[96]\tvalidation_0-error:0.303611\tvalidation_1-error:0.302569\n",
            "[97]\tvalidation_0-error:0.303519\tvalidation_1-error:0.302457\n",
            "[98]\tvalidation_0-error:0.30372\tvalidation_1-error:0.302534\n",
            "[99]\tvalidation_0-error:0.303384\tvalidation_1-error:0.302211\n"
          ]
        },
        {
          "output_type": "execute_result",
          "data": {
            "text/plain": [
              "XGBClassifier()"
            ]
          },
          "metadata": {},
          "execution_count": 132
        }
      ]
    },
    {
      "cell_type": "code",
      "source": [
        "from sklearn import metrics\n",
        "import warnings\n",
        "warnings.filterwarnings(\"ignore\")\n",
        "\n",
        "y_pred = xgb_model.predict(X_test.drop(columns=['alloted_orders', 'timeofday']))  #predicts\n",
        "print('confusion matrix')\n",
        "print(metrics.confusion_matrix(y_test, y_pred))\n",
        "print('classification report')\n",
        "print(metrics.classification_report(y_test, y_pred))\n",
        "print(\"-----------------------------------------------------------------------------------------\")\n",
        "print(\"Accuracy is :\")\n",
        "print(metrics.accuracy_score(y_test, y_pred))\n",
        "print('Area under the curve : %f' % (metrics.roc_auc_score(y_test, y_pred)))"
      ],
      "metadata": {
        "id": "9NPnefRWh0w1",
        "colab": {
          "base_uri": "https://localhost:8080/"
        },
        "outputId": "ab8deb50-d28d-4b17-b47b-e74027697226"
      },
      "execution_count": null,
      "outputs": [
        {
          "output_type": "stream",
          "name": "stdout",
          "text": [
            "confusion matrix\n",
            "[[68302 20654]\n",
            " [  575   469]]\n",
            "classification report\n",
            "              precision    recall  f1-score   support\n",
            "\n",
            "         0.0       0.99      0.77      0.87     88956\n",
            "         1.0       0.02      0.45      0.04      1044\n",
            "\n",
            "    accuracy                           0.76     90000\n",
            "   macro avg       0.51      0.61      0.45     90000\n",
            "weighted avg       0.98      0.76      0.86     90000\n",
            "\n",
            "-----------------------------------------------------------------------------------------\n",
            "Accuracy is :\n",
            "0.7641222222222223\n",
            "Area under the curve : 0.608526\n"
          ]
        }
      ]
    },
    {
      "cell_type": "code",
      "source": [
        "!pip install imbalance-xgboost"
      ],
      "metadata": {
        "id": "jtx_Q-LvnuMF",
        "colab": {
          "base_uri": "https://localhost:8080/",
          "height": 381
        },
        "outputId": "b33c7ba4-a538-4d3e-eb29-a291781f9e78"
      },
      "execution_count": null,
      "outputs": [
        {
          "output_type": "stream",
          "name": "stdout",
          "text": [
            "Collecting imbalance-xgboost\n",
            "  Downloading imbalance_xgboost-0.8.1-py3-none-any.whl (15 kB)\n",
            "Requirement already satisfied: numpy>=1.11 in /usr/local/lib/python3.7/dist-packages (from imbalance-xgboost) (1.19.5)\n",
            "Collecting xgboost>=1.1.1\n",
            "  Downloading xgboost-1.5.2-py3-none-manylinux2014_x86_64.whl (173.6 MB)\n",
            "\u001b[K     |████████████████████████████████| 173.6 MB 8.5 kB/s \n",
            "\u001b[?25hRequirement already satisfied: scikit-learn>=0.19 in /usr/local/lib/python3.7/dist-packages (from imbalance-xgboost) (1.0.2)\n",
            "Requirement already satisfied: scipy>=1.1.0 in /usr/local/lib/python3.7/dist-packages (from scikit-learn>=0.19->imbalance-xgboost) (1.4.1)\n",
            "Requirement already satisfied: joblib>=0.11 in /usr/local/lib/python3.7/dist-packages (from scikit-learn>=0.19->imbalance-xgboost) (1.1.0)\n",
            "Requirement already satisfied: threadpoolctl>=2.0.0 in /usr/local/lib/python3.7/dist-packages (from scikit-learn>=0.19->imbalance-xgboost) (3.1.0)\n",
            "Installing collected packages: xgboost, imbalance-xgboost\n",
            "  Attempting uninstall: xgboost\n",
            "    Found existing installation: xgboost 0.90\n",
            "    Uninstalling xgboost-0.90:\n",
            "      Successfully uninstalled xgboost-0.90\n",
            "Successfully installed imbalance-xgboost-0.8.1 xgboost-1.5.2\n"
          ]
        },
        {
          "output_type": "display_data",
          "data": {
            "application/vnd.colab-display-data+json": {
              "pip_warning": {
                "packages": [
                  "xgboost"
                ]
              }
            }
          },
          "metadata": {}
        }
      ]
    },
    {
      "cell_type": "code",
      "source": [
        "from imxgboost.imbalance_xgb import imbalance_xgboost as imb_xgb"
      ],
      "metadata": {
        "id": "bHqPXbNbnn70"
      },
      "execution_count": null,
      "outputs": []
    },
    {
      "cell_type": "code",
      "source": [
        "from sklearn.model_selection import GridSearchCV\n",
        "xgboster_focal = imb_xgb(special_objective='focal')\n",
        "xgboster_weight = imb_xgb(special_objective='weighted')\n",
        "CV_focal_booster = GridSearchCV(xgboster_focal, {\"focal_gamma\":[1.0,1.5,2.0,2.5]})\n",
        "CV_weight_booster = GridSearchCV(xgboster_weight, {\"imbalance_alpha\":[1.5,2.0,2.5,3.0]})"
      ],
      "metadata": {
        "id": "yr18yRIMnrXi"
      },
      "execution_count": null,
      "outputs": []
    },
    {
      "cell_type": "code",
      "source": [
        "CV_focal_booster.fit(np.array(X_sm), np.array(y_sm))\n",
        "CV_weight_booster.fit(np.array(X_sm), np.array(y_sm))\n",
        "opt_focal_booster = CV_focal_booster.best_estimator_\n",
        "opt_weight_booster = CV_weight_booster.best_estimator_"
      ],
      "metadata": {
        "id": "z9aom61Tnrb1"
      },
      "execution_count": null,
      "outputs": []
    },
    {
      "cell_type": "code",
      "source": [
        "class_output_fb = opt_focal_booster.predict_determine(X_sm)#, y=None) "
      ],
      "metadata": {
        "id": "Dd1qRmnYnrhG",
        "colab": {
          "base_uri": "https://localhost:8080/"
        },
        "outputId": "2223638d-330a-4213-c4a0-2b81c3d04b66"
      },
      "execution_count": null,
      "outputs": [
        {
          "output_type": "error",
          "ename": "ValueError",
          "evalue": "ignored",
          "traceback": [
            "\u001b[0;31m---------------------------------------------------------------------------\u001b[0m",
            "\u001b[0;31mValueError\u001b[0m                                Traceback (most recent call last)",
            "\u001b[0;32m<ipython-input-151-5137e0ef4ef5>\u001b[0m in \u001b[0;36m<module>\u001b[0;34m()\u001b[0m\n\u001b[0;32m----> 1\u001b[0;31m \u001b[0mclass_output_fb\u001b[0m \u001b[0;34m=\u001b[0m \u001b[0mopt_focal_booster\u001b[0m\u001b[0;34m.\u001b[0m\u001b[0mpredict_determine\u001b[0m\u001b[0;34m(\u001b[0m\u001b[0mX_sm\u001b[0m\u001b[0;34m)\u001b[0m\u001b[0;31m#, y=None)\u001b[0m\u001b[0;34m\u001b[0m\u001b[0;34m\u001b[0m\u001b[0m\n\u001b[0m",
            "\u001b[0;32m/usr/local/lib/python3.7/dist-packages/imxgboost/imbalance_xgb.py\u001b[0m in \u001b[0;36mpredict_determine\u001b[0;34m(self, data_x, y)\u001b[0m\n\u001b[1;32m    154\u001b[0m     \u001b[0;32mdef\u001b[0m \u001b[0mpredict_determine\u001b[0m\u001b[0;34m(\u001b[0m\u001b[0mself\u001b[0m\u001b[0;34m,\u001b[0m \u001b[0mdata_x\u001b[0m\u001b[0;34m,\u001b[0m \u001b[0my\u001b[0m\u001b[0;34m=\u001b[0m\u001b[0;32mNone\u001b[0m\u001b[0;34m)\u001b[0m\u001b[0;34m:\u001b[0m\u001b[0;34m\u001b[0m\u001b[0;34m\u001b[0m\u001b[0m\n\u001b[1;32m    155\u001b[0m         \u001b[0;31m# deterministic output\u001b[0m\u001b[0;34m\u001b[0m\u001b[0;34m\u001b[0m\u001b[0;34m\u001b[0m\u001b[0m\n\u001b[0;32m--> 156\u001b[0;31m         \u001b[0msigmoid_output\u001b[0m \u001b[0;34m=\u001b[0m \u001b[0mself\u001b[0m\u001b[0;34m.\u001b[0m\u001b[0mpredict_sigmoid\u001b[0m\u001b[0;34m(\u001b[0m\u001b[0mdata_x\u001b[0m\u001b[0;34m,\u001b[0m \u001b[0my\u001b[0m\u001b[0;34m)\u001b[0m\u001b[0;34m\u001b[0m\u001b[0;34m\u001b[0m\u001b[0m\n\u001b[0m\u001b[1;32m    157\u001b[0m         \u001b[0mprediction_output\u001b[0m \u001b[0;34m=\u001b[0m \u001b[0mnp\u001b[0m\u001b[0;34m.\u001b[0m\u001b[0mround\u001b[0m\u001b[0;34m(\u001b[0m\u001b[0msigmoid_output\u001b[0m\u001b[0;34m)\u001b[0m\u001b[0;34m\u001b[0m\u001b[0;34m\u001b[0m\u001b[0m\n\u001b[1;32m    158\u001b[0m \u001b[0;34m\u001b[0m\u001b[0m\n",
            "\u001b[0;32m/usr/local/lib/python3.7/dist-packages/imxgboost/imbalance_xgb.py\u001b[0m in \u001b[0;36mpredict_sigmoid\u001b[0;34m(self, data_x, y)\u001b[0m\n\u001b[1;32m    147\u001b[0m         \u001b[0;31m# sigmoid output, for the prob = 1\u001b[0m\u001b[0;34m\u001b[0m\u001b[0;34m\u001b[0m\u001b[0;34m\u001b[0m\u001b[0m\n\u001b[1;32m    148\u001b[0m \u001b[0;34m\u001b[0m\u001b[0m\n\u001b[0;32m--> 149\u001b[0;31m         \u001b[0mraw_output\u001b[0m \u001b[0;34m=\u001b[0m \u001b[0mself\u001b[0m\u001b[0;34m.\u001b[0m\u001b[0mpredict\u001b[0m\u001b[0;34m(\u001b[0m\u001b[0mdata_x\u001b[0m\u001b[0;34m,\u001b[0m \u001b[0my\u001b[0m\u001b[0;34m)\u001b[0m\u001b[0;34m\u001b[0m\u001b[0;34m\u001b[0m\u001b[0m\n\u001b[0m\u001b[1;32m    150\u001b[0m         \u001b[0msigmoid_output\u001b[0m \u001b[0;34m=\u001b[0m \u001b[0;36m1.\u001b[0m \u001b[0;34m/\u001b[0m \u001b[0;34m(\u001b[0m\u001b[0;36m1.\u001b[0m \u001b[0;34m+\u001b[0m \u001b[0mnp\u001b[0m\u001b[0;34m.\u001b[0m\u001b[0mexp\u001b[0m\u001b[0;34m(\u001b[0m\u001b[0;34m-\u001b[0m\u001b[0mraw_output\u001b[0m\u001b[0;34m)\u001b[0m\u001b[0;34m)\u001b[0m\u001b[0;34m\u001b[0m\u001b[0;34m\u001b[0m\u001b[0m\n\u001b[1;32m    151\u001b[0m \u001b[0;34m\u001b[0m\u001b[0m\n",
            "\u001b[0;32m/usr/local/lib/python3.7/dist-packages/imxgboost/imbalance_xgb.py\u001b[0m in \u001b[0;36mpredict\u001b[0;34m(self, data_x, y)\u001b[0m\n\u001b[1;32m    140\u001b[0m             \u001b[0mdtest\u001b[0m \u001b[0;34m=\u001b[0m \u001b[0mxgb\u001b[0m\u001b[0;34m.\u001b[0m\u001b[0mDMatrix\u001b[0m\u001b[0;34m(\u001b[0m\u001b[0mdata_x\u001b[0m\u001b[0;34m)\u001b[0m\u001b[0;34m\u001b[0m\u001b[0;34m\u001b[0m\u001b[0m\n\u001b[1;32m    141\u001b[0m \u001b[0;34m\u001b[0m\u001b[0m\n\u001b[0;32m--> 142\u001b[0;31m         \u001b[0mprediction_output\u001b[0m \u001b[0;34m=\u001b[0m \u001b[0mself\u001b[0m\u001b[0;34m.\u001b[0m\u001b[0mboosting_model\u001b[0m\u001b[0;34m.\u001b[0m\u001b[0mpredict\u001b[0m\u001b[0;34m(\u001b[0m\u001b[0mdtest\u001b[0m\u001b[0;34m)\u001b[0m\u001b[0;34m\u001b[0m\u001b[0;34m\u001b[0m\u001b[0m\n\u001b[0m\u001b[1;32m    143\u001b[0m \u001b[0;34m\u001b[0m\u001b[0m\n\u001b[1;32m    144\u001b[0m         \u001b[0;32mreturn\u001b[0m \u001b[0mprediction_output\u001b[0m\u001b[0;34m\u001b[0m\u001b[0;34m\u001b[0m\u001b[0m\n",
            "\u001b[0;32m/usr/local/lib/python3.7/dist-packages/xgboost/core.py\u001b[0m in \u001b[0;36mpredict\u001b[0;34m(self, data, output_margin, ntree_limit, pred_leaf, pred_contribs, approx_contribs, pred_interactions, validate_features)\u001b[0m\n\u001b[1;32m   1282\u001b[0m     \u001b[0;31m# pylint: disable=too-many-public-methods\u001b[0m\u001b[0;34m\u001b[0m\u001b[0;34m\u001b[0m\u001b[0;34m\u001b[0m\u001b[0m\n\u001b[1;32m   1283\u001b[0m     \"\"\"A Booster of XGBoost.\n\u001b[0;32m-> 1284\u001b[0;31m \u001b[0;34m\u001b[0m\u001b[0m\n\u001b[0m\u001b[1;32m   1285\u001b[0m     \u001b[0mBooster\u001b[0m \u001b[0;32mis\u001b[0m \u001b[0mthe\u001b[0m \u001b[0mmodel\u001b[0m \u001b[0mof\u001b[0m \u001b[0mxgboost\u001b[0m\u001b[0;34m,\u001b[0m \u001b[0mthat\u001b[0m \u001b[0mcontains\u001b[0m \u001b[0mlow\u001b[0m \u001b[0mlevel\u001b[0m \u001b[0mroutines\u001b[0m \u001b[0;32mfor\u001b[0m\u001b[0;34m\u001b[0m\u001b[0;34m\u001b[0m\u001b[0m\n\u001b[1;32m   1286\u001b[0m     \u001b[0mtraining\u001b[0m\u001b[0;34m,\u001b[0m \u001b[0mprediction\u001b[0m \u001b[0;32mand\u001b[0m \u001b[0mevaluation\u001b[0m\u001b[0;34m.\u001b[0m\u001b[0;34m\u001b[0m\u001b[0;34m\u001b[0m\u001b[0m\n",
            "\u001b[0;32m/usr/local/lib/python3.7/dist-packages/xgboost/core.py\u001b[0m in \u001b[0;36m_validate_features\u001b[0;34m(self, data)\u001b[0m\n\u001b[1;32m   1688\u001b[0m     \u001b[0;32mdef\u001b[0m \u001b[0mboost\u001b[0m\u001b[0;34m(\u001b[0m\u001b[0mself\u001b[0m\u001b[0;34m,\u001b[0m \u001b[0mdtrain\u001b[0m\u001b[0;34m,\u001b[0m \u001b[0mgrad\u001b[0m\u001b[0;34m,\u001b[0m \u001b[0mhess\u001b[0m\u001b[0;34m)\u001b[0m\u001b[0;34m:\u001b[0m\u001b[0;34m\u001b[0m\u001b[0;34m\u001b[0m\u001b[0m\n\u001b[1;32m   1689\u001b[0m         \"\"\"Boost the booster for one iteration, with customized gradient\n\u001b[0;32m-> 1690\u001b[0;31m         \u001b[0mstatistics\u001b[0m\u001b[0;34m.\u001b[0m  \u001b[0mLike\u001b[0m \u001b[0;34m:\u001b[0m\u001b[0mpy\u001b[0m\u001b[0;34m:\u001b[0m\u001b[0mfunc\u001b[0m\u001b[0;34m:\u001b[0m\u001b[0;31m`\u001b[0m\u001b[0mxgboost\u001b[0m\u001b[0;34m.\u001b[0m\u001b[0mBooster\u001b[0m\u001b[0;34m.\u001b[0m\u001b[0mupdate\u001b[0m\u001b[0;31m`\u001b[0m\u001b[0;34m,\u001b[0m \u001b[0mthis\u001b[0m\u001b[0;34m\u001b[0m\u001b[0;34m\u001b[0m\u001b[0m\n\u001b[0m\u001b[1;32m   1691\u001b[0m         \u001b[0mfunction\u001b[0m \u001b[0mshould\u001b[0m \u001b[0;32mnot\u001b[0m \u001b[0mbe\u001b[0m \u001b[0mcalled\u001b[0m \u001b[0mdirectly\u001b[0m \u001b[0mby\u001b[0m \u001b[0musers\u001b[0m\u001b[0;34m.\u001b[0m\u001b[0;34m\u001b[0m\u001b[0;34m\u001b[0m\u001b[0m\n\u001b[1;32m   1692\u001b[0m \u001b[0;34m\u001b[0m\u001b[0m\n",
            "\u001b[0;31mValueError\u001b[0m: feature_names mismatch: ['f0', 'f1', 'f2', 'f3', 'f4', 'f5', 'f6', 'f7', 'f8', 'f9', 'f10', 'f11', 'f12', 'f13', 'f14', 'f15', 'f16', 'f17'] ['first_mile_distance', 'last_mile_distance', 'alloted_orders', 'undelivered_orders', 'lifetime_order_count', 'reassigned_order', 'session_time', 'A-A_s', 'O-A_s', 'reassignment_method_auto', 'reassignment_method_manual', 'reassignment_method_nan', 'reassignment_reason_Auto Reassignment basis Inaction. coreengine.tasks.repush_order_to_aa_bucket', 'reassignment_reason_Reassign', 'reassignment_reason_Reassignment Request from SE portal.', 'reassignment_reason_nan', 'Day_Saturday', 'timeofday']\nexpected f13, f8, f11, f3, f4, f2, f6, f7, f17, f10, f9, f0, f1, f5, f14, f16, f12, f15 in input data\ntraining data did not have the following fields: last_mile_distance, O-A_s, reassignment_reason_Auto Reassignment basis Inaction. coreengine.tasks.repush_order_to_aa_bucket, reassignment_method_manual, reassignment_reason_Reassign, undelivered_orders, A-A_s, reassignment_reason_Reassignment Request from SE portal., alloted_orders, Day_Saturday, timeofday, first_mile_distance, session_time, lifetime_order_count, reassigned_order, reassignment_method_nan, reassignment_method_auto, reassignment_reason_nan"
          ]
        }
      ]
    },
    {
      "cell_type": "code",
      "source": [
        "print(confusion_matrix(y_test,class_output_fb))\n",
        "print(roc_auc_score(y_test, class_output_fb))"
      ],
      "metadata": {
        "id": "2_zeV98fqiRN"
      },
      "execution_count": null,
      "outputs": []
    },
    {
      "cell_type": "code",
      "source": [
        "class_output_wb = opt_weight_booster.predict_determine(X_test, y=None) \n",
        "print(confusion_matrix(y,class_output_wb))\n",
        "print(roc_auc_score(y, class_output_wb))"
      ],
      "metadata": {
        "id": "eDpx4lqBFs9f",
        "colab": {
          "base_uri": "https://localhost:8080/",
          "height": 466
        },
        "outputId": "f0e74dc1-0cd8-4c2c-939f-69553a98b6b4"
      },
      "execution_count": null,
      "outputs": [
        {
          "output_type": "error",
          "ename": "ValueError",
          "evalue": "ignored",
          "traceback": [
            "\u001b[0;31m---------------------------------------------------------------------------\u001b[0m",
            "\u001b[0;31mValueError\u001b[0m                                Traceback (most recent call last)",
            "\u001b[0;32m<ipython-input-144-5021a8751ae8>\u001b[0m in \u001b[0;36m<module>\u001b[0;34m()\u001b[0m\n\u001b[0;32m----> 1\u001b[0;31m \u001b[0mclass_output_wb\u001b[0m \u001b[0;34m=\u001b[0m \u001b[0mopt_weight_booster\u001b[0m\u001b[0;34m.\u001b[0m\u001b[0mpredict_determine\u001b[0m\u001b[0;34m(\u001b[0m\u001b[0mX_test\u001b[0m\u001b[0;34m,\u001b[0m \u001b[0my\u001b[0m\u001b[0;34m=\u001b[0m\u001b[0;32mNone\u001b[0m\u001b[0;34m)\u001b[0m\u001b[0;34m\u001b[0m\u001b[0;34m\u001b[0m\u001b[0m\n\u001b[0m\u001b[1;32m      2\u001b[0m \u001b[0mprint\u001b[0m\u001b[0;34m(\u001b[0m\u001b[0mconfusion_matrix\u001b[0m\u001b[0;34m(\u001b[0m\u001b[0my\u001b[0m\u001b[0;34m,\u001b[0m\u001b[0mclass_output_wb\u001b[0m\u001b[0;34m)\u001b[0m\u001b[0;34m)\u001b[0m\u001b[0;34m\u001b[0m\u001b[0;34m\u001b[0m\u001b[0m\n\u001b[1;32m      3\u001b[0m \u001b[0mprint\u001b[0m\u001b[0;34m(\u001b[0m\u001b[0mroc_auc_score\u001b[0m\u001b[0;34m(\u001b[0m\u001b[0my\u001b[0m\u001b[0;34m,\u001b[0m \u001b[0mclass_output_wb\u001b[0m\u001b[0;34m)\u001b[0m\u001b[0;34m)\u001b[0m\u001b[0;34m\u001b[0m\u001b[0;34m\u001b[0m\u001b[0m\n",
            "\u001b[0;32m/usr/local/lib/python3.7/dist-packages/imxgboost/imbalance_xgb.py\u001b[0m in \u001b[0;36mpredict_determine\u001b[0;34m(self, data_x, y)\u001b[0m\n\u001b[1;32m    154\u001b[0m     \u001b[0;32mdef\u001b[0m \u001b[0mpredict_determine\u001b[0m\u001b[0;34m(\u001b[0m\u001b[0mself\u001b[0m\u001b[0;34m,\u001b[0m \u001b[0mdata_x\u001b[0m\u001b[0;34m,\u001b[0m \u001b[0my\u001b[0m\u001b[0;34m=\u001b[0m\u001b[0;32mNone\u001b[0m\u001b[0;34m)\u001b[0m\u001b[0;34m:\u001b[0m\u001b[0;34m\u001b[0m\u001b[0;34m\u001b[0m\u001b[0m\n\u001b[1;32m    155\u001b[0m         \u001b[0;31m# deterministic output\u001b[0m\u001b[0;34m\u001b[0m\u001b[0;34m\u001b[0m\u001b[0;34m\u001b[0m\u001b[0m\n\u001b[0;32m--> 156\u001b[0;31m         \u001b[0msigmoid_output\u001b[0m \u001b[0;34m=\u001b[0m \u001b[0mself\u001b[0m\u001b[0;34m.\u001b[0m\u001b[0mpredict_sigmoid\u001b[0m\u001b[0;34m(\u001b[0m\u001b[0mdata_x\u001b[0m\u001b[0;34m,\u001b[0m \u001b[0my\u001b[0m\u001b[0;34m)\u001b[0m\u001b[0;34m\u001b[0m\u001b[0;34m\u001b[0m\u001b[0m\n\u001b[0m\u001b[1;32m    157\u001b[0m         \u001b[0mprediction_output\u001b[0m \u001b[0;34m=\u001b[0m \u001b[0mnp\u001b[0m\u001b[0;34m.\u001b[0m\u001b[0mround\u001b[0m\u001b[0;34m(\u001b[0m\u001b[0msigmoid_output\u001b[0m\u001b[0;34m)\u001b[0m\u001b[0;34m\u001b[0m\u001b[0;34m\u001b[0m\u001b[0m\n\u001b[1;32m    158\u001b[0m \u001b[0;34m\u001b[0m\u001b[0m\n",
            "\u001b[0;32m/usr/local/lib/python3.7/dist-packages/imxgboost/imbalance_xgb.py\u001b[0m in \u001b[0;36mpredict_sigmoid\u001b[0;34m(self, data_x, y)\u001b[0m\n\u001b[1;32m    147\u001b[0m         \u001b[0;31m# sigmoid output, for the prob = 1\u001b[0m\u001b[0;34m\u001b[0m\u001b[0;34m\u001b[0m\u001b[0;34m\u001b[0m\u001b[0m\n\u001b[1;32m    148\u001b[0m \u001b[0;34m\u001b[0m\u001b[0m\n\u001b[0;32m--> 149\u001b[0;31m         \u001b[0mraw_output\u001b[0m \u001b[0;34m=\u001b[0m \u001b[0mself\u001b[0m\u001b[0;34m.\u001b[0m\u001b[0mpredict\u001b[0m\u001b[0;34m(\u001b[0m\u001b[0mdata_x\u001b[0m\u001b[0;34m,\u001b[0m \u001b[0my\u001b[0m\u001b[0;34m)\u001b[0m\u001b[0;34m\u001b[0m\u001b[0;34m\u001b[0m\u001b[0m\n\u001b[0m\u001b[1;32m    150\u001b[0m         \u001b[0msigmoid_output\u001b[0m \u001b[0;34m=\u001b[0m \u001b[0;36m1.\u001b[0m \u001b[0;34m/\u001b[0m \u001b[0;34m(\u001b[0m\u001b[0;36m1.\u001b[0m \u001b[0;34m+\u001b[0m \u001b[0mnp\u001b[0m\u001b[0;34m.\u001b[0m\u001b[0mexp\u001b[0m\u001b[0;34m(\u001b[0m\u001b[0;34m-\u001b[0m\u001b[0mraw_output\u001b[0m\u001b[0;34m)\u001b[0m\u001b[0;34m)\u001b[0m\u001b[0;34m\u001b[0m\u001b[0;34m\u001b[0m\u001b[0m\n\u001b[1;32m    151\u001b[0m \u001b[0;34m\u001b[0m\u001b[0m\n",
            "\u001b[0;32m/usr/local/lib/python3.7/dist-packages/imxgboost/imbalance_xgb.py\u001b[0m in \u001b[0;36mpredict\u001b[0;34m(self, data_x, y)\u001b[0m\n\u001b[1;32m    140\u001b[0m             \u001b[0mdtest\u001b[0m \u001b[0;34m=\u001b[0m \u001b[0mxgb\u001b[0m\u001b[0;34m.\u001b[0m\u001b[0mDMatrix\u001b[0m\u001b[0;34m(\u001b[0m\u001b[0mdata_x\u001b[0m\u001b[0;34m)\u001b[0m\u001b[0;34m\u001b[0m\u001b[0;34m\u001b[0m\u001b[0m\n\u001b[1;32m    141\u001b[0m \u001b[0;34m\u001b[0m\u001b[0m\n\u001b[0;32m--> 142\u001b[0;31m         \u001b[0mprediction_output\u001b[0m \u001b[0;34m=\u001b[0m \u001b[0mself\u001b[0m\u001b[0;34m.\u001b[0m\u001b[0mboosting_model\u001b[0m\u001b[0;34m.\u001b[0m\u001b[0mpredict\u001b[0m\u001b[0;34m(\u001b[0m\u001b[0mdtest\u001b[0m\u001b[0;34m)\u001b[0m\u001b[0;34m\u001b[0m\u001b[0;34m\u001b[0m\u001b[0m\n\u001b[0m\u001b[1;32m    143\u001b[0m \u001b[0;34m\u001b[0m\u001b[0m\n\u001b[1;32m    144\u001b[0m         \u001b[0;32mreturn\u001b[0m \u001b[0mprediction_output\u001b[0m\u001b[0;34m\u001b[0m\u001b[0;34m\u001b[0m\u001b[0m\n",
            "\u001b[0;32m/usr/local/lib/python3.7/dist-packages/xgboost/core.py\u001b[0m in \u001b[0;36mpredict\u001b[0;34m(self, data, output_margin, ntree_limit, pred_leaf, pred_contribs, approx_contribs, pred_interactions, validate_features)\u001b[0m\n\u001b[1;32m   1282\u001b[0m     \u001b[0;31m# pylint: disable=too-many-public-methods\u001b[0m\u001b[0;34m\u001b[0m\u001b[0;34m\u001b[0m\u001b[0;34m\u001b[0m\u001b[0m\n\u001b[1;32m   1283\u001b[0m     \"\"\"A Booster of XGBoost.\n\u001b[0;32m-> 1284\u001b[0;31m \u001b[0;34m\u001b[0m\u001b[0m\n\u001b[0m\u001b[1;32m   1285\u001b[0m     \u001b[0mBooster\u001b[0m \u001b[0;32mis\u001b[0m \u001b[0mthe\u001b[0m \u001b[0mmodel\u001b[0m \u001b[0mof\u001b[0m \u001b[0mxgboost\u001b[0m\u001b[0;34m,\u001b[0m \u001b[0mthat\u001b[0m \u001b[0mcontains\u001b[0m \u001b[0mlow\u001b[0m \u001b[0mlevel\u001b[0m \u001b[0mroutines\u001b[0m \u001b[0;32mfor\u001b[0m\u001b[0;34m\u001b[0m\u001b[0;34m\u001b[0m\u001b[0m\n\u001b[1;32m   1286\u001b[0m     \u001b[0mtraining\u001b[0m\u001b[0;34m,\u001b[0m \u001b[0mprediction\u001b[0m \u001b[0;32mand\u001b[0m \u001b[0mevaluation\u001b[0m\u001b[0;34m.\u001b[0m\u001b[0;34m\u001b[0m\u001b[0;34m\u001b[0m\u001b[0m\n",
            "\u001b[0;32m/usr/local/lib/python3.7/dist-packages/xgboost/core.py\u001b[0m in \u001b[0;36m_validate_features\u001b[0;34m(self, data)\u001b[0m\n\u001b[1;32m   1688\u001b[0m     \u001b[0;32mdef\u001b[0m \u001b[0mboost\u001b[0m\u001b[0;34m(\u001b[0m\u001b[0mself\u001b[0m\u001b[0;34m,\u001b[0m \u001b[0mdtrain\u001b[0m\u001b[0;34m,\u001b[0m \u001b[0mgrad\u001b[0m\u001b[0;34m,\u001b[0m \u001b[0mhess\u001b[0m\u001b[0;34m)\u001b[0m\u001b[0;34m:\u001b[0m\u001b[0;34m\u001b[0m\u001b[0;34m\u001b[0m\u001b[0m\n\u001b[1;32m   1689\u001b[0m         \"\"\"Boost the booster for one iteration, with customized gradient\n\u001b[0;32m-> 1690\u001b[0;31m         \u001b[0mstatistics\u001b[0m\u001b[0;34m.\u001b[0m  \u001b[0mLike\u001b[0m \u001b[0;34m:\u001b[0m\u001b[0mpy\u001b[0m\u001b[0;34m:\u001b[0m\u001b[0mfunc\u001b[0m\u001b[0;34m:\u001b[0m\u001b[0;31m`\u001b[0m\u001b[0mxgboost\u001b[0m\u001b[0;34m.\u001b[0m\u001b[0mBooster\u001b[0m\u001b[0;34m.\u001b[0m\u001b[0mupdate\u001b[0m\u001b[0;31m`\u001b[0m\u001b[0;34m,\u001b[0m \u001b[0mthis\u001b[0m\u001b[0;34m\u001b[0m\u001b[0;34m\u001b[0m\u001b[0m\n\u001b[0m\u001b[1;32m   1691\u001b[0m         \u001b[0mfunction\u001b[0m \u001b[0mshould\u001b[0m \u001b[0;32mnot\u001b[0m \u001b[0mbe\u001b[0m \u001b[0mcalled\u001b[0m \u001b[0mdirectly\u001b[0m \u001b[0mby\u001b[0m \u001b[0musers\u001b[0m\u001b[0;34m.\u001b[0m\u001b[0;34m\u001b[0m\u001b[0;34m\u001b[0m\u001b[0m\n\u001b[1;32m   1692\u001b[0m \u001b[0;34m\u001b[0m\u001b[0m\n",
            "\u001b[0;31mValueError\u001b[0m: feature_names mismatch: ['f0', 'f1', 'f2', 'f3', 'f4', 'f5', 'f6', 'f7', 'f8', 'f9', 'f10', 'f11', 'f12', 'f13', 'f14', 'f15', 'f16', 'f17'] ['first_mile_distance', 'last_mile_distance', 'alloted_orders', 'undelivered_orders', 'lifetime_order_count', 'reassigned_order', 'session_time', 'A-A_s', 'O-A_s', 'reassignment_method_auto', 'reassignment_method_manual', 'reassignment_method_nan', 'reassignment_reason_Auto Reassignment basis Inaction. coreengine.tasks.repush_order_to_aa_bucket', 'reassignment_reason_Reassign', 'reassignment_reason_Reassignment Request from SE portal.', 'reassignment_reason_nan', 'Day_Saturday', 'timeofday']\nexpected f13, f8, f11, f3, f4, f2, f6, f7, f17, f10, f9, f0, f1, f5, f14, f16, f12, f15 in input data\ntraining data did not have the following fields: last_mile_distance, O-A_s, reassignment_reason_Auto Reassignment basis Inaction. coreengine.tasks.repush_order_to_aa_bucket, reassignment_method_manual, reassignment_reason_Reassign, undelivered_orders, A-A_s, reassignment_reason_Reassignment Request from SE portal., alloted_orders, Day_Saturday, timeofday, first_mile_distance, session_time, lifetime_order_count, reassigned_order, reassignment_method_nan, reassignment_method_auto, reassignment_reason_nan"
          ]
        }
      ]
    },
    {
      "cell_type": "code",
      "source": [
        "X_sm"
      ],
      "metadata": {
        "id": "uicdUrLfFtI1",
        "colab": {
          "base_uri": "https://localhost:8080/",
          "height": 522
        },
        "outputId": "cd492c6f-cddd-4071-8cb6-d6c57f602ed0"
      },
      "execution_count": null,
      "outputs": [
        {
          "output_type": "execute_result",
          "data": {
            "text/html": [
              "\n",
              "  <div id=\"df-a806c3b7-5170-40fb-9905-6614d191902e\">\n",
              "    <div class=\"colab-df-container\">\n",
              "      <div>\n",
              "<style scoped>\n",
              "    .dataframe tbody tr th:only-of-type {\n",
              "        vertical-align: middle;\n",
              "    }\n",
              "\n",
              "    .dataframe tbody tr th {\n",
              "        vertical-align: top;\n",
              "    }\n",
              "\n",
              "    .dataframe thead th {\n",
              "        text-align: right;\n",
              "    }\n",
              "</style>\n",
              "<table border=\"1\" class=\"dataframe\">\n",
              "  <thead>\n",
              "    <tr style=\"text-align: right;\">\n",
              "      <th></th>\n",
              "      <th>first_mile_distance</th>\n",
              "      <th>last_mile_distance</th>\n",
              "      <th>alloted_orders</th>\n",
              "      <th>undelivered_orders</th>\n",
              "      <th>lifetime_order_count</th>\n",
              "      <th>reassigned_order</th>\n",
              "      <th>session_time</th>\n",
              "      <th>A-A_s</th>\n",
              "      <th>O-A_s</th>\n",
              "      <th>reassignment_method_auto</th>\n",
              "      <th>reassignment_method_manual</th>\n",
              "      <th>reassignment_method_nan</th>\n",
              "      <th>reassignment_reason_Auto Reassignment basis Inaction. coreengine.tasks.repush_order_to_aa_bucket</th>\n",
              "      <th>reassignment_reason_Reassign</th>\n",
              "      <th>reassignment_reason_Reassignment Request from SE portal.</th>\n",
              "      <th>reassignment_reason_nan</th>\n",
              "      <th>Day_Saturday</th>\n",
              "      <th>timeofday</th>\n",
              "    </tr>\n",
              "  </thead>\n",
              "  <tbody>\n",
              "    <tr>\n",
              "      <th>0</th>\n",
              "      <td>0.0</td>\n",
              "      <td>4.0</td>\n",
              "      <td>400.0</td>\n",
              "      <td>3.0</td>\n",
              "      <td>1000.0</td>\n",
              "      <td>0.0</td>\n",
              "      <td>300.0</td>\n",
              "      <td>40.0</td>\n",
              "      <td>200.0</td>\n",
              "      <td>0</td>\n",
              "      <td>0</td>\n",
              "      <td>1</td>\n",
              "      <td>0</td>\n",
              "      <td>0</td>\n",
              "      <td>0</td>\n",
              "      <td>1</td>\n",
              "      <td>0</td>\n",
              "      <td>5.0</td>\n",
              "    </tr>\n",
              "    <tr>\n",
              "      <th>1</th>\n",
              "      <td>2.0</td>\n",
              "      <td>4.0</td>\n",
              "      <td>50.0</td>\n",
              "      <td>1.0</td>\n",
              "      <td>500.0</td>\n",
              "      <td>0.0</td>\n",
              "      <td>100.0</td>\n",
              "      <td>80.0</td>\n",
              "      <td>30.0</td>\n",
              "      <td>0</td>\n",
              "      <td>0</td>\n",
              "      <td>1</td>\n",
              "      <td>0</td>\n",
              "      <td>0</td>\n",
              "      <td>0</td>\n",
              "      <td>1</td>\n",
              "      <td>0</td>\n",
              "      <td>7.0</td>\n",
              "    </tr>\n",
              "    <tr>\n",
              "      <th>2</th>\n",
              "      <td>0.0</td>\n",
              "      <td>0.0</td>\n",
              "      <td>40.0</td>\n",
              "      <td>0.0</td>\n",
              "      <td>200.0</td>\n",
              "      <td>0.0</td>\n",
              "      <td>100.0</td>\n",
              "      <td>80.0</td>\n",
              "      <td>1.0</td>\n",
              "      <td>0</td>\n",
              "      <td>0</td>\n",
              "      <td>1</td>\n",
              "      <td>0</td>\n",
              "      <td>0</td>\n",
              "      <td>0</td>\n",
              "      <td>1</td>\n",
              "      <td>0</td>\n",
              "      <td>3.0</td>\n",
              "    </tr>\n",
              "    <tr>\n",
              "      <th>3</th>\n",
              "      <td>0.0</td>\n",
              "      <td>4.0</td>\n",
              "      <td>200.0</td>\n",
              "      <td>0.0</td>\n",
              "      <td>700.0</td>\n",
              "      <td>0.0</td>\n",
              "      <td>40.0</td>\n",
              "      <td>10.0</td>\n",
              "      <td>3.0</td>\n",
              "      <td>0</td>\n",
              "      <td>0</td>\n",
              "      <td>1</td>\n",
              "      <td>0</td>\n",
              "      <td>0</td>\n",
              "      <td>0</td>\n",
              "      <td>1</td>\n",
              "      <td>0</td>\n",
              "      <td>7.0</td>\n",
              "    </tr>\n",
              "    <tr>\n",
              "      <th>4</th>\n",
              "      <td>1.0</td>\n",
              "      <td>1.0</td>\n",
              "      <td>60.0</td>\n",
              "      <td>0.0</td>\n",
              "      <td>100.0</td>\n",
              "      <td>0.0</td>\n",
              "      <td>5.0</td>\n",
              "      <td>10.0</td>\n",
              "      <td>0.0</td>\n",
              "      <td>0</td>\n",
              "      <td>0</td>\n",
              "      <td>1</td>\n",
              "      <td>0</td>\n",
              "      <td>0</td>\n",
              "      <td>0</td>\n",
              "      <td>1</td>\n",
              "      <td>0</td>\n",
              "      <td>1.0</td>\n",
              "    </tr>\n",
              "    <tr>\n",
              "      <th>...</th>\n",
              "      <td>...</td>\n",
              "      <td>...</td>\n",
              "      <td>...</td>\n",
              "      <td>...</td>\n",
              "      <td>...</td>\n",
              "      <td>...</td>\n",
              "      <td>...</td>\n",
              "      <td>...</td>\n",
              "      <td>...</td>\n",
              "      <td>...</td>\n",
              "      <td>...</td>\n",
              "      <td>...</td>\n",
              "      <td>...</td>\n",
              "      <td>...</td>\n",
              "      <td>...</td>\n",
              "      <td>...</td>\n",
              "      <td>...</td>\n",
              "      <td>...</td>\n",
              "    </tr>\n",
              "    <tr>\n",
              "      <th>711647</th>\n",
              "      <td>1.0</td>\n",
              "      <td>3.0</td>\n",
              "      <td>0.0</td>\n",
              "      <td>0.0</td>\n",
              "      <td>2.0</td>\n",
              "      <td>0.0</td>\n",
              "      <td>1.0</td>\n",
              "      <td>9.0</td>\n",
              "      <td>10.0</td>\n",
              "      <td>0</td>\n",
              "      <td>0</td>\n",
              "      <td>1</td>\n",
              "      <td>0</td>\n",
              "      <td>0</td>\n",
              "      <td>0</td>\n",
              "      <td>1</td>\n",
              "      <td>0</td>\n",
              "      <td>3.0</td>\n",
              "    </tr>\n",
              "    <tr>\n",
              "      <th>711648</th>\n",
              "      <td>1.0</td>\n",
              "      <td>5.0</td>\n",
              "      <td>20.0</td>\n",
              "      <td>0.0</td>\n",
              "      <td>60.0</td>\n",
              "      <td>0.0</td>\n",
              "      <td>300.0</td>\n",
              "      <td>10.0</td>\n",
              "      <td>1.0</td>\n",
              "      <td>0</td>\n",
              "      <td>0</td>\n",
              "      <td>1</td>\n",
              "      <td>0</td>\n",
              "      <td>0</td>\n",
              "      <td>0</td>\n",
              "      <td>1</td>\n",
              "      <td>0</td>\n",
              "      <td>8.0</td>\n",
              "    </tr>\n",
              "    <tr>\n",
              "      <th>711649</th>\n",
              "      <td>1.0</td>\n",
              "      <td>4.0</td>\n",
              "      <td>0.0</td>\n",
              "      <td>0.0</td>\n",
              "      <td>3.0</td>\n",
              "      <td>0.0</td>\n",
              "      <td>30.0</td>\n",
              "      <td>60.0</td>\n",
              "      <td>8.0</td>\n",
              "      <td>0</td>\n",
              "      <td>0</td>\n",
              "      <td>1</td>\n",
              "      <td>0</td>\n",
              "      <td>0</td>\n",
              "      <td>0</td>\n",
              "      <td>1</td>\n",
              "      <td>0</td>\n",
              "      <td>7.0</td>\n",
              "    </tr>\n",
              "    <tr>\n",
              "      <th>711650</th>\n",
              "      <td>0.0</td>\n",
              "      <td>2.0</td>\n",
              "      <td>10.0</td>\n",
              "      <td>0.0</td>\n",
              "      <td>100.0</td>\n",
              "      <td>0.0</td>\n",
              "      <td>100.0</td>\n",
              "      <td>9.0</td>\n",
              "      <td>10.0</td>\n",
              "      <td>0</td>\n",
              "      <td>0</td>\n",
              "      <td>1</td>\n",
              "      <td>0</td>\n",
              "      <td>0</td>\n",
              "      <td>0</td>\n",
              "      <td>1</td>\n",
              "      <td>0</td>\n",
              "      <td>4.0</td>\n",
              "    </tr>\n",
              "    <tr>\n",
              "      <th>711651</th>\n",
              "      <td>0.0</td>\n",
              "      <td>4.0</td>\n",
              "      <td>50.0</td>\n",
              "      <td>2.0</td>\n",
              "      <td>200.0</td>\n",
              "      <td>0.0</td>\n",
              "      <td>100.0</td>\n",
              "      <td>8.0</td>\n",
              "      <td>30.0</td>\n",
              "      <td>0</td>\n",
              "      <td>0</td>\n",
              "      <td>1</td>\n",
              "      <td>0</td>\n",
              "      <td>0</td>\n",
              "      <td>0</td>\n",
              "      <td>1</td>\n",
              "      <td>1</td>\n",
              "      <td>5.0</td>\n",
              "    </tr>\n",
              "  </tbody>\n",
              "</table>\n",
              "<p>711652 rows × 18 columns</p>\n",
              "</div>\n",
              "      <button class=\"colab-df-convert\" onclick=\"convertToInteractive('df-a806c3b7-5170-40fb-9905-6614d191902e')\"\n",
              "              title=\"Convert this dataframe to an interactive table.\"\n",
              "              style=\"display:none;\">\n",
              "        \n",
              "  <svg xmlns=\"http://www.w3.org/2000/svg\" height=\"24px\"viewBox=\"0 0 24 24\"\n",
              "       width=\"24px\">\n",
              "    <path d=\"M0 0h24v24H0V0z\" fill=\"none\"/>\n",
              "    <path d=\"M18.56 5.44l.94 2.06.94-2.06 2.06-.94-2.06-.94-.94-2.06-.94 2.06-2.06.94zm-11 1L8.5 8.5l.94-2.06 2.06-.94-2.06-.94L8.5 2.5l-.94 2.06-2.06.94zm10 10l.94 2.06.94-2.06 2.06-.94-2.06-.94-.94-2.06-.94 2.06-2.06.94z\"/><path d=\"M17.41 7.96l-1.37-1.37c-.4-.4-.92-.59-1.43-.59-.52 0-1.04.2-1.43.59L10.3 9.45l-7.72 7.72c-.78.78-.78 2.05 0 2.83L4 21.41c.39.39.9.59 1.41.59.51 0 1.02-.2 1.41-.59l7.78-7.78 2.81-2.81c.8-.78.8-2.07 0-2.86zM5.41 20L4 18.59l7.72-7.72 1.47 1.35L5.41 20z\"/>\n",
              "  </svg>\n",
              "      </button>\n",
              "      \n",
              "  <style>\n",
              "    .colab-df-container {\n",
              "      display:flex;\n",
              "      flex-wrap:wrap;\n",
              "      gap: 12px;\n",
              "    }\n",
              "\n",
              "    .colab-df-convert {\n",
              "      background-color: #E8F0FE;\n",
              "      border: none;\n",
              "      border-radius: 50%;\n",
              "      cursor: pointer;\n",
              "      display: none;\n",
              "      fill: #1967D2;\n",
              "      height: 32px;\n",
              "      padding: 0 0 0 0;\n",
              "      width: 32px;\n",
              "    }\n",
              "\n",
              "    .colab-df-convert:hover {\n",
              "      background-color: #E2EBFA;\n",
              "      box-shadow: 0px 1px 2px rgba(60, 64, 67, 0.3), 0px 1px 3px 1px rgba(60, 64, 67, 0.15);\n",
              "      fill: #174EA6;\n",
              "    }\n",
              "\n",
              "    [theme=dark] .colab-df-convert {\n",
              "      background-color: #3B4455;\n",
              "      fill: #D2E3FC;\n",
              "    }\n",
              "\n",
              "    [theme=dark] .colab-df-convert:hover {\n",
              "      background-color: #434B5C;\n",
              "      box-shadow: 0px 1px 3px 1px rgba(0, 0, 0, 0.15);\n",
              "      filter: drop-shadow(0px 1px 2px rgba(0, 0, 0, 0.3));\n",
              "      fill: #FFFFFF;\n",
              "    }\n",
              "  </style>\n",
              "\n",
              "      <script>\n",
              "        const buttonEl =\n",
              "          document.querySelector('#df-a806c3b7-5170-40fb-9905-6614d191902e button.colab-df-convert');\n",
              "        buttonEl.style.display =\n",
              "          google.colab.kernel.accessAllowed ? 'block' : 'none';\n",
              "\n",
              "        async function convertToInteractive(key) {\n",
              "          const element = document.querySelector('#df-a806c3b7-5170-40fb-9905-6614d191902e');\n",
              "          const dataTable =\n",
              "            await google.colab.kernel.invokeFunction('convertToInteractive',\n",
              "                                                     [key], {});\n",
              "          if (!dataTable) return;\n",
              "\n",
              "          const docLinkHtml = 'Like what you see? Visit the ' +\n",
              "            '<a target=\"_blank\" href=https://colab.research.google.com/notebooks/data_table.ipynb>data table notebook</a>'\n",
              "            + ' to learn more about interactive tables.';\n",
              "          element.innerHTML = '';\n",
              "          dataTable['output_type'] = 'display_data';\n",
              "          await google.colab.output.renderOutput(dataTable, element);\n",
              "          const docLink = document.createElement('div');\n",
              "          docLink.innerHTML = docLinkHtml;\n",
              "          element.appendChild(docLink);\n",
              "        }\n",
              "      </script>\n",
              "    </div>\n",
              "  </div>\n",
              "  "
            ],
            "text/plain": [
              "        first_mile_distance  last_mile_distance  ...  Day_Saturday  timeofday\n",
              "0                       0.0                 4.0  ...             0        5.0\n",
              "1                       2.0                 4.0  ...             0        7.0\n",
              "2                       0.0                 0.0  ...             0        3.0\n",
              "3                       0.0                 4.0  ...             0        7.0\n",
              "4                       1.0                 1.0  ...             0        1.0\n",
              "...                     ...                 ...  ...           ...        ...\n",
              "711647                  1.0                 3.0  ...             0        3.0\n",
              "711648                  1.0                 5.0  ...             0        8.0\n",
              "711649                  1.0                 4.0  ...             0        7.0\n",
              "711650                  0.0                 2.0  ...             0        4.0\n",
              "711651                  0.0                 4.0  ...             1        5.0\n",
              "\n",
              "[711652 rows x 18 columns]"
            ]
          },
          "metadata": {},
          "execution_count": 145
        }
      ]
    },
    {
      "cell_type": "code",
      "source": [
        "X_test"
      ],
      "metadata": {
        "colab": {
          "base_uri": "https://localhost:8080/",
          "height": 522
        },
        "id": "ZLRlP9AQx-cm",
        "outputId": "d72d1b7b-56f7-4392-fc17-c8adfb430aeb"
      },
      "execution_count": null,
      "outputs": [
        {
          "output_type": "execute_result",
          "data": {
            "text/html": [
              "\n",
              "  <div id=\"df-e1cba9d3-9dcc-4097-a326-67ec2ff5e6e6\">\n",
              "    <div class=\"colab-df-container\">\n",
              "      <div>\n",
              "<style scoped>\n",
              "    .dataframe tbody tr th:only-of-type {\n",
              "        vertical-align: middle;\n",
              "    }\n",
              "\n",
              "    .dataframe tbody tr th {\n",
              "        vertical-align: top;\n",
              "    }\n",
              "\n",
              "    .dataframe thead th {\n",
              "        text-align: right;\n",
              "    }\n",
              "</style>\n",
              "<table border=\"1\" class=\"dataframe\">\n",
              "  <thead>\n",
              "    <tr style=\"text-align: right;\">\n",
              "      <th></th>\n",
              "      <th>first_mile_distance</th>\n",
              "      <th>last_mile_distance</th>\n",
              "      <th>alloted_orders</th>\n",
              "      <th>undelivered_orders</th>\n",
              "      <th>lifetime_order_count</th>\n",
              "      <th>reassigned_order</th>\n",
              "      <th>session_time</th>\n",
              "      <th>A-A_s</th>\n",
              "      <th>O-A_s</th>\n",
              "      <th>reassignment_method_auto</th>\n",
              "      <th>reassignment_method_manual</th>\n",
              "      <th>reassignment_method_nan</th>\n",
              "      <th>reassignment_reason_Auto Reassignment basis Inaction. coreengine.tasks.repush_order_to_aa_bucket</th>\n",
              "      <th>reassignment_reason_Reassign</th>\n",
              "      <th>reassignment_reason_Reassignment Request from SE portal.</th>\n",
              "      <th>reassignment_reason_nan</th>\n",
              "      <th>Day_Saturday</th>\n",
              "      <th>timeofday</th>\n",
              "    </tr>\n",
              "  </thead>\n",
              "  <tbody>\n",
              "    <tr>\n",
              "      <th>163410</th>\n",
              "      <td>1.0</td>\n",
              "      <td>0.0</td>\n",
              "      <td>300.0</td>\n",
              "      <td>4.0</td>\n",
              "      <td>700.0</td>\n",
              "      <td>0.0</td>\n",
              "      <td>70.0</td>\n",
              "      <td>10.0</td>\n",
              "      <td>10.0</td>\n",
              "      <td>0</td>\n",
              "      <td>0</td>\n",
              "      <td>1</td>\n",
              "      <td>0</td>\n",
              "      <td>0</td>\n",
              "      <td>0</td>\n",
              "      <td>1</td>\n",
              "      <td>1</td>\n",
              "      <td>3.0</td>\n",
              "    </tr>\n",
              "    <tr>\n",
              "      <th>344013</th>\n",
              "      <td>0.0</td>\n",
              "      <td>1.0</td>\n",
              "      <td>100.0</td>\n",
              "      <td>0.0</td>\n",
              "      <td>700.0</td>\n",
              "      <td>0.0</td>\n",
              "      <td>600.0</td>\n",
              "      <td>20.0</td>\n",
              "      <td>1.0</td>\n",
              "      <td>0</td>\n",
              "      <td>0</td>\n",
              "      <td>1</td>\n",
              "      <td>0</td>\n",
              "      <td>0</td>\n",
              "      <td>0</td>\n",
              "      <td>1</td>\n",
              "      <td>0</td>\n",
              "      <td>7.0</td>\n",
              "    </tr>\n",
              "    <tr>\n",
              "      <th>267470</th>\n",
              "      <td>0.0</td>\n",
              "      <td>2.0</td>\n",
              "      <td>0.0</td>\n",
              "      <td>0.0</td>\n",
              "      <td>60.0</td>\n",
              "      <td>0.0</td>\n",
              "      <td>100.0</td>\n",
              "      <td>60.0</td>\n",
              "      <td>20.0</td>\n",
              "      <td>0</td>\n",
              "      <td>0</td>\n",
              "      <td>1</td>\n",
              "      <td>0</td>\n",
              "      <td>0</td>\n",
              "      <td>0</td>\n",
              "      <td>1</td>\n",
              "      <td>0</td>\n",
              "      <td>8.0</td>\n",
              "    </tr>\n",
              "    <tr>\n",
              "      <th>348671</th>\n",
              "      <td>1.0</td>\n",
              "      <td>1.0</td>\n",
              "      <td>10.0</td>\n",
              "      <td>0.0</td>\n",
              "      <td>200.0</td>\n",
              "      <td>0.0</td>\n",
              "      <td>100.0</td>\n",
              "      <td>10.0</td>\n",
              "      <td>2.0</td>\n",
              "      <td>0</td>\n",
              "      <td>0</td>\n",
              "      <td>1</td>\n",
              "      <td>0</td>\n",
              "      <td>0</td>\n",
              "      <td>0</td>\n",
              "      <td>1</td>\n",
              "      <td>0</td>\n",
              "      <td>8.0</td>\n",
              "    </tr>\n",
              "    <tr>\n",
              "      <th>365063</th>\n",
              "      <td>0.0</td>\n",
              "      <td>2.0</td>\n",
              "      <td>200.0</td>\n",
              "      <td>5.0</td>\n",
              "      <td>2000.0</td>\n",
              "      <td>0.0</td>\n",
              "      <td>200.0</td>\n",
              "      <td>5.0</td>\n",
              "      <td>50.0</td>\n",
              "      <td>0</td>\n",
              "      <td>0</td>\n",
              "      <td>1</td>\n",
              "      <td>0</td>\n",
              "      <td>0</td>\n",
              "      <td>0</td>\n",
              "      <td>1</td>\n",
              "      <td>0</td>\n",
              "      <td>4.0</td>\n",
              "    </tr>\n",
              "    <tr>\n",
              "      <th>...</th>\n",
              "      <td>...</td>\n",
              "      <td>...</td>\n",
              "      <td>...</td>\n",
              "      <td>...</td>\n",
              "      <td>...</td>\n",
              "      <td>...</td>\n",
              "      <td>...</td>\n",
              "      <td>...</td>\n",
              "      <td>...</td>\n",
              "      <td>...</td>\n",
              "      <td>...</td>\n",
              "      <td>...</td>\n",
              "      <td>...</td>\n",
              "      <td>...</td>\n",
              "      <td>...</td>\n",
              "      <td>...</td>\n",
              "      <td>...</td>\n",
              "      <td>...</td>\n",
              "    </tr>\n",
              "    <tr>\n",
              "      <th>59717</th>\n",
              "      <td>0.0</td>\n",
              "      <td>3.0</td>\n",
              "      <td>30.0</td>\n",
              "      <td>0.0</td>\n",
              "      <td>100.0</td>\n",
              "      <td>0.0</td>\n",
              "      <td>80.0</td>\n",
              "      <td>60.0</td>\n",
              "      <td>2.0</td>\n",
              "      <td>0</td>\n",
              "      <td>0</td>\n",
              "      <td>1</td>\n",
              "      <td>0</td>\n",
              "      <td>0</td>\n",
              "      <td>0</td>\n",
              "      <td>1</td>\n",
              "      <td>0</td>\n",
              "      <td>7.0</td>\n",
              "    </tr>\n",
              "    <tr>\n",
              "      <th>425794</th>\n",
              "      <td>0.0</td>\n",
              "      <td>5.0</td>\n",
              "      <td>70.0</td>\n",
              "      <td>2.0</td>\n",
              "      <td>300.0</td>\n",
              "      <td>0.0</td>\n",
              "      <td>500.0</td>\n",
              "      <td>6.0</td>\n",
              "      <td>10.0</td>\n",
              "      <td>0</td>\n",
              "      <td>0</td>\n",
              "      <td>1</td>\n",
              "      <td>0</td>\n",
              "      <td>0</td>\n",
              "      <td>0</td>\n",
              "      <td>1</td>\n",
              "      <td>0</td>\n",
              "      <td>7.0</td>\n",
              "    </tr>\n",
              "    <tr>\n",
              "      <th>36286</th>\n",
              "      <td>1.0</td>\n",
              "      <td>1.0</td>\n",
              "      <td>300.0</td>\n",
              "      <td>0.0</td>\n",
              "      <td>1000.0</td>\n",
              "      <td>0.0</td>\n",
              "      <td>500.0</td>\n",
              "      <td>7.0</td>\n",
              "      <td>10.0</td>\n",
              "      <td>0</td>\n",
              "      <td>0</td>\n",
              "      <td>1</td>\n",
              "      <td>0</td>\n",
              "      <td>0</td>\n",
              "      <td>0</td>\n",
              "      <td>1</td>\n",
              "      <td>0</td>\n",
              "      <td>8.0</td>\n",
              "    </tr>\n",
              "    <tr>\n",
              "      <th>412359</th>\n",
              "      <td>1.0</td>\n",
              "      <td>6.0</td>\n",
              "      <td>100.0</td>\n",
              "      <td>0.0</td>\n",
              "      <td>3000.0</td>\n",
              "      <td>0.0</td>\n",
              "      <td>300.0</td>\n",
              "      <td>8.0</td>\n",
              "      <td>40.0</td>\n",
              "      <td>0</td>\n",
              "      <td>0</td>\n",
              "      <td>1</td>\n",
              "      <td>0</td>\n",
              "      <td>0</td>\n",
              "      <td>0</td>\n",
              "      <td>1</td>\n",
              "      <td>0</td>\n",
              "      <td>6.0</td>\n",
              "    </tr>\n",
              "    <tr>\n",
              "      <th>71197</th>\n",
              "      <td>1.0</td>\n",
              "      <td>7.0</td>\n",
              "      <td>10.0</td>\n",
              "      <td>0.0</td>\n",
              "      <td>90.0</td>\n",
              "      <td>0.0</td>\n",
              "      <td>400.0</td>\n",
              "      <td>100.0</td>\n",
              "      <td>1.0</td>\n",
              "      <td>0</td>\n",
              "      <td>0</td>\n",
              "      <td>1</td>\n",
              "      <td>0</td>\n",
              "      <td>0</td>\n",
              "      <td>0</td>\n",
              "      <td>1</td>\n",
              "      <td>0</td>\n",
              "      <td>8.0</td>\n",
              "    </tr>\n",
              "  </tbody>\n",
              "</table>\n",
              "<p>90000 rows × 18 columns</p>\n",
              "</div>\n",
              "      <button class=\"colab-df-convert\" onclick=\"convertToInteractive('df-e1cba9d3-9dcc-4097-a326-67ec2ff5e6e6')\"\n",
              "              title=\"Convert this dataframe to an interactive table.\"\n",
              "              style=\"display:none;\">\n",
              "        \n",
              "  <svg xmlns=\"http://www.w3.org/2000/svg\" height=\"24px\"viewBox=\"0 0 24 24\"\n",
              "       width=\"24px\">\n",
              "    <path d=\"M0 0h24v24H0V0z\" fill=\"none\"/>\n",
              "    <path d=\"M18.56 5.44l.94 2.06.94-2.06 2.06-.94-2.06-.94-.94-2.06-.94 2.06-2.06.94zm-11 1L8.5 8.5l.94-2.06 2.06-.94-2.06-.94L8.5 2.5l-.94 2.06-2.06.94zm10 10l.94 2.06.94-2.06 2.06-.94-2.06-.94-.94-2.06-.94 2.06-2.06.94z\"/><path d=\"M17.41 7.96l-1.37-1.37c-.4-.4-.92-.59-1.43-.59-.52 0-1.04.2-1.43.59L10.3 9.45l-7.72 7.72c-.78.78-.78 2.05 0 2.83L4 21.41c.39.39.9.59 1.41.59.51 0 1.02-.2 1.41-.59l7.78-7.78 2.81-2.81c.8-.78.8-2.07 0-2.86zM5.41 20L4 18.59l7.72-7.72 1.47 1.35L5.41 20z\"/>\n",
              "  </svg>\n",
              "      </button>\n",
              "      \n",
              "  <style>\n",
              "    .colab-df-container {\n",
              "      display:flex;\n",
              "      flex-wrap:wrap;\n",
              "      gap: 12px;\n",
              "    }\n",
              "\n",
              "    .colab-df-convert {\n",
              "      background-color: #E8F0FE;\n",
              "      border: none;\n",
              "      border-radius: 50%;\n",
              "      cursor: pointer;\n",
              "      display: none;\n",
              "      fill: #1967D2;\n",
              "      height: 32px;\n",
              "      padding: 0 0 0 0;\n",
              "      width: 32px;\n",
              "    }\n",
              "\n",
              "    .colab-df-convert:hover {\n",
              "      background-color: #E2EBFA;\n",
              "      box-shadow: 0px 1px 2px rgba(60, 64, 67, 0.3), 0px 1px 3px 1px rgba(60, 64, 67, 0.15);\n",
              "      fill: #174EA6;\n",
              "    }\n",
              "\n",
              "    [theme=dark] .colab-df-convert {\n",
              "      background-color: #3B4455;\n",
              "      fill: #D2E3FC;\n",
              "    }\n",
              "\n",
              "    [theme=dark] .colab-df-convert:hover {\n",
              "      background-color: #434B5C;\n",
              "      box-shadow: 0px 1px 3px 1px rgba(0, 0, 0, 0.15);\n",
              "      filter: drop-shadow(0px 1px 2px rgba(0, 0, 0, 0.3));\n",
              "      fill: #FFFFFF;\n",
              "    }\n",
              "  </style>\n",
              "\n",
              "      <script>\n",
              "        const buttonEl =\n",
              "          document.querySelector('#df-e1cba9d3-9dcc-4097-a326-67ec2ff5e6e6 button.colab-df-convert');\n",
              "        buttonEl.style.display =\n",
              "          google.colab.kernel.accessAllowed ? 'block' : 'none';\n",
              "\n",
              "        async function convertToInteractive(key) {\n",
              "          const element = document.querySelector('#df-e1cba9d3-9dcc-4097-a326-67ec2ff5e6e6');\n",
              "          const dataTable =\n",
              "            await google.colab.kernel.invokeFunction('convertToInteractive',\n",
              "                                                     [key], {});\n",
              "          if (!dataTable) return;\n",
              "\n",
              "          const docLinkHtml = 'Like what you see? Visit the ' +\n",
              "            '<a target=\"_blank\" href=https://colab.research.google.com/notebooks/data_table.ipynb>data table notebook</a>'\n",
              "            + ' to learn more about interactive tables.';\n",
              "          element.innerHTML = '';\n",
              "          dataTable['output_type'] = 'display_data';\n",
              "          await google.colab.output.renderOutput(dataTable, element);\n",
              "          const docLink = document.createElement('div');\n",
              "          docLink.innerHTML = docLinkHtml;\n",
              "          element.appendChild(docLink);\n",
              "        }\n",
              "      </script>\n",
              "    </div>\n",
              "  </div>\n",
              "  "
            ],
            "text/plain": [
              "        first_mile_distance  last_mile_distance  ...  Day_Saturday  timeofday\n",
              "163410                  1.0                 0.0  ...             1        3.0\n",
              "344013                  0.0                 1.0  ...             0        7.0\n",
              "267470                  0.0                 2.0  ...             0        8.0\n",
              "348671                  1.0                 1.0  ...             0        8.0\n",
              "365063                  0.0                 2.0  ...             0        4.0\n",
              "...                     ...                 ...  ...           ...        ...\n",
              "59717                   0.0                 3.0  ...             0        7.0\n",
              "425794                  0.0                 5.0  ...             0        7.0\n",
              "36286                   1.0                 1.0  ...             0        8.0\n",
              "412359                  1.0                 6.0  ...             0        6.0\n",
              "71197                   1.0                 7.0  ...             0        8.0\n",
              "\n",
              "[90000 rows x 18 columns]"
            ]
          },
          "metadata": {},
          "execution_count": 146
        }
      ]
    },
    {
      "cell_type": "markdown",
      "source": [
        "TestCSV"
      ],
      "metadata": {
        "id": "riCjNDr8vPZY"
      }
    },
    {
      "cell_type": "code",
      "source": [
        "dftest1 = dftest.copy()"
      ],
      "metadata": {
        "id": "TOw0Wm_CGh6G"
      },
      "execution_count": null,
      "outputs": []
    },
    {
      "cell_type": "code",
      "source": [
        "dftest1['hack1'] = 0"
      ],
      "metadata": {
        "id": "EIpdSvYmprkJ"
      },
      "execution_count": null,
      "outputs": []
    },
    {
      "cell_type": "code",
      "source": [
        "#dftest1['hack1'] = np.where(dftest1['lifetime_order_count']==0, 1, dftest1['hack1'])\n",
        "dftest1['hack1'] = np.where(dftest1['A-A_s']<=0, 1, dftest1['hack1'])\n",
        "dftest1['hack1'] = np.where(dftest1['A-A_s']>=1000,1, dftest1['hack1'])"
      ],
      "metadata": {
        "id": "R3BvmPhMqI9f"
      },
      "execution_count": null,
      "outputs": []
    },
    {
      "cell_type": "code",
      "source": [
        "dftest1['hack1'].value_counts()"
      ],
      "metadata": {
        "colab": {
          "base_uri": "https://localhost:8080/"
        },
        "id": "XRmJCbqfqn98",
        "outputId": "ed091d63-5ccf-47a9-89b8-d7c2aeae8507"
      },
      "execution_count": null,
      "outputs": [
        {
          "output_type": "execute_result",
          "data": {
            "text/plain": [
              "0    144765\n",
              "1        79\n",
              "Name: hack1, dtype: int64"
            ]
          },
          "metadata": {},
          "execution_count": 63
        }
      ]
    },
    {
      "cell_type": "code",
      "source": [
        "x = predictionstest + dftest1['hack1']"
      ],
      "metadata": {
        "id": "m077WD9OoqdL"
      },
      "execution_count": null,
      "outputs": []
    },
    {
      "cell_type": "code",
      "source": [
        "x.value_counts()"
      ],
      "metadata": {
        "colab": {
          "base_uri": "https://localhost:8080/"
        },
        "id": "3fJPmE10oqik",
        "outputId": "ce50537f-f4f8-4d6a-a375-541158b0b97b"
      },
      "execution_count": null,
      "outputs": [
        {
          "output_type": "execute_result",
          "data": {
            "text/plain": [
              "0.0    140042\n",
              "1.0      4383\n",
              "2.0       419\n",
              "Name: hack1, dtype: int64"
            ]
          },
          "metadata": {},
          "execution_count": 414
        }
      ]
    },
    {
      "cell_type": "code",
      "source": [
        "dftestfromhack = dftestfromhack[['order_id']]\n",
        "dftestfromhack['cancelled'] = 1\n",
        "dftestfrommodel = dftestfrommodel[['order_id']]"
      ],
      "metadata": {
        "id": "dosXVL6jJNp7"
      },
      "execution_count": null,
      "outputs": []
    },
    {
      "cell_type": "code",
      "source": [
        "dflintestoid = dftest[['order_id']]"
      ],
      "metadata": {
        "id": "mPRJgk21mcFq"
      },
      "execution_count": null,
      "outputs": []
    },
    {
      "cell_type": "code",
      "source": [
        "dflintestoid['cancelled'] = 0"
      ],
      "metadata": {
        "id": "QZwHXz-Tgcon"
      },
      "execution_count": null,
      "outputs": []
    },
    {
      "cell_type": "code",
      "source": [
        "dflintestoid['hack1'] = np.where(dftest1['lifetime_order_count']==0, 1, dftest1['hack1'])"
      ],
      "metadata": {
        "id": "ClJ2kCQYgcef"
      },
      "execution_count": null,
      "outputs": []
    },
    {
      "cell_type": "code",
      "source": [
        "## MAKE X_testcsv ready"
      ],
      "metadata": {
        "id": "JGZNmtBKPc5Q"
      },
      "execution_count": null,
      "outputs": []
    },
    {
      "cell_type": "code",
      "source": [
        "dftestacceptedDT"
      ],
      "metadata": {
        "id": "ggjZRjQbPdBk"
      },
      "execution_count": null,
      "outputs": []
    },
    {
      "cell_type": "code",
      "source": [
        "X_testcsv = dfsimpletest1\n",
        "#X_testcsv = dftestacceptedDT.drop(columns = ['undelivered_orders'])"
      ],
      "metadata": {
        "id": "X1RIe8oFsyWm"
      },
      "execution_count": null,
      "outputs": []
    },
    {
      "cell_type": "code",
      "source": [
        "X_testcsv.shape"
      ],
      "metadata": {
        "colab": {
          "base_uri": "https://localhost:8080/"
        },
        "id": "omqyIMiytbzR",
        "outputId": "b19524fb-c8c4-4d6b-d63f-8a951dffb641"
      },
      "execution_count": null,
      "outputs": [
        {
          "output_type": "execute_result",
          "data": {
            "text/plain": [
              "(144844, 15)"
            ]
          },
          "metadata": {},
          "execution_count": 218
        }
      ]
    },
    {
      "cell_type": "code",
      "source": [
        "#testcsvpreds = 0\n",
        "testcsvpreds = dtree.predict(X_testcsv)\n",
        "#testcsvpreds = np.round(testcsvpreds)"
      ],
      "metadata": {
        "id": "qOQ-yfecMzd4"
      },
      "execution_count": null,
      "outputs": []
    },
    {
      "cell_type": "code",
      "source": [
        "pd.Series(testcsvpreds).value_counts()"
      ],
      "metadata": {
        "colab": {
          "base_uri": "https://localhost:8080/"
        },
        "id": "pR1SDY1wqtF2",
        "outputId": "064ebead-0dc6-4730-cb08-c60f73a5e70b"
      },
      "execution_count": null,
      "outputs": [
        {
          "output_type": "execute_result",
          "data": {
            "text/plain": [
              "0.0    130416\n",
              "1.0     14428\n",
              "dtype: int64"
            ]
          },
          "metadata": {},
          "execution_count": 220
        }
      ]
    },
    {
      "cell_type": "code",
      "source": [
        "dflintestoid['cancelled'] = dftest1['hack1'] #testcsvpreds"
      ],
      "metadata": {
        "id": "qAPxl8xOnvYJ"
      },
      "execution_count": null,
      "outputs": []
    },
    {
      "cell_type": "code",
      "source": [
        "dflintestoid.isnull().values.sum()"
      ],
      "metadata": {
        "id": "95-Fyr_Pvo-5",
        "colab": {
          "base_uri": "https://localhost:8080/"
        },
        "outputId": "f680620e-a174-459e-f450-c6ba58c2b17a"
      },
      "execution_count": null,
      "outputs": [
        {
          "output_type": "execute_result",
          "data": {
            "text/plain": [
              "0"
            ]
          },
          "metadata": {},
          "execution_count": 66
        }
      ]
    },
    {
      "cell_type": "code",
      "source": [
        "result = dflintestoid\n",
        "result"
      ],
      "metadata": {
        "colab": {
          "base_uri": "https://localhost:8080/",
          "height": 423
        },
        "id": "iZR5wYUKrT6W",
        "outputId": "6a14f537-0ad0-4043-8490-dd9b06232846"
      },
      "execution_count": null,
      "outputs": [
        {
          "output_type": "execute_result",
          "data": {
            "text/html": [
              "\n",
              "  <div id=\"df-a4687074-b37b-420e-8c8f-ac19316d12e7\">\n",
              "    <div class=\"colab-df-container\">\n",
              "      <div>\n",
              "<style scoped>\n",
              "    .dataframe tbody tr th:only-of-type {\n",
              "        vertical-align: middle;\n",
              "    }\n",
              "\n",
              "    .dataframe tbody tr th {\n",
              "        vertical-align: top;\n",
              "    }\n",
              "\n",
              "    .dataframe thead th {\n",
              "        text-align: right;\n",
              "    }\n",
              "</style>\n",
              "<table border=\"1\" class=\"dataframe\">\n",
              "  <thead>\n",
              "    <tr style=\"text-align: right;\">\n",
              "      <th></th>\n",
              "      <th>order_id</th>\n",
              "      <th>cancelled</th>\n",
              "    </tr>\n",
              "  </thead>\n",
              "  <tbody>\n",
              "    <tr>\n",
              "      <th>0</th>\n",
              "      <td>130231</td>\n",
              "      <td>0</td>\n",
              "    </tr>\n",
              "    <tr>\n",
              "      <th>1</th>\n",
              "      <td>130232</td>\n",
              "      <td>0</td>\n",
              "    </tr>\n",
              "    <tr>\n",
              "      <th>2</th>\n",
              "      <td>130233</td>\n",
              "      <td>0</td>\n",
              "    </tr>\n",
              "    <tr>\n",
              "      <th>3</th>\n",
              "      <td>130234</td>\n",
              "      <td>0</td>\n",
              "    </tr>\n",
              "    <tr>\n",
              "      <th>4</th>\n",
              "      <td>130235</td>\n",
              "      <td>0</td>\n",
              "    </tr>\n",
              "    <tr>\n",
              "      <th>...</th>\n",
              "      <td>...</td>\n",
              "      <td>...</td>\n",
              "    </tr>\n",
              "    <tr>\n",
              "      <th>144839</th>\n",
              "      <td>41184</td>\n",
              "      <td>0</td>\n",
              "    </tr>\n",
              "    <tr>\n",
              "      <th>144840</th>\n",
              "      <td>41185</td>\n",
              "      <td>0</td>\n",
              "    </tr>\n",
              "    <tr>\n",
              "      <th>144841</th>\n",
              "      <td>41186</td>\n",
              "      <td>0</td>\n",
              "    </tr>\n",
              "    <tr>\n",
              "      <th>144842</th>\n",
              "      <td>41187</td>\n",
              "      <td>0</td>\n",
              "    </tr>\n",
              "    <tr>\n",
              "      <th>144843</th>\n",
              "      <td>41188</td>\n",
              "      <td>0</td>\n",
              "    </tr>\n",
              "  </tbody>\n",
              "</table>\n",
              "<p>144844 rows × 2 columns</p>\n",
              "</div>\n",
              "      <button class=\"colab-df-convert\" onclick=\"convertToInteractive('df-a4687074-b37b-420e-8c8f-ac19316d12e7')\"\n",
              "              title=\"Convert this dataframe to an interactive table.\"\n",
              "              style=\"display:none;\">\n",
              "        \n",
              "  <svg xmlns=\"http://www.w3.org/2000/svg\" height=\"24px\"viewBox=\"0 0 24 24\"\n",
              "       width=\"24px\">\n",
              "    <path d=\"M0 0h24v24H0V0z\" fill=\"none\"/>\n",
              "    <path d=\"M18.56 5.44l.94 2.06.94-2.06 2.06-.94-2.06-.94-.94-2.06-.94 2.06-2.06.94zm-11 1L8.5 8.5l.94-2.06 2.06-.94-2.06-.94L8.5 2.5l-.94 2.06-2.06.94zm10 10l.94 2.06.94-2.06 2.06-.94-2.06-.94-.94-2.06-.94 2.06-2.06.94z\"/><path d=\"M17.41 7.96l-1.37-1.37c-.4-.4-.92-.59-1.43-.59-.52 0-1.04.2-1.43.59L10.3 9.45l-7.72 7.72c-.78.78-.78 2.05 0 2.83L4 21.41c.39.39.9.59 1.41.59.51 0 1.02-.2 1.41-.59l7.78-7.78 2.81-2.81c.8-.78.8-2.07 0-2.86zM5.41 20L4 18.59l7.72-7.72 1.47 1.35L5.41 20z\"/>\n",
              "  </svg>\n",
              "      </button>\n",
              "      \n",
              "  <style>\n",
              "    .colab-df-container {\n",
              "      display:flex;\n",
              "      flex-wrap:wrap;\n",
              "      gap: 12px;\n",
              "    }\n",
              "\n",
              "    .colab-df-convert {\n",
              "      background-color: #E8F0FE;\n",
              "      border: none;\n",
              "      border-radius: 50%;\n",
              "      cursor: pointer;\n",
              "      display: none;\n",
              "      fill: #1967D2;\n",
              "      height: 32px;\n",
              "      padding: 0 0 0 0;\n",
              "      width: 32px;\n",
              "    }\n",
              "\n",
              "    .colab-df-convert:hover {\n",
              "      background-color: #E2EBFA;\n",
              "      box-shadow: 0px 1px 2px rgba(60, 64, 67, 0.3), 0px 1px 3px 1px rgba(60, 64, 67, 0.15);\n",
              "      fill: #174EA6;\n",
              "    }\n",
              "\n",
              "    [theme=dark] .colab-df-convert {\n",
              "      background-color: #3B4455;\n",
              "      fill: #D2E3FC;\n",
              "    }\n",
              "\n",
              "    [theme=dark] .colab-df-convert:hover {\n",
              "      background-color: #434B5C;\n",
              "      box-shadow: 0px 1px 3px 1px rgba(0, 0, 0, 0.15);\n",
              "      filter: drop-shadow(0px 1px 2px rgba(0, 0, 0, 0.3));\n",
              "      fill: #FFFFFF;\n",
              "    }\n",
              "  </style>\n",
              "\n",
              "      <script>\n",
              "        const buttonEl =\n",
              "          document.querySelector('#df-a4687074-b37b-420e-8c8f-ac19316d12e7 button.colab-df-convert');\n",
              "        buttonEl.style.display =\n",
              "          google.colab.kernel.accessAllowed ? 'block' : 'none';\n",
              "\n",
              "        async function convertToInteractive(key) {\n",
              "          const element = document.querySelector('#df-a4687074-b37b-420e-8c8f-ac19316d12e7');\n",
              "          const dataTable =\n",
              "            await google.colab.kernel.invokeFunction('convertToInteractive',\n",
              "                                                     [key], {});\n",
              "          if (!dataTable) return;\n",
              "\n",
              "          const docLinkHtml = 'Like what you see? Visit the ' +\n",
              "            '<a target=\"_blank\" href=https://colab.research.google.com/notebooks/data_table.ipynb>data table notebook</a>'\n",
              "            + ' to learn more about interactive tables.';\n",
              "          element.innerHTML = '';\n",
              "          dataTable['output_type'] = 'display_data';\n",
              "          await google.colab.output.renderOutput(dataTable, element);\n",
              "          const docLink = document.createElement('div');\n",
              "          docLink.innerHTML = docLinkHtml;\n",
              "          element.appendChild(docLink);\n",
              "        }\n",
              "      </script>\n",
              "    </div>\n",
              "  </div>\n",
              "  "
            ],
            "text/plain": [
              "        order_id  cancelled\n",
              "0         130231          0\n",
              "1         130232          0\n",
              "2         130233          0\n",
              "3         130234          0\n",
              "4         130235          0\n",
              "...          ...        ...\n",
              "144839     41184          0\n",
              "144840     41185          0\n",
              "144841     41186          0\n",
              "144842     41187          0\n",
              "144843     41188          0\n",
              "\n",
              "[144844 rows x 2 columns]"
            ]
          },
          "metadata": {},
          "execution_count": 67
        }
      ]
    },
    {
      "cell_type": "code",
      "source": [
        "result = pd.concat([dftestfromhack,dftestfrommodel])\n",
        "result = result.sort_index()"
      ],
      "metadata": {
        "id": "4_BpRfGCNjhJ"
      },
      "execution_count": null,
      "outputs": []
    },
    {
      "cell_type": "code",
      "source": [
        "from google.colab import files"
      ],
      "metadata": {
        "id": "5NsT0jRJxIJK"
      },
      "execution_count": null,
      "outputs": []
    },
    {
      "cell_type": "code",
      "source": [
        "result.to_csv('whew.csv', encoding = 'utf-8-sig', index=False) \n",
        "files.download('whew.csv')"
      ],
      "metadata": {
        "colab": {
          "base_uri": "https://localhost:8080/",
          "height": 17
        },
        "id": "WfVb2QHZxKkp",
        "outputId": "2e5de18c-86d1-417e-a29d-d5009a4c6a5c"
      },
      "execution_count": null,
      "outputs": [
        {
          "output_type": "display_data",
          "data": {
            "application/javascript": [
              "\n",
              "    async function download(id, filename, size) {\n",
              "      if (!google.colab.kernel.accessAllowed) {\n",
              "        return;\n",
              "      }\n",
              "      const div = document.createElement('div');\n",
              "      const label = document.createElement('label');\n",
              "      label.textContent = `Downloading \"${filename}\": `;\n",
              "      div.appendChild(label);\n",
              "      const progress = document.createElement('progress');\n",
              "      progress.max = size;\n",
              "      div.appendChild(progress);\n",
              "      document.body.appendChild(div);\n",
              "\n",
              "      const buffers = [];\n",
              "      let downloaded = 0;\n",
              "\n",
              "      const channel = await google.colab.kernel.comms.open(id);\n",
              "      // Send a message to notify the kernel that we're ready.\n",
              "      channel.send({})\n",
              "\n",
              "      for await (const message of channel.messages) {\n",
              "        // Send a message to notify the kernel that we're ready.\n",
              "        channel.send({})\n",
              "        if (message.buffers) {\n",
              "          for (const buffer of message.buffers) {\n",
              "            buffers.push(buffer);\n",
              "            downloaded += buffer.byteLength;\n",
              "            progress.value = downloaded;\n",
              "          }\n",
              "        }\n",
              "      }\n",
              "      const blob = new Blob(buffers, {type: 'application/binary'});\n",
              "      const a = document.createElement('a');\n",
              "      a.href = window.URL.createObjectURL(blob);\n",
              "      a.download = filename;\n",
              "      div.appendChild(a);\n",
              "      a.click();\n",
              "      div.remove();\n",
              "    }\n",
              "  "
            ],
            "text/plain": [
              "<IPython.core.display.Javascript object>"
            ]
          },
          "metadata": {}
        },
        {
          "output_type": "display_data",
          "data": {
            "application/javascript": [
              "download(\"download_e3b1b30b-1f71-4d38-b164-3c402c3619ad\", \"whew.csv\", 1192508)"
            ],
            "text/plain": [
              "<IPython.core.display.Javascript object>"
            ]
          },
          "metadata": {}
        }
      ]
    }
  ]
}